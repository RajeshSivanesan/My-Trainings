{
 "cells": [
  {
   "cell_type": "markdown",
   "metadata": {},
   "source": [
    "### The questions for the exercises are given above the cells and the expected output is given below the cell. Please type the code inserting a new cell below the question because if you run the expected output cell the output would vanish! Happy learning! "
   ]
  },
  {
   "cell_type": "markdown",
   "metadata": {},
   "source": [
    "## 1. Write a Python program to find those numbers which are divisible by 7 and multiple of 5, between 1500 and 2700 (both included). "
   ]
  },
  {
   "cell_type": "code",
   "execution_count": 1,
   "metadata": {},
   "outputs": [
    {
     "name": "stdout",
     "output_type": "stream",
     "text": [
      "1505\n",
      "1540\n",
      "1575\n",
      "1610\n",
      "1645\n",
      "1680\n",
      "1715\n",
      "1750\n",
      "1785\n",
      "1820\n",
      "1855\n",
      "1890\n",
      "1925\n",
      "1960\n",
      "1995\n",
      "2030\n",
      "2065\n",
      "2100\n",
      "2135\n",
      "2170\n",
      "2205\n",
      "2240\n",
      "2275\n",
      "2310\n",
      "2345\n",
      "2380\n",
      "2415\n",
      "2450\n",
      "2485\n",
      "2520\n",
      "2555\n",
      "2590\n",
      "2625\n",
      "2660\n",
      "2695\n"
     ]
    }
   ],
   "source": [
    "i = 1500\n",
    "while i <= 2700:\n",
    "    if i % 5 == 0 and i % 7 == 0:\n",
    "        print(i)\n",
    "    i = i + 1"
   ]
  },
  {
   "cell_type": "markdown",
   "metadata": {},
   "source": [
    "## 2. Write a Python program to construct the following pattern, using a nested for loop.\n"
   ]
  },
  {
   "cell_type": "code",
   "execution_count": 12,
   "metadata": {},
   "outputs": [
    {
     "name": "stdout",
     "output_type": "stream",
     "text": [
      "\n",
      "\n",
      "\n",
      "*\n",
      "**\n",
      "***\n",
      "****\n",
      "*****\n",
      "****\n",
      "***\n",
      "**\n",
      "*\n",
      "\n"
     ]
    }
   ],
   "source": [
    "input_symbol = '*'\n",
    "times = 5\n",
    "print('\\n')\n",
    "for i in range(0, times+1):\n",
    "    print(input_symbol*i)\n",
    "    if times == i:\n",
    "        for i in reversed(range(times)):\n",
    "            print(input_symbol*i)"
   ]
  },
  {
   "cell_type": "markdown",
   "metadata": {},
   "source": [
    "## 3. Write a Python program to count the number of even and odd numbers from a series of numbers."
   ]
  },
  {
   "cell_type": "code",
   "execution_count": 17,
   "metadata": {},
   "outputs": [
    {
     "name": "stdout",
     "output_type": "stream",
     "text": [
      "Number of even numbers : 4\n",
      "Number of odd numbers : 5\n"
     ]
    }
   ],
   "source": [
    "i = 1\n",
    "even = 0\n",
    "odd = 0\n",
    "while i <= 9:\n",
    "    if i % 2 == 0:\n",
    "        even = even + 1\n",
    "    else:\n",
    "        odd = odd + 1\n",
    "    i = i + 1\n",
    "print(\"Number of even numbers : \" + str(even))\n",
    "print(\"Number of odd numbers : \" + str(odd))"
   ]
  },
  {
   "cell_type": "markdown",
   "metadata": {},
   "source": [
    "## 4. Write a Python program to find numbers between 100 and 400 (both included) where each digit of a number is an even number. The numbers obtained should be printed in a comma-separated sequence."
   ]
  },
  {
   "cell_type": "code",
   "execution_count": 5,
   "metadata": {},
   "outputs": [
    {
     "name": "stdout",
     "output_type": "stream",
     "text": [
      "200, 202, 204, 206, 208, 220, 222, 224, 226, 228, 240, 242, 244, 246, 248, 260, 262, 264, 266, 268, 280, 282, 284, 286, 288, 400\n"
     ]
    }
   ],
   "source": [
    "def all_even():\n",
    "    start = 100\n",
    "    end = 400\n",
    "    result = []    \n",
    "    while start <= end:\n",
    "        num_str = str(start)\n",
    "        for i in num_str:\n",
    "            if int(i) % 2 != 0:\n",
    "                break\n",
    "        else:\n",
    "            result.append(num_str)\n",
    "        start = start + 1\n",
    "    return result\n",
    "\n",
    "mylist = all_even()\n",
    "print(', '.join(mylist))"
   ]
  },
  {
   "cell_type": "markdown",
   "metadata": {},
   "source": [
    "## 5. Write a Python program to calculate a dog's age in dog's years. Go to the editor\n",
    "Note: For the first two years, a dog year is equal to 10.5 human years. After that, each dog year equals 4 human years."
   ]
  },
  {
   "cell_type": "code",
   "execution_count": 62,
   "metadata": {},
   "outputs": [
    {
     "name": "stdout",
     "output_type": "stream",
     "text": [
      "53.0\n"
     ]
    }
   ],
   "source": [
    "def dog_age(humanAge):\n",
    "    dog_age = 0\n",
    "    for i in range(0, humanAge):\n",
    "        if i == 1 or i == 2:\n",
    "            dog_age = dog_age + 10.5\n",
    "        else:\n",
    "            dog_age = dog_age + 4\n",
    "    return dog_age\n",
    "\n",
    "print(dog_age(10))"
   ]
  },
  {
   "cell_type": "code",
   "execution_count": null,
   "metadata": {},
   "outputs": [],
   "source": []
  },
  {
   "cell_type": "markdown",
   "metadata": {},
   "source": [
    "## 6. Write a Python function to find the Max of three numbers."
   ]
  },
  {
   "cell_type": "code",
   "execution_count": 11,
   "metadata": {},
   "outputs": [
    {
     "name": "stdout",
     "output_type": "stream",
     "text": [
      "-2\n"
     ]
    }
   ],
   "source": [
    "def largest_of_three_numbers(num1, num2, num3):\n",
    "    largest = 0\n",
    "    if (num1 >= num2 and num1 >= num3):\n",
    "        largest = num1\n",
    "    elif (num2 >= num3 and num2 >= num1):\n",
    "        largest = num2\n",
    "    else:\n",
    "        largest = num3\n",
    "    return largest\n",
    "\n",
    "print(largest_of_three_numbers(-3, -2, -5))   "
   ]
  },
  {
   "cell_type": "markdown",
   "metadata": {},
   "source": [
    "## 7. Write a Python function that takes a number as a parameter and check the number is prime or not."
   ]
  },
  {
   "cell_type": "code",
   "execution_count": 29,
   "metadata": {},
   "outputs": [
    {
     "name": "stdout",
     "output_type": "stream",
     "text": [
      "False\n"
     ]
    }
   ],
   "source": [
    "def isPrime(num):\n",
    "    if num >= 1:\n",
    "        for i in range(2, num):\n",
    "            if (num % i == 0):   \n",
    "                return \"False\"\n",
    "                break\n",
    "        else:\n",
    "            return \"True\"\n",
    "    else:\n",
    "        return \"False\"\n",
    "print(isPrime(32))"
   ]
  },
  {
   "cell_type": "markdown",
   "metadata": {},
   "source": [
    "## 8. Write a Python function that accepts a string and calculate the number of upper case letters and lower case letters. Go to the editor\n"
   ]
  },
  {
   "cell_type": "code",
   "execution_count": 71,
   "metadata": {},
   "outputs": [
    {
     "name": "stdout",
     "output_type": "stream",
     "text": [
      "The upper case count is : %s 1\n",
      "The lower case count is : %s 5\n"
     ]
    }
   ],
   "source": [
    "def cal_upper_lower_chars(str):\n",
    "    upper_case_count = 0\n",
    "    lower_case_count = 0\n",
    "    for i in str:\n",
    "        if i >= 'A' and i <= 'Z':\n",
    "            upper_case_count = upper_case_count + 1\n",
    "        else:\n",
    "            lower_case_count = lower_case_count + 1\n",
    "    print(\"The upper case count is : %s\", upper_case_count)\n",
    "    print(\"The lower case count is : %s\", lower_case_count)\n",
    "\n",
    "cal_upper_lower_chars(\"Rajesh\")"
   ]
  },
  {
   "cell_type": "markdown",
   "metadata": {},
   "source": [
    "## 9. Write a Python program to reverse a string. "
   ]
  },
  {
   "cell_type": "code",
   "execution_count": 43,
   "metadata": {},
   "outputs": [
    {
     "name": "stdout",
     "output_type": "stream",
     "text": [
      "The original string is: 1234abcd\n",
      "The reversed string is : dcba4321\n"
     ]
    }
   ],
   "source": [
    "def reverse_str(str):\n",
    "    print(\"The original string is: \" + sample_str)\n",
    "    index = len(sample_str) - 1\n",
    "    temp = []\n",
    "    while index >= 0:\n",
    "        temp.append(sample_str[index])\n",
    "        index = index -1\n",
    "    return temp\n",
    "result = reverse_str(\"1234abcs\")\n",
    "print(\"The reversed string is : \" + ''.join(temp))"
   ]
  },
  {
   "cell_type": "markdown",
   "metadata": {},
   "source": [
    "## 10. Write a Python program to find  the greatest common divisor (gcd) of two integers."
   ]
  },
  {
   "cell_type": "code",
   "execution_count": 58,
   "metadata": {},
   "outputs": [
    {
     "name": "stdout",
     "output_type": "stream",
     "text": [
      "The two numbers are: (num1, num2)\n",
      "The GCD is : 2\n"
     ]
    }
   ],
   "source": [
    "import math\n",
    "\n",
    "def gcd_of_two_integers(num1, num2):\n",
    "    print(\"The two numbers are: (num1, num2)\")\n",
    "    return math.gcd(num1, num2)\n",
    "\n",
    "print(\"The GCD is : \" + str(gcd_of_two_integers(12, 14)))"
   ]
  },
  {
   "cell_type": "markdown",
   "metadata": {},
   "source": [
    "## 11. Write a function to find if a string is a palindrome or not! \n",
    "eg: \n",
    "\"NAMAN\" - is a palindrome \n",
    "\"INCEPTEZ\" - is not a palindrome! "
   ]
  },
  {
   "cell_type": "code",
   "execution_count": 48,
   "metadata": {},
   "outputs": [
    {
     "name": "stdout",
     "output_type": "stream",
     "text": [
      "True\n"
     ]
    }
   ],
   "source": [
    "def isPalindrome(str):\n",
    "    return str == str[::-1]\n",
    "\n",
    "print(isPalindrome(\"NAMAN\"))"
   ]
  },
  {
   "cell_type": "markdown",
   "metadata": {},
   "source": [
    "## 12. Write a recurssive function to find if a string is a palindrome or not! "
   ]
  },
  {
   "cell_type": "code",
   "execution_count": 54,
   "metadata": {},
   "outputs": [
    {
     "name": "stdout",
     "output_type": "stream",
     "text": [
      "True\n"
     ]
    }
   ],
   "source": [
    "def isPalindrom(str):\n",
    "    str = str.lower()\n",
    "    \n",
    "    l = len(str)\n",
    "    \n",
    "    if l < 2:\n",
    "        return True\n",
    "    \n",
    "    if (str[0] == str[l - 1]):\n",
    "        return isPalindrom(str[l: l-1])\n",
    "    \n",
    "    return False\n",
    "\n",
    "print(isPalindrom(\"Celec\"))"
   ]
  },
  {
   "cell_type": "code",
   "execution_count": null,
   "metadata": {},
   "outputs": [],
   "source": []
  }
 ],
 "metadata": {
  "kernelspec": {
   "display_name": "Python 3",
   "language": "python",
   "name": "python3"
  },
  "language_info": {
   "codemirror_mode": {
    "name": "ipython",
    "version": 3
   },
   "file_extension": ".py",
   "mimetype": "text/x-python",
   "name": "python",
   "nbconvert_exporter": "python",
   "pygments_lexer": "ipython3",
   "version": "3.8.5"
  }
 },
 "nbformat": 4,
 "nbformat_minor": 4
}
