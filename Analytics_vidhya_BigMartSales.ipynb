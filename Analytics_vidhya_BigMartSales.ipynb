{
 "cells": [
  {
   "cell_type": "code",
   "execution_count": null,
   "metadata": {
    "id": "FY30_SDgFeit"
   },
   "outputs": [],
   "source": [
    "from google.colab import drive\n",
    "drive.mount('/content/drive')"
   ]
  },
  {
   "cell_type": "code",
   "execution_count": null,
   "metadata": {
    "id": "M0FDS2vOzp4F"
   },
   "outputs": [],
   "source": [
    "ls /content/drive/MyDrive"
   ]
  },
  {
   "cell_type": "code",
   "execution_count": null,
   "metadata": {
    "colab": {
     "base_uri": "https://localhost:8080/"
    },
    "executionInfo": {
     "elapsed": 810,
     "status": "ok",
     "timestamp": 1626634071642,
     "user": {
      "displayName": "Mohamed Noordeen Alaudeen",
      "photoUrl": "",
      "userId": "13097854355562551879"
     },
     "user_tz": -330
    },
    "id": "UIflppghFp6B",
    "outputId": "921630ca-5648-4379-895b-83435496f412"
   },
   "outputs": [
    {
     "name": "stdout",
     "output_type": "stream",
     "text": [
      "Analytics_vidhya_BigMartSales.ipynb  SampleSubmission_TmnO39y.txt\n",
      "item_identifier_type.csv             test_preprocessed.csv\n",
      "linear_regression_result.csv         Test_u94Q5KV.txt\n",
      "res-LinearRegression.csv             train_preprocessed.csv\n",
      "result_av_check.png                  Train_UWu5bXk.txt\n"
     ]
    }
   ],
   "source": [
    "ls /content/drive/MyDrive/Inceptez\\ Batch\\ 16/06.\\ Linear\\ Regression\\ -\\ Hackathon\\ Sample"
   ]
  },
  {
   "cell_type": "code",
   "execution_count": null,
   "metadata": {
    "colab": {
     "base_uri": "https://localhost:8080/"
    },
    "executionInfo": {
     "elapsed": 58,
     "status": "ok",
     "timestamp": 1626634071642,
     "user": {
      "displayName": "Mohamed Noordeen Alaudeen",
      "photoUrl": "",
      "userId": "13097854355562551879"
     },
     "user_tz": -330
    },
    "id": "2MAwLsxeF4Be",
    "outputId": "b0f275fe-fa21-45dc-a3a1-3d62ca62ce70"
   },
   "outputs": [
    {
     "name": "stdout",
     "output_type": "stream",
     "text": [
      "/content/drive/MyDrive/Inceptez Batch 16/06. Linear Regression - Hackathon Sample\n"
     ]
    }
   ],
   "source": [
    "cd /content/drive/MyDrive/Inceptez\\ Batch\\ 16/06.\\ Linear\\ Regression\\ -\\ Hackathon\\ Sample"
   ]
  },
  {
   "cell_type": "code",
   "execution_count": 186,
   "metadata": {
    "id": "d7A74vae5mVR"
   },
   "outputs": [],
   "source": [
    "import numpy as np\n",
    "import pandas as pd\n",
    "import matplotlib.pyplot as plt\n",
    "import seaborn as sns\n",
    "\n",
    "from sklearn.preprocessing import StandardScaler\n",
    "from sklearn.linear_model import LinearRegression, Ridge, Lasso, ElasticNet\n",
    "from sklearn.metrics import mean_squared_error\n"
   ]
  },
  {
   "cell_type": "code",
   "execution_count": 2,
   "metadata": {
    "id": "LeI13pUI5mVT"
   },
   "outputs": [],
   "source": [
    "train = pd.read_csv(\"Train_UWu5bXk.txt\")\n",
    "test = pd.read_csv(\"Test_u94Q5KV.txt\")\n",
    "submission = pd.read_csv(\"SampleSubmission_TmnO39y.txt\")"
   ]
  },
  {
   "cell_type": "code",
   "execution_count": 7,
   "metadata": {
    "colab": {
     "base_uri": "https://localhost:8080/"
    },
    "executionInfo": {
     "elapsed": 54,
     "status": "ok",
     "timestamp": 1626634071643,
     "user": {
      "displayName": "Mohamed Noordeen Alaudeen",
      "photoUrl": "",
      "userId": "13097854355562551879"
     },
     "user_tz": -330
    },
    "id": "_xaiiz9j5mVU",
    "outputId": "2d699d95-c6e0-49c5-9aa6-07b82f200371",
    "scrolled": true
   },
   "outputs": [
    {
     "data": {
      "text/plain": [
       "Index(['Item_Identifier', 'Item_Weight', 'Item_Fat_Content', 'Item_Visibility',\n",
       "       'Item_Type', 'Item_MRP', 'Outlet_Identifier',\n",
       "       'Outlet_Establishment_Year', 'Outlet_Size', 'Outlet_Location_Type',\n",
       "       'Outlet_Type', 'Item_Outlet_Sales'],\n",
       "      dtype='object')"
      ]
     },
     "execution_count": 7,
     "metadata": {},
     "output_type": "execute_result"
    }
   ],
   "source": [
    "train.columns"
   ]
  },
  {
   "cell_type": "code",
   "execution_count": 8,
   "metadata": {
    "colab": {
     "base_uri": "https://localhost:8080/",
     "height": 311
    },
    "executionInfo": {
     "elapsed": 55,
     "status": "ok",
     "timestamp": 1626634071650,
     "user": {
      "displayName": "Mohamed Noordeen Alaudeen",
      "photoUrl": "",
      "userId": "13097854355562551879"
     },
     "user_tz": -330
    },
    "id": "4EZ1m2TW5mVV",
    "outputId": "6112304b-6a11-47ae-93b8-7ef11d27826e",
    "scrolled": true
   },
   "outputs": [
    {
     "data": {
      "text/html": [
       "<div>\n",
       "<style scoped>\n",
       "    .dataframe tbody tr th:only-of-type {\n",
       "        vertical-align: middle;\n",
       "    }\n",
       "\n",
       "    .dataframe tbody tr th {\n",
       "        vertical-align: top;\n",
       "    }\n",
       "\n",
       "    .dataframe thead th {\n",
       "        text-align: right;\n",
       "    }\n",
       "</style>\n",
       "<table border=\"1\" class=\"dataframe\">\n",
       "  <thead>\n",
       "    <tr style=\"text-align: right;\">\n",
       "      <th></th>\n",
       "      <th>Item_Identifier</th>\n",
       "      <th>Item_Weight</th>\n",
       "      <th>Item_Fat_Content</th>\n",
       "      <th>Item_Visibility</th>\n",
       "      <th>Item_Type</th>\n",
       "      <th>Item_MRP</th>\n",
       "      <th>Outlet_Identifier</th>\n",
       "      <th>Outlet_Establishment_Year</th>\n",
       "      <th>Outlet_Size</th>\n",
       "      <th>Outlet_Location_Type</th>\n",
       "      <th>Outlet_Type</th>\n",
       "      <th>Item_Outlet_Sales</th>\n",
       "    </tr>\n",
       "  </thead>\n",
       "  <tbody>\n",
       "    <tr>\n",
       "      <th>0</th>\n",
       "      <td>FDA15</td>\n",
       "      <td>9.30</td>\n",
       "      <td>Low Fat</td>\n",
       "      <td>0.016047</td>\n",
       "      <td>Dairy</td>\n",
       "      <td>249.8092</td>\n",
       "      <td>OUT049</td>\n",
       "      <td>1999</td>\n",
       "      <td>Medium</td>\n",
       "      <td>Tier 1</td>\n",
       "      <td>Supermarket Type1</td>\n",
       "      <td>3735.1380</td>\n",
       "    </tr>\n",
       "    <tr>\n",
       "      <th>1</th>\n",
       "      <td>DRC01</td>\n",
       "      <td>5.92</td>\n",
       "      <td>Regular</td>\n",
       "      <td>0.019278</td>\n",
       "      <td>Soft Drinks</td>\n",
       "      <td>48.2692</td>\n",
       "      <td>OUT018</td>\n",
       "      <td>2009</td>\n",
       "      <td>Medium</td>\n",
       "      <td>Tier 3</td>\n",
       "      <td>Supermarket Type2</td>\n",
       "      <td>443.4228</td>\n",
       "    </tr>\n",
       "    <tr>\n",
       "      <th>2</th>\n",
       "      <td>FDN15</td>\n",
       "      <td>17.50</td>\n",
       "      <td>Low Fat</td>\n",
       "      <td>0.016760</td>\n",
       "      <td>Meat</td>\n",
       "      <td>141.6180</td>\n",
       "      <td>OUT049</td>\n",
       "      <td>1999</td>\n",
       "      <td>Medium</td>\n",
       "      <td>Tier 1</td>\n",
       "      <td>Supermarket Type1</td>\n",
       "      <td>2097.2700</td>\n",
       "    </tr>\n",
       "    <tr>\n",
       "      <th>3</th>\n",
       "      <td>FDX07</td>\n",
       "      <td>19.20</td>\n",
       "      <td>Regular</td>\n",
       "      <td>0.000000</td>\n",
       "      <td>Fruits and Vegetables</td>\n",
       "      <td>182.0950</td>\n",
       "      <td>OUT010</td>\n",
       "      <td>1998</td>\n",
       "      <td>NaN</td>\n",
       "      <td>Tier 3</td>\n",
       "      <td>Grocery Store</td>\n",
       "      <td>732.3800</td>\n",
       "    </tr>\n",
       "    <tr>\n",
       "      <th>4</th>\n",
       "      <td>NCD19</td>\n",
       "      <td>8.93</td>\n",
       "      <td>Low Fat</td>\n",
       "      <td>0.000000</td>\n",
       "      <td>Household</td>\n",
       "      <td>53.8614</td>\n",
       "      <td>OUT013</td>\n",
       "      <td>1987</td>\n",
       "      <td>High</td>\n",
       "      <td>Tier 3</td>\n",
       "      <td>Supermarket Type1</td>\n",
       "      <td>994.7052</td>\n",
       "    </tr>\n",
       "  </tbody>\n",
       "</table>\n",
       "</div>"
      ],
      "text/plain": [
       "  Item_Identifier  Item_Weight Item_Fat_Content  Item_Visibility  \\\n",
       "0           FDA15         9.30          Low Fat         0.016047   \n",
       "1           DRC01         5.92          Regular         0.019278   \n",
       "2           FDN15        17.50          Low Fat         0.016760   \n",
       "3           FDX07        19.20          Regular         0.000000   \n",
       "4           NCD19         8.93          Low Fat         0.000000   \n",
       "\n",
       "               Item_Type  Item_MRP Outlet_Identifier  \\\n",
       "0                  Dairy  249.8092            OUT049   \n",
       "1            Soft Drinks   48.2692            OUT018   \n",
       "2                   Meat  141.6180            OUT049   \n",
       "3  Fruits and Vegetables  182.0950            OUT010   \n",
       "4              Household   53.8614            OUT013   \n",
       "\n",
       "   Outlet_Establishment_Year Outlet_Size Outlet_Location_Type  \\\n",
       "0                       1999      Medium               Tier 1   \n",
       "1                       2009      Medium               Tier 3   \n",
       "2                       1999      Medium               Tier 1   \n",
       "3                       1998         NaN               Tier 3   \n",
       "4                       1987        High               Tier 3   \n",
       "\n",
       "         Outlet_Type  Item_Outlet_Sales  \n",
       "0  Supermarket Type1          3735.1380  \n",
       "1  Supermarket Type2           443.4228  \n",
       "2  Supermarket Type1          2097.2700  \n",
       "3      Grocery Store           732.3800  \n",
       "4  Supermarket Type1           994.7052  "
      ]
     },
     "execution_count": 8,
     "metadata": {},
     "output_type": "execute_result"
    }
   ],
   "source": [
    "train.head()"
   ]
  },
  {
   "cell_type": "markdown",
   "metadata": {
    "id": "IyJlloU55mVV"
   },
   "source": [
    "# Assumption or Intution"
   ]
  },
  {
   "cell_type": "markdown",
   "metadata": {
    "id": "MFTpAfeA5mVV"
   },
   "source": [
    "Outlet level \n",
    "\n",
    "1. Location           - Available\n",
    "2. Population         - No\n",
    "3. Size               - Available\n",
    "4. Outlet Age         - Available\n",
    "5. Advertisement      - No\n",
    "6. No OF Employees    - No\n",
    "7. Customer Service   - No \n",
    "8. Brand              - No\n",
    "9. Quality            - No\n",
    "10. Competitor        - No\n",
    "11. Timing            - No\n"
   ]
  },
  {
   "cell_type": "markdown",
   "metadata": {
    "id": "tKXF2C1G5mVW"
   },
   "source": [
    "Product Level\n",
    "\n",
    "1. Quality                  - NO\n",
    "2. Pricing                  - Avaliable\n",
    "3. Discount                 - No\n",
    "4. Frequent use of Product  - Available\n",
    "5. Visibility               - Available\n",
    "6. Avaliabilty              - No\n",
    "7. Advertisement            - No\n"
   ]
  },
  {
   "cell_type": "markdown",
   "metadata": {
    "id": "t8954QPm5mVW"
   },
   "source": [
    "# Decriptive Analytics"
   ]
  },
  {
   "cell_type": "markdown",
   "metadata": {
    "id": "2NavWAgl5mVW"
   },
   "source": [
    "### Observation"
   ]
  },
  {
   "cell_type": "code",
   "execution_count": 9,
   "metadata": {
    "colab": {
     "base_uri": "https://localhost:8080/"
    },
    "executionInfo": {
     "elapsed": 54,
     "status": "ok",
     "timestamp": 1626634071651,
     "user": {
      "displayName": "Mohamed Noordeen Alaudeen",
      "photoUrl": "",
      "userId": "13097854355562551879"
     },
     "user_tz": -330
    },
    "id": "SL-kGRkr5mVX",
    "outputId": "2fbb1273-b39f-4cef-d52f-eec513bcb557"
   },
   "outputs": [
    {
     "data": {
      "text/plain": [
       "Index(['Item_Identifier', 'Item_Weight', 'Item_Fat_Content', 'Item_Visibility',\n",
       "       'Item_Type', 'Item_MRP', 'Outlet_Identifier',\n",
       "       'Outlet_Establishment_Year', 'Outlet_Size', 'Outlet_Location_Type',\n",
       "       'Outlet_Type', 'Item_Outlet_Sales'],\n",
       "      dtype='object')"
      ]
     },
     "execution_count": 9,
     "metadata": {},
     "output_type": "execute_result"
    }
   ],
   "source": [
    "train.columns"
   ]
  },
  {
   "cell_type": "code",
   "execution_count": 10,
   "metadata": {
    "colab": {
     "base_uri": "https://localhost:8080/"
    },
    "executionInfo": {
     "elapsed": 50,
     "status": "ok",
     "timestamp": 1626634071651,
     "user": {
      "displayName": "Mohamed Noordeen Alaudeen",
      "photoUrl": "",
      "userId": "13097854355562551879"
     },
     "user_tz": -330
    },
    "id": "mfgQL4EL5mVX",
    "outputId": "b1232246-8230-4cc3-b3da-a385ba32012a"
   },
   "outputs": [
    {
     "data": {
      "text/plain": [
       "(8523, 12)"
      ]
     },
     "execution_count": 10,
     "metadata": {},
     "output_type": "execute_result"
    }
   ],
   "source": [
    "train.shape"
   ]
  },
  {
   "cell_type": "code",
   "execution_count": 11,
   "metadata": {
    "colab": {
     "base_uri": "https://localhost:8080/"
    },
    "executionInfo": {
     "elapsed": 47,
     "status": "ok",
     "timestamp": 1626634071652,
     "user": {
      "displayName": "Mohamed Noordeen Alaudeen",
      "photoUrl": "",
      "userId": "13097854355562551879"
     },
     "user_tz": -330
    },
    "id": "EHrpYjbW5mVX",
    "outputId": "97dafdc9-009a-4c91-b30b-2f73baa64004"
   },
   "outputs": [
    {
     "data": {
      "text/plain": [
       "(5681, 11)"
      ]
     },
     "execution_count": 11,
     "metadata": {},
     "output_type": "execute_result"
    }
   ],
   "source": [
    "test.shape"
   ]
  },
  {
   "cell_type": "code",
   "execution_count": 12,
   "metadata": {
    "colab": {
     "base_uri": "https://localhost:8080/",
     "height": 421
    },
    "executionInfo": {
     "elapsed": 43,
     "status": "ok",
     "timestamp": 1626634071652,
     "user": {
      "displayName": "Mohamed Noordeen Alaudeen",
      "photoUrl": "",
      "userId": "13097854355562551879"
     },
     "user_tz": -330
    },
    "id": "MjT6_BWG5mVX",
    "outputId": "e036fb50-de20-406e-bad1-d1831109ecd2"
   },
   "outputs": [
    {
     "data": {
      "text/html": [
       "<div>\n",
       "<style scoped>\n",
       "    .dataframe tbody tr th:only-of-type {\n",
       "        vertical-align: middle;\n",
       "    }\n",
       "\n",
       "    .dataframe tbody tr th {\n",
       "        vertical-align: top;\n",
       "    }\n",
       "\n",
       "    .dataframe thead th {\n",
       "        text-align: right;\n",
       "    }\n",
       "</style>\n",
       "<table border=\"1\" class=\"dataframe\">\n",
       "  <thead>\n",
       "    <tr style=\"text-align: right;\">\n",
       "      <th></th>\n",
       "      <th>Item_Identifier</th>\n",
       "      <th>Outlet_Identifier</th>\n",
       "      <th>Item_Outlet_Sales</th>\n",
       "    </tr>\n",
       "  </thead>\n",
       "  <tbody>\n",
       "    <tr>\n",
       "      <th>0</th>\n",
       "      <td>FDW58</td>\n",
       "      <td>OUT049</td>\n",
       "      <td>NaN</td>\n",
       "    </tr>\n",
       "    <tr>\n",
       "      <th>1</th>\n",
       "      <td>FDW14</td>\n",
       "      <td>OUT017</td>\n",
       "      <td>NaN</td>\n",
       "    </tr>\n",
       "    <tr>\n",
       "      <th>2</th>\n",
       "      <td>NCN55</td>\n",
       "      <td>OUT010</td>\n",
       "      <td>NaN</td>\n",
       "    </tr>\n",
       "    <tr>\n",
       "      <th>3</th>\n",
       "      <td>FDQ58</td>\n",
       "      <td>OUT017</td>\n",
       "      <td>NaN</td>\n",
       "    </tr>\n",
       "    <tr>\n",
       "      <th>4</th>\n",
       "      <td>FDY38</td>\n",
       "      <td>OUT027</td>\n",
       "      <td>NaN</td>\n",
       "    </tr>\n",
       "    <tr>\n",
       "      <th>...</th>\n",
       "      <td>...</td>\n",
       "      <td>...</td>\n",
       "      <td>...</td>\n",
       "    </tr>\n",
       "    <tr>\n",
       "      <th>5676</th>\n",
       "      <td>FDB58</td>\n",
       "      <td>OUT046</td>\n",
       "      <td>NaN</td>\n",
       "    </tr>\n",
       "    <tr>\n",
       "      <th>5677</th>\n",
       "      <td>FDD47</td>\n",
       "      <td>OUT018</td>\n",
       "      <td>NaN</td>\n",
       "    </tr>\n",
       "    <tr>\n",
       "      <th>5678</th>\n",
       "      <td>NCO17</td>\n",
       "      <td>OUT045</td>\n",
       "      <td>NaN</td>\n",
       "    </tr>\n",
       "    <tr>\n",
       "      <th>5679</th>\n",
       "      <td>FDJ26</td>\n",
       "      <td>OUT017</td>\n",
       "      <td>NaN</td>\n",
       "    </tr>\n",
       "    <tr>\n",
       "      <th>5680</th>\n",
       "      <td>FDU37</td>\n",
       "      <td>OUT045</td>\n",
       "      <td>NaN</td>\n",
       "    </tr>\n",
       "  </tbody>\n",
       "</table>\n",
       "<p>5681 rows × 3 columns</p>\n",
       "</div>"
      ],
      "text/plain": [
       "     Item_Identifier Outlet_Identifier  Item_Outlet_Sales\n",
       "0              FDW58            OUT049                NaN\n",
       "1              FDW14            OUT017                NaN\n",
       "2              NCN55            OUT010                NaN\n",
       "3              FDQ58            OUT017                NaN\n",
       "4              FDY38            OUT027                NaN\n",
       "...              ...               ...                ...\n",
       "5676           FDB58            OUT046                NaN\n",
       "5677           FDD47            OUT018                NaN\n",
       "5678           NCO17            OUT045                NaN\n",
       "5679           FDJ26            OUT017                NaN\n",
       "5680           FDU37            OUT045                NaN\n",
       "\n",
       "[5681 rows x 3 columns]"
      ]
     },
     "execution_count": 12,
     "metadata": {},
     "output_type": "execute_result"
    }
   ],
   "source": [
    "submission"
   ]
  },
  {
   "cell_type": "code",
   "execution_count": 13,
   "metadata": {
    "colab": {
     "base_uri": "https://localhost:8080/",
     "height": 311
    },
    "executionInfo": {
     "elapsed": 42,
     "status": "ok",
     "timestamp": 1626634071653,
     "user": {
      "displayName": "Mohamed Noordeen Alaudeen",
      "photoUrl": "",
      "userId": "13097854355562551879"
     },
     "user_tz": -330
    },
    "id": "fGKsIxos5mVY",
    "outputId": "f7aa636a-9066-4446-d618-4513aa13a305"
   },
   "outputs": [
    {
     "data": {
      "text/html": [
       "<div>\n",
       "<style scoped>\n",
       "    .dataframe tbody tr th:only-of-type {\n",
       "        vertical-align: middle;\n",
       "    }\n",
       "\n",
       "    .dataframe tbody tr th {\n",
       "        vertical-align: top;\n",
       "    }\n",
       "\n",
       "    .dataframe thead th {\n",
       "        text-align: right;\n",
       "    }\n",
       "</style>\n",
       "<table border=\"1\" class=\"dataframe\">\n",
       "  <thead>\n",
       "    <tr style=\"text-align: right;\">\n",
       "      <th></th>\n",
       "      <th>Item_Identifier</th>\n",
       "      <th>Item_Weight</th>\n",
       "      <th>Item_Fat_Content</th>\n",
       "      <th>Item_Visibility</th>\n",
       "      <th>Item_Type</th>\n",
       "      <th>Item_MRP</th>\n",
       "      <th>Outlet_Identifier</th>\n",
       "      <th>Outlet_Establishment_Year</th>\n",
       "      <th>Outlet_Size</th>\n",
       "      <th>Outlet_Location_Type</th>\n",
       "      <th>Outlet_Type</th>\n",
       "      <th>Item_Outlet_Sales</th>\n",
       "    </tr>\n",
       "  </thead>\n",
       "  <tbody>\n",
       "    <tr>\n",
       "      <th>0</th>\n",
       "      <td>FDA15</td>\n",
       "      <td>9.30</td>\n",
       "      <td>Low Fat</td>\n",
       "      <td>0.016047</td>\n",
       "      <td>Dairy</td>\n",
       "      <td>249.8092</td>\n",
       "      <td>OUT049</td>\n",
       "      <td>1999</td>\n",
       "      <td>Medium</td>\n",
       "      <td>Tier 1</td>\n",
       "      <td>Supermarket Type1</td>\n",
       "      <td>3735.1380</td>\n",
       "    </tr>\n",
       "    <tr>\n",
       "      <th>1</th>\n",
       "      <td>DRC01</td>\n",
       "      <td>5.92</td>\n",
       "      <td>Regular</td>\n",
       "      <td>0.019278</td>\n",
       "      <td>Soft Drinks</td>\n",
       "      <td>48.2692</td>\n",
       "      <td>OUT018</td>\n",
       "      <td>2009</td>\n",
       "      <td>Medium</td>\n",
       "      <td>Tier 3</td>\n",
       "      <td>Supermarket Type2</td>\n",
       "      <td>443.4228</td>\n",
       "    </tr>\n",
       "    <tr>\n",
       "      <th>2</th>\n",
       "      <td>FDN15</td>\n",
       "      <td>17.50</td>\n",
       "      <td>Low Fat</td>\n",
       "      <td>0.016760</td>\n",
       "      <td>Meat</td>\n",
       "      <td>141.6180</td>\n",
       "      <td>OUT049</td>\n",
       "      <td>1999</td>\n",
       "      <td>Medium</td>\n",
       "      <td>Tier 1</td>\n",
       "      <td>Supermarket Type1</td>\n",
       "      <td>2097.2700</td>\n",
       "    </tr>\n",
       "    <tr>\n",
       "      <th>3</th>\n",
       "      <td>FDX07</td>\n",
       "      <td>19.20</td>\n",
       "      <td>Regular</td>\n",
       "      <td>0.000000</td>\n",
       "      <td>Fruits and Vegetables</td>\n",
       "      <td>182.0950</td>\n",
       "      <td>OUT010</td>\n",
       "      <td>1998</td>\n",
       "      <td>NaN</td>\n",
       "      <td>Tier 3</td>\n",
       "      <td>Grocery Store</td>\n",
       "      <td>732.3800</td>\n",
       "    </tr>\n",
       "    <tr>\n",
       "      <th>4</th>\n",
       "      <td>NCD19</td>\n",
       "      <td>8.93</td>\n",
       "      <td>Low Fat</td>\n",
       "      <td>0.000000</td>\n",
       "      <td>Household</td>\n",
       "      <td>53.8614</td>\n",
       "      <td>OUT013</td>\n",
       "      <td>1987</td>\n",
       "      <td>High</td>\n",
       "      <td>Tier 3</td>\n",
       "      <td>Supermarket Type1</td>\n",
       "      <td>994.7052</td>\n",
       "    </tr>\n",
       "  </tbody>\n",
       "</table>\n",
       "</div>"
      ],
      "text/plain": [
       "  Item_Identifier  Item_Weight Item_Fat_Content  Item_Visibility  \\\n",
       "0           FDA15         9.30          Low Fat         0.016047   \n",
       "1           DRC01         5.92          Regular         0.019278   \n",
       "2           FDN15        17.50          Low Fat         0.016760   \n",
       "3           FDX07        19.20          Regular         0.000000   \n",
       "4           NCD19         8.93          Low Fat         0.000000   \n",
       "\n",
       "               Item_Type  Item_MRP Outlet_Identifier  \\\n",
       "0                  Dairy  249.8092            OUT049   \n",
       "1            Soft Drinks   48.2692            OUT018   \n",
       "2                   Meat  141.6180            OUT049   \n",
       "3  Fruits and Vegetables  182.0950            OUT010   \n",
       "4              Household   53.8614            OUT013   \n",
       "\n",
       "   Outlet_Establishment_Year Outlet_Size Outlet_Location_Type  \\\n",
       "0                       1999      Medium               Tier 1   \n",
       "1                       2009      Medium               Tier 3   \n",
       "2                       1999      Medium               Tier 1   \n",
       "3                       1998         NaN               Tier 3   \n",
       "4                       1987        High               Tier 3   \n",
       "\n",
       "         Outlet_Type  Item_Outlet_Sales  \n",
       "0  Supermarket Type1          3735.1380  \n",
       "1  Supermarket Type2           443.4228  \n",
       "2  Supermarket Type1          2097.2700  \n",
       "3      Grocery Store           732.3800  \n",
       "4  Supermarket Type1           994.7052  "
      ]
     },
     "execution_count": 13,
     "metadata": {},
     "output_type": "execute_result"
    }
   ],
   "source": [
    "train.head()"
   ]
  },
  {
   "cell_type": "code",
   "execution_count": 14,
   "metadata": {
    "id": "JcEjnpsP5mVY"
   },
   "outputs": [],
   "source": [
    "train[\"data\"] = \"train\"\n",
    "test[\"data\"] = \"test\""
   ]
  },
  {
   "cell_type": "code",
   "execution_count": 15,
   "metadata": {
    "colab": {
     "base_uri": "https://localhost:8080/",
     "height": 311
    },
    "executionInfo": {
     "elapsed": 41,
     "status": "ok",
     "timestamp": 1626634071653,
     "user": {
      "displayName": "Mohamed Noordeen Alaudeen",
      "photoUrl": "",
      "userId": "13097854355562551879"
     },
     "user_tz": -330
    },
    "id": "i7uESFCT5mVY",
    "outputId": "81363fd9-77d1-441f-9224-1bf4c6a27d60"
   },
   "outputs": [
    {
     "data": {
      "text/html": [
       "<div>\n",
       "<style scoped>\n",
       "    .dataframe tbody tr th:only-of-type {\n",
       "        vertical-align: middle;\n",
       "    }\n",
       "\n",
       "    .dataframe tbody tr th {\n",
       "        vertical-align: top;\n",
       "    }\n",
       "\n",
       "    .dataframe thead th {\n",
       "        text-align: right;\n",
       "    }\n",
       "</style>\n",
       "<table border=\"1\" class=\"dataframe\">\n",
       "  <thead>\n",
       "    <tr style=\"text-align: right;\">\n",
       "      <th></th>\n",
       "      <th>Item_Identifier</th>\n",
       "      <th>Item_Weight</th>\n",
       "      <th>Item_Fat_Content</th>\n",
       "      <th>Item_Visibility</th>\n",
       "      <th>Item_Type</th>\n",
       "      <th>Item_MRP</th>\n",
       "      <th>Outlet_Identifier</th>\n",
       "      <th>Outlet_Establishment_Year</th>\n",
       "      <th>Outlet_Size</th>\n",
       "      <th>Outlet_Location_Type</th>\n",
       "      <th>Outlet_Type</th>\n",
       "      <th>Item_Outlet_Sales</th>\n",
       "      <th>data</th>\n",
       "    </tr>\n",
       "  </thead>\n",
       "  <tbody>\n",
       "    <tr>\n",
       "      <th>0</th>\n",
       "      <td>FDA15</td>\n",
       "      <td>9.30</td>\n",
       "      <td>Low Fat</td>\n",
       "      <td>0.016047</td>\n",
       "      <td>Dairy</td>\n",
       "      <td>249.8092</td>\n",
       "      <td>OUT049</td>\n",
       "      <td>1999</td>\n",
       "      <td>Medium</td>\n",
       "      <td>Tier 1</td>\n",
       "      <td>Supermarket Type1</td>\n",
       "      <td>3735.1380</td>\n",
       "      <td>train</td>\n",
       "    </tr>\n",
       "    <tr>\n",
       "      <th>1</th>\n",
       "      <td>DRC01</td>\n",
       "      <td>5.92</td>\n",
       "      <td>Regular</td>\n",
       "      <td>0.019278</td>\n",
       "      <td>Soft Drinks</td>\n",
       "      <td>48.2692</td>\n",
       "      <td>OUT018</td>\n",
       "      <td>2009</td>\n",
       "      <td>Medium</td>\n",
       "      <td>Tier 3</td>\n",
       "      <td>Supermarket Type2</td>\n",
       "      <td>443.4228</td>\n",
       "      <td>train</td>\n",
       "    </tr>\n",
       "    <tr>\n",
       "      <th>2</th>\n",
       "      <td>FDN15</td>\n",
       "      <td>17.50</td>\n",
       "      <td>Low Fat</td>\n",
       "      <td>0.016760</td>\n",
       "      <td>Meat</td>\n",
       "      <td>141.6180</td>\n",
       "      <td>OUT049</td>\n",
       "      <td>1999</td>\n",
       "      <td>Medium</td>\n",
       "      <td>Tier 1</td>\n",
       "      <td>Supermarket Type1</td>\n",
       "      <td>2097.2700</td>\n",
       "      <td>train</td>\n",
       "    </tr>\n",
       "    <tr>\n",
       "      <th>3</th>\n",
       "      <td>FDX07</td>\n",
       "      <td>19.20</td>\n",
       "      <td>Regular</td>\n",
       "      <td>0.000000</td>\n",
       "      <td>Fruits and Vegetables</td>\n",
       "      <td>182.0950</td>\n",
       "      <td>OUT010</td>\n",
       "      <td>1998</td>\n",
       "      <td>NaN</td>\n",
       "      <td>Tier 3</td>\n",
       "      <td>Grocery Store</td>\n",
       "      <td>732.3800</td>\n",
       "      <td>train</td>\n",
       "    </tr>\n",
       "    <tr>\n",
       "      <th>4</th>\n",
       "      <td>NCD19</td>\n",
       "      <td>8.93</td>\n",
       "      <td>Low Fat</td>\n",
       "      <td>0.000000</td>\n",
       "      <td>Household</td>\n",
       "      <td>53.8614</td>\n",
       "      <td>OUT013</td>\n",
       "      <td>1987</td>\n",
       "      <td>High</td>\n",
       "      <td>Tier 3</td>\n",
       "      <td>Supermarket Type1</td>\n",
       "      <td>994.7052</td>\n",
       "      <td>train</td>\n",
       "    </tr>\n",
       "  </tbody>\n",
       "</table>\n",
       "</div>"
      ],
      "text/plain": [
       "  Item_Identifier  Item_Weight Item_Fat_Content  Item_Visibility  \\\n",
       "0           FDA15         9.30          Low Fat         0.016047   \n",
       "1           DRC01         5.92          Regular         0.019278   \n",
       "2           FDN15        17.50          Low Fat         0.016760   \n",
       "3           FDX07        19.20          Regular         0.000000   \n",
       "4           NCD19         8.93          Low Fat         0.000000   \n",
       "\n",
       "               Item_Type  Item_MRP Outlet_Identifier  \\\n",
       "0                  Dairy  249.8092            OUT049   \n",
       "1            Soft Drinks   48.2692            OUT018   \n",
       "2                   Meat  141.6180            OUT049   \n",
       "3  Fruits and Vegetables  182.0950            OUT010   \n",
       "4              Household   53.8614            OUT013   \n",
       "\n",
       "   Outlet_Establishment_Year Outlet_Size Outlet_Location_Type  \\\n",
       "0                       1999      Medium               Tier 1   \n",
       "1                       2009      Medium               Tier 3   \n",
       "2                       1999      Medium               Tier 1   \n",
       "3                       1998         NaN               Tier 3   \n",
       "4                       1987        High               Tier 3   \n",
       "\n",
       "         Outlet_Type  Item_Outlet_Sales   data  \n",
       "0  Supermarket Type1          3735.1380  train  \n",
       "1  Supermarket Type2           443.4228  train  \n",
       "2  Supermarket Type1          2097.2700  train  \n",
       "3      Grocery Store           732.3800  train  \n",
       "4  Supermarket Type1           994.7052  train  "
      ]
     },
     "execution_count": 15,
     "metadata": {},
     "output_type": "execute_result"
    }
   ],
   "source": [
    "train.head()"
   ]
  },
  {
   "cell_type": "code",
   "execution_count": 16,
   "metadata": {
    "colab": {
     "base_uri": "https://localhost:8080/",
     "height": 294
    },
    "executionInfo": {
     "elapsed": 41,
     "status": "ok",
     "timestamp": 1626634071654,
     "user": {
      "displayName": "Mohamed Noordeen Alaudeen",
      "photoUrl": "",
      "userId": "13097854355562551879"
     },
     "user_tz": -330
    },
    "id": "w9PU8WVl5mVZ",
    "outputId": "e5eba94e-ba35-45b3-f453-3c59b608e53a",
    "scrolled": true
   },
   "outputs": [
    {
     "data": {
      "text/html": [
       "<div>\n",
       "<style scoped>\n",
       "    .dataframe tbody tr th:only-of-type {\n",
       "        vertical-align: middle;\n",
       "    }\n",
       "\n",
       "    .dataframe tbody tr th {\n",
       "        vertical-align: top;\n",
       "    }\n",
       "\n",
       "    .dataframe thead th {\n",
       "        text-align: right;\n",
       "    }\n",
       "</style>\n",
       "<table border=\"1\" class=\"dataframe\">\n",
       "  <thead>\n",
       "    <tr style=\"text-align: right;\">\n",
       "      <th></th>\n",
       "      <th>Item_Identifier</th>\n",
       "      <th>Item_Weight</th>\n",
       "      <th>Item_Fat_Content</th>\n",
       "      <th>Item_Visibility</th>\n",
       "      <th>Item_Type</th>\n",
       "      <th>Item_MRP</th>\n",
       "      <th>Outlet_Identifier</th>\n",
       "      <th>Outlet_Establishment_Year</th>\n",
       "      <th>Outlet_Size</th>\n",
       "      <th>Outlet_Location_Type</th>\n",
       "      <th>Outlet_Type</th>\n",
       "      <th>data</th>\n",
       "    </tr>\n",
       "  </thead>\n",
       "  <tbody>\n",
       "    <tr>\n",
       "      <th>0</th>\n",
       "      <td>FDW58</td>\n",
       "      <td>20.750</td>\n",
       "      <td>Low Fat</td>\n",
       "      <td>0.007565</td>\n",
       "      <td>Snack Foods</td>\n",
       "      <td>107.8622</td>\n",
       "      <td>OUT049</td>\n",
       "      <td>1999</td>\n",
       "      <td>Medium</td>\n",
       "      <td>Tier 1</td>\n",
       "      <td>Supermarket Type1</td>\n",
       "      <td>test</td>\n",
       "    </tr>\n",
       "    <tr>\n",
       "      <th>1</th>\n",
       "      <td>FDW14</td>\n",
       "      <td>8.300</td>\n",
       "      <td>reg</td>\n",
       "      <td>0.038428</td>\n",
       "      <td>Dairy</td>\n",
       "      <td>87.3198</td>\n",
       "      <td>OUT017</td>\n",
       "      <td>2007</td>\n",
       "      <td>NaN</td>\n",
       "      <td>Tier 2</td>\n",
       "      <td>Supermarket Type1</td>\n",
       "      <td>test</td>\n",
       "    </tr>\n",
       "    <tr>\n",
       "      <th>2</th>\n",
       "      <td>NCN55</td>\n",
       "      <td>14.600</td>\n",
       "      <td>Low Fat</td>\n",
       "      <td>0.099575</td>\n",
       "      <td>Others</td>\n",
       "      <td>241.7538</td>\n",
       "      <td>OUT010</td>\n",
       "      <td>1998</td>\n",
       "      <td>NaN</td>\n",
       "      <td>Tier 3</td>\n",
       "      <td>Grocery Store</td>\n",
       "      <td>test</td>\n",
       "    </tr>\n",
       "    <tr>\n",
       "      <th>3</th>\n",
       "      <td>FDQ58</td>\n",
       "      <td>7.315</td>\n",
       "      <td>Low Fat</td>\n",
       "      <td>0.015388</td>\n",
       "      <td>Snack Foods</td>\n",
       "      <td>155.0340</td>\n",
       "      <td>OUT017</td>\n",
       "      <td>2007</td>\n",
       "      <td>NaN</td>\n",
       "      <td>Tier 2</td>\n",
       "      <td>Supermarket Type1</td>\n",
       "      <td>test</td>\n",
       "    </tr>\n",
       "    <tr>\n",
       "      <th>4</th>\n",
       "      <td>FDY38</td>\n",
       "      <td>NaN</td>\n",
       "      <td>Regular</td>\n",
       "      <td>0.118599</td>\n",
       "      <td>Dairy</td>\n",
       "      <td>234.2300</td>\n",
       "      <td>OUT027</td>\n",
       "      <td>1985</td>\n",
       "      <td>Medium</td>\n",
       "      <td>Tier 3</td>\n",
       "      <td>Supermarket Type3</td>\n",
       "      <td>test</td>\n",
       "    </tr>\n",
       "  </tbody>\n",
       "</table>\n",
       "</div>"
      ],
      "text/plain": [
       "  Item_Identifier  Item_Weight Item_Fat_Content  Item_Visibility    Item_Type  \\\n",
       "0           FDW58       20.750          Low Fat         0.007565  Snack Foods   \n",
       "1           FDW14        8.300              reg         0.038428        Dairy   \n",
       "2           NCN55       14.600          Low Fat         0.099575       Others   \n",
       "3           FDQ58        7.315          Low Fat         0.015388  Snack Foods   \n",
       "4           FDY38          NaN          Regular         0.118599        Dairy   \n",
       "\n",
       "   Item_MRP Outlet_Identifier  Outlet_Establishment_Year Outlet_Size  \\\n",
       "0  107.8622            OUT049                       1999      Medium   \n",
       "1   87.3198            OUT017                       2007         NaN   \n",
       "2  241.7538            OUT010                       1998         NaN   \n",
       "3  155.0340            OUT017                       2007         NaN   \n",
       "4  234.2300            OUT027                       1985      Medium   \n",
       "\n",
       "  Outlet_Location_Type        Outlet_Type  data  \n",
       "0               Tier 1  Supermarket Type1  test  \n",
       "1               Tier 2  Supermarket Type1  test  \n",
       "2               Tier 3      Grocery Store  test  \n",
       "3               Tier 2  Supermarket Type1  test  \n",
       "4               Tier 3  Supermarket Type3  test  "
      ]
     },
     "execution_count": 16,
     "metadata": {},
     "output_type": "execute_result"
    }
   ],
   "source": [
    "test.head()"
   ]
  },
  {
   "cell_type": "code",
   "execution_count": 17,
   "metadata": {
    "colab": {
     "base_uri": "https://localhost:8080/"
    },
    "executionInfo": {
     "elapsed": 40,
     "status": "ok",
     "timestamp": 1626634071654,
     "user": {
      "displayName": "Mohamed Noordeen Alaudeen",
      "photoUrl": "",
      "userId": "13097854355562551879"
     },
     "user_tz": -330
    },
    "id": "N4e7JTwS5mVZ",
    "outputId": "689eee0c-8e64-4f82-d6cf-73b93b721d00"
   },
   "outputs": [
    {
     "data": {
      "text/plain": [
       "((8523, 13), (5681, 12))"
      ]
     },
     "execution_count": 17,
     "metadata": {},
     "output_type": "execute_result"
    }
   ],
   "source": [
    "train.shape, test.shape"
   ]
  },
  {
   "cell_type": "code",
   "execution_count": 18,
   "metadata": {
    "id": "4vtL8Q4p5mVZ"
   },
   "outputs": [],
   "source": [
    "data = pd.concat([train,test])"
   ]
  },
  {
   "cell_type": "code",
   "execution_count": 19,
   "metadata": {
    "colab": {
     "base_uri": "https://localhost:8080/",
     "height": 612
    },
    "executionInfo": {
     "elapsed": 718,
     "status": "ok",
     "timestamp": 1626634072338,
     "user": {
      "displayName": "Mohamed Noordeen Alaudeen",
      "photoUrl": "",
      "userId": "13097854355562551879"
     },
     "user_tz": -330
    },
    "id": "BRE4DSKg5mVZ",
    "outputId": "d29d086e-e978-4a3d-8ea6-64deb767b817",
    "scrolled": true
   },
   "outputs": [
    {
     "data": {
      "text/html": [
       "<div>\n",
       "<style scoped>\n",
       "    .dataframe tbody tr th:only-of-type {\n",
       "        vertical-align: middle;\n",
       "    }\n",
       "\n",
       "    .dataframe tbody tr th {\n",
       "        vertical-align: top;\n",
       "    }\n",
       "\n",
       "    .dataframe thead th {\n",
       "        text-align: right;\n",
       "    }\n",
       "</style>\n",
       "<table border=\"1\" class=\"dataframe\">\n",
       "  <thead>\n",
       "    <tr style=\"text-align: right;\">\n",
       "      <th></th>\n",
       "      <th>Item_Identifier</th>\n",
       "      <th>Item_Weight</th>\n",
       "      <th>Item_Fat_Content</th>\n",
       "      <th>Item_Visibility</th>\n",
       "      <th>Item_Type</th>\n",
       "      <th>Item_MRP</th>\n",
       "      <th>Outlet_Identifier</th>\n",
       "      <th>Outlet_Establishment_Year</th>\n",
       "      <th>Outlet_Size</th>\n",
       "      <th>Outlet_Location_Type</th>\n",
       "      <th>Outlet_Type</th>\n",
       "      <th>Item_Outlet_Sales</th>\n",
       "      <th>data</th>\n",
       "    </tr>\n",
       "  </thead>\n",
       "  <tbody>\n",
       "    <tr>\n",
       "      <th>0</th>\n",
       "      <td>FDA15</td>\n",
       "      <td>9.30</td>\n",
       "      <td>Low Fat</td>\n",
       "      <td>0.016047</td>\n",
       "      <td>Dairy</td>\n",
       "      <td>249.8092</td>\n",
       "      <td>OUT049</td>\n",
       "      <td>1999</td>\n",
       "      <td>Medium</td>\n",
       "      <td>Tier 1</td>\n",
       "      <td>Supermarket Type1</td>\n",
       "      <td>3735.1380</td>\n",
       "      <td>train</td>\n",
       "    </tr>\n",
       "    <tr>\n",
       "      <th>1</th>\n",
       "      <td>DRC01</td>\n",
       "      <td>5.92</td>\n",
       "      <td>Regular</td>\n",
       "      <td>0.019278</td>\n",
       "      <td>Soft Drinks</td>\n",
       "      <td>48.2692</td>\n",
       "      <td>OUT018</td>\n",
       "      <td>2009</td>\n",
       "      <td>Medium</td>\n",
       "      <td>Tier 3</td>\n",
       "      <td>Supermarket Type2</td>\n",
       "      <td>443.4228</td>\n",
       "      <td>train</td>\n",
       "    </tr>\n",
       "    <tr>\n",
       "      <th>2</th>\n",
       "      <td>FDN15</td>\n",
       "      <td>17.50</td>\n",
       "      <td>Low Fat</td>\n",
       "      <td>0.016760</td>\n",
       "      <td>Meat</td>\n",
       "      <td>141.6180</td>\n",
       "      <td>OUT049</td>\n",
       "      <td>1999</td>\n",
       "      <td>Medium</td>\n",
       "      <td>Tier 1</td>\n",
       "      <td>Supermarket Type1</td>\n",
       "      <td>2097.2700</td>\n",
       "      <td>train</td>\n",
       "    </tr>\n",
       "    <tr>\n",
       "      <th>3</th>\n",
       "      <td>FDX07</td>\n",
       "      <td>19.20</td>\n",
       "      <td>Regular</td>\n",
       "      <td>0.000000</td>\n",
       "      <td>Fruits and Vegetables</td>\n",
       "      <td>182.0950</td>\n",
       "      <td>OUT010</td>\n",
       "      <td>1998</td>\n",
       "      <td>NaN</td>\n",
       "      <td>Tier 3</td>\n",
       "      <td>Grocery Store</td>\n",
       "      <td>732.3800</td>\n",
       "      <td>train</td>\n",
       "    </tr>\n",
       "    <tr>\n",
       "      <th>4</th>\n",
       "      <td>NCD19</td>\n",
       "      <td>8.93</td>\n",
       "      <td>Low Fat</td>\n",
       "      <td>0.000000</td>\n",
       "      <td>Household</td>\n",
       "      <td>53.8614</td>\n",
       "      <td>OUT013</td>\n",
       "      <td>1987</td>\n",
       "      <td>High</td>\n",
       "      <td>Tier 3</td>\n",
       "      <td>Supermarket Type1</td>\n",
       "      <td>994.7052</td>\n",
       "      <td>train</td>\n",
       "    </tr>\n",
       "    <tr>\n",
       "      <th>...</th>\n",
       "      <td>...</td>\n",
       "      <td>...</td>\n",
       "      <td>...</td>\n",
       "      <td>...</td>\n",
       "      <td>...</td>\n",
       "      <td>...</td>\n",
       "      <td>...</td>\n",
       "      <td>...</td>\n",
       "      <td>...</td>\n",
       "      <td>...</td>\n",
       "      <td>...</td>\n",
       "      <td>...</td>\n",
       "      <td>...</td>\n",
       "    </tr>\n",
       "    <tr>\n",
       "      <th>5676</th>\n",
       "      <td>FDB58</td>\n",
       "      <td>10.50</td>\n",
       "      <td>Regular</td>\n",
       "      <td>0.013496</td>\n",
       "      <td>Snack Foods</td>\n",
       "      <td>141.3154</td>\n",
       "      <td>OUT046</td>\n",
       "      <td>1997</td>\n",
       "      <td>Small</td>\n",
       "      <td>Tier 1</td>\n",
       "      <td>Supermarket Type1</td>\n",
       "      <td>NaN</td>\n",
       "      <td>test</td>\n",
       "    </tr>\n",
       "    <tr>\n",
       "      <th>5677</th>\n",
       "      <td>FDD47</td>\n",
       "      <td>7.60</td>\n",
       "      <td>Regular</td>\n",
       "      <td>0.142991</td>\n",
       "      <td>Starchy Foods</td>\n",
       "      <td>169.1448</td>\n",
       "      <td>OUT018</td>\n",
       "      <td>2009</td>\n",
       "      <td>Medium</td>\n",
       "      <td>Tier 3</td>\n",
       "      <td>Supermarket Type2</td>\n",
       "      <td>NaN</td>\n",
       "      <td>test</td>\n",
       "    </tr>\n",
       "    <tr>\n",
       "      <th>5678</th>\n",
       "      <td>NCO17</td>\n",
       "      <td>10.00</td>\n",
       "      <td>Low Fat</td>\n",
       "      <td>0.073529</td>\n",
       "      <td>Health and Hygiene</td>\n",
       "      <td>118.7440</td>\n",
       "      <td>OUT045</td>\n",
       "      <td>2002</td>\n",
       "      <td>NaN</td>\n",
       "      <td>Tier 2</td>\n",
       "      <td>Supermarket Type1</td>\n",
       "      <td>NaN</td>\n",
       "      <td>test</td>\n",
       "    </tr>\n",
       "    <tr>\n",
       "      <th>5679</th>\n",
       "      <td>FDJ26</td>\n",
       "      <td>15.30</td>\n",
       "      <td>Regular</td>\n",
       "      <td>0.000000</td>\n",
       "      <td>Canned</td>\n",
       "      <td>214.6218</td>\n",
       "      <td>OUT017</td>\n",
       "      <td>2007</td>\n",
       "      <td>NaN</td>\n",
       "      <td>Tier 2</td>\n",
       "      <td>Supermarket Type1</td>\n",
       "      <td>NaN</td>\n",
       "      <td>test</td>\n",
       "    </tr>\n",
       "    <tr>\n",
       "      <th>5680</th>\n",
       "      <td>FDU37</td>\n",
       "      <td>9.50</td>\n",
       "      <td>Regular</td>\n",
       "      <td>0.104720</td>\n",
       "      <td>Canned</td>\n",
       "      <td>79.7960</td>\n",
       "      <td>OUT045</td>\n",
       "      <td>2002</td>\n",
       "      <td>NaN</td>\n",
       "      <td>Tier 2</td>\n",
       "      <td>Supermarket Type1</td>\n",
       "      <td>NaN</td>\n",
       "      <td>test</td>\n",
       "    </tr>\n",
       "  </tbody>\n",
       "</table>\n",
       "<p>14204 rows × 13 columns</p>\n",
       "</div>"
      ],
      "text/plain": [
       "     Item_Identifier  Item_Weight Item_Fat_Content  Item_Visibility  \\\n",
       "0              FDA15         9.30          Low Fat         0.016047   \n",
       "1              DRC01         5.92          Regular         0.019278   \n",
       "2              FDN15        17.50          Low Fat         0.016760   \n",
       "3              FDX07        19.20          Regular         0.000000   \n",
       "4              NCD19         8.93          Low Fat         0.000000   \n",
       "...              ...          ...              ...              ...   \n",
       "5676           FDB58        10.50          Regular         0.013496   \n",
       "5677           FDD47         7.60          Regular         0.142991   \n",
       "5678           NCO17        10.00          Low Fat         0.073529   \n",
       "5679           FDJ26        15.30          Regular         0.000000   \n",
       "5680           FDU37         9.50          Regular         0.104720   \n",
       "\n",
       "                  Item_Type  Item_MRP Outlet_Identifier  \\\n",
       "0                     Dairy  249.8092            OUT049   \n",
       "1               Soft Drinks   48.2692            OUT018   \n",
       "2                      Meat  141.6180            OUT049   \n",
       "3     Fruits and Vegetables  182.0950            OUT010   \n",
       "4                 Household   53.8614            OUT013   \n",
       "...                     ...       ...               ...   \n",
       "5676            Snack Foods  141.3154            OUT046   \n",
       "5677          Starchy Foods  169.1448            OUT018   \n",
       "5678     Health and Hygiene  118.7440            OUT045   \n",
       "5679                 Canned  214.6218            OUT017   \n",
       "5680                 Canned   79.7960            OUT045   \n",
       "\n",
       "      Outlet_Establishment_Year Outlet_Size Outlet_Location_Type  \\\n",
       "0                          1999      Medium               Tier 1   \n",
       "1                          2009      Medium               Tier 3   \n",
       "2                          1999      Medium               Tier 1   \n",
       "3                          1998         NaN               Tier 3   \n",
       "4                          1987        High               Tier 3   \n",
       "...                         ...         ...                  ...   \n",
       "5676                       1997       Small               Tier 1   \n",
       "5677                       2009      Medium               Tier 3   \n",
       "5678                       2002         NaN               Tier 2   \n",
       "5679                       2007         NaN               Tier 2   \n",
       "5680                       2002         NaN               Tier 2   \n",
       "\n",
       "            Outlet_Type  Item_Outlet_Sales   data  \n",
       "0     Supermarket Type1          3735.1380  train  \n",
       "1     Supermarket Type2           443.4228  train  \n",
       "2     Supermarket Type1          2097.2700  train  \n",
       "3         Grocery Store           732.3800  train  \n",
       "4     Supermarket Type1           994.7052  train  \n",
       "...                 ...                ...    ...  \n",
       "5676  Supermarket Type1                NaN   test  \n",
       "5677  Supermarket Type2                NaN   test  \n",
       "5678  Supermarket Type1                NaN   test  \n",
       "5679  Supermarket Type1                NaN   test  \n",
       "5680  Supermarket Type1                NaN   test  \n",
       "\n",
       "[14204 rows x 13 columns]"
      ]
     },
     "execution_count": 19,
     "metadata": {},
     "output_type": "execute_result"
    }
   ],
   "source": [
    "data"
   ]
  },
  {
   "cell_type": "code",
   "execution_count": 20,
   "metadata": {
    "id": "cCBT8zQK5mVZ"
   },
   "outputs": [],
   "source": [
    "data = data.reset_index().drop(columns=\"index\")"
   ]
  },
  {
   "cell_type": "code",
   "execution_count": 21,
   "metadata": {
    "colab": {
     "base_uri": "https://localhost:8080/"
    },
    "executionInfo": {
     "elapsed": 88,
     "status": "ok",
     "timestamp": 1626634072339,
     "user": {
      "displayName": "Mohamed Noordeen Alaudeen",
      "photoUrl": "",
      "userId": "13097854355562551879"
     },
     "user_tz": -330
    },
    "id": "-Oh8MbuJ5mVa",
    "outputId": "6458b0b2-c32b-4f5d-9778-1c95b6e5ba8d"
   },
   "outputs": [
    {
     "name": "stdout",
     "output_type": "stream",
     "text": [
      "<class 'pandas.core.frame.DataFrame'>\n",
      "RangeIndex: 14204 entries, 0 to 14203\n",
      "Data columns (total 13 columns):\n",
      " #   Column                     Non-Null Count  Dtype  \n",
      "---  ------                     --------------  -----  \n",
      " 0   Item_Identifier            14204 non-null  object \n",
      " 1   Item_Weight                11765 non-null  float64\n",
      " 2   Item_Fat_Content           14204 non-null  object \n",
      " 3   Item_Visibility            14204 non-null  float64\n",
      " 4   Item_Type                  14204 non-null  object \n",
      " 5   Item_MRP                   14204 non-null  float64\n",
      " 6   Outlet_Identifier          14204 non-null  object \n",
      " 7   Outlet_Establishment_Year  14204 non-null  int64  \n",
      " 8   Outlet_Size                10188 non-null  object \n",
      " 9   Outlet_Location_Type       14204 non-null  object \n",
      " 10  Outlet_Type                14204 non-null  object \n",
      " 11  Item_Outlet_Sales          8523 non-null   float64\n",
      " 12  data                       14204 non-null  object \n",
      "dtypes: float64(4), int64(1), object(8)\n",
      "memory usage: 1.4+ MB\n"
     ]
    }
   ],
   "source": [
    "data.info()"
   ]
  },
  {
   "cell_type": "code",
   "execution_count": 22,
   "metadata": {
    "colab": {
     "base_uri": "https://localhost:8080/",
     "height": 225
    },
    "executionInfo": {
     "elapsed": 82,
     "status": "ok",
     "timestamp": 1626634072339,
     "user": {
      "displayName": "Mohamed Noordeen Alaudeen",
      "photoUrl": "",
      "userId": "13097854355562551879"
     },
     "user_tz": -330
    },
    "id": "M_-S9pVY5mVa",
    "outputId": "4387e5c1-8c9d-427a-b3e8-17ebdc86ed73"
   },
   "outputs": [
    {
     "data": {
      "text/html": [
       "<div>\n",
       "<style scoped>\n",
       "    .dataframe tbody tr th:only-of-type {\n",
       "        vertical-align: middle;\n",
       "    }\n",
       "\n",
       "    .dataframe tbody tr th {\n",
       "        vertical-align: top;\n",
       "    }\n",
       "\n",
       "    .dataframe thead th {\n",
       "        text-align: right;\n",
       "    }\n",
       "</style>\n",
       "<table border=\"1\" class=\"dataframe\">\n",
       "  <thead>\n",
       "    <tr style=\"text-align: right;\">\n",
       "      <th></th>\n",
       "      <th>count</th>\n",
       "      <th>mean</th>\n",
       "      <th>std</th>\n",
       "      <th>min</th>\n",
       "      <th>25%</th>\n",
       "      <th>50%</th>\n",
       "      <th>75%</th>\n",
       "      <th>max</th>\n",
       "    </tr>\n",
       "  </thead>\n",
       "  <tbody>\n",
       "    <tr>\n",
       "      <th>Item_Weight</th>\n",
       "      <td>11765.0</td>\n",
       "      <td>12.792854</td>\n",
       "      <td>4.652502</td>\n",
       "      <td>4.555</td>\n",
       "      <td>8.710000</td>\n",
       "      <td>12.600000</td>\n",
       "      <td>16.750000</td>\n",
       "      <td>21.350000</td>\n",
       "    </tr>\n",
       "    <tr>\n",
       "      <th>Item_Visibility</th>\n",
       "      <td>14204.0</td>\n",
       "      <td>0.065953</td>\n",
       "      <td>0.051459</td>\n",
       "      <td>0.000</td>\n",
       "      <td>0.027036</td>\n",
       "      <td>0.054021</td>\n",
       "      <td>0.094037</td>\n",
       "      <td>0.328391</td>\n",
       "    </tr>\n",
       "    <tr>\n",
       "      <th>Item_MRP</th>\n",
       "      <td>14204.0</td>\n",
       "      <td>141.004977</td>\n",
       "      <td>62.086938</td>\n",
       "      <td>31.290</td>\n",
       "      <td>94.012000</td>\n",
       "      <td>142.247000</td>\n",
       "      <td>185.855600</td>\n",
       "      <td>266.888400</td>\n",
       "    </tr>\n",
       "    <tr>\n",
       "      <th>Outlet_Establishment_Year</th>\n",
       "      <td>14204.0</td>\n",
       "      <td>1997.830681</td>\n",
       "      <td>8.371664</td>\n",
       "      <td>1985.000</td>\n",
       "      <td>1987.000000</td>\n",
       "      <td>1999.000000</td>\n",
       "      <td>2004.000000</td>\n",
       "      <td>2009.000000</td>\n",
       "    </tr>\n",
       "    <tr>\n",
       "      <th>Item_Outlet_Sales</th>\n",
       "      <td>8523.0</td>\n",
       "      <td>2181.288914</td>\n",
       "      <td>1706.499616</td>\n",
       "      <td>33.290</td>\n",
       "      <td>834.247400</td>\n",
       "      <td>1794.331000</td>\n",
       "      <td>3101.296400</td>\n",
       "      <td>13086.964800</td>\n",
       "    </tr>\n",
       "  </tbody>\n",
       "</table>\n",
       "</div>"
      ],
      "text/plain": [
       "                             count         mean          std       min  \\\n",
       "Item_Weight                11765.0    12.792854     4.652502     4.555   \n",
       "Item_Visibility            14204.0     0.065953     0.051459     0.000   \n",
       "Item_MRP                   14204.0   141.004977    62.086938    31.290   \n",
       "Outlet_Establishment_Year  14204.0  1997.830681     8.371664  1985.000   \n",
       "Item_Outlet_Sales           8523.0  2181.288914  1706.499616    33.290   \n",
       "\n",
       "                                   25%          50%          75%           max  \n",
       "Item_Weight                   8.710000    12.600000    16.750000     21.350000  \n",
       "Item_Visibility               0.027036     0.054021     0.094037      0.328391  \n",
       "Item_MRP                     94.012000   142.247000   185.855600    266.888400  \n",
       "Outlet_Establishment_Year  1987.000000  1999.000000  2004.000000   2009.000000  \n",
       "Item_Outlet_Sales           834.247400  1794.331000  3101.296400  13086.964800  "
      ]
     },
     "execution_count": 22,
     "metadata": {},
     "output_type": "execute_result"
    }
   ],
   "source": [
    "data.describe().T"
   ]
  },
  {
   "cell_type": "code",
   "execution_count": 23,
   "metadata": {
    "colab": {
     "base_uri": "https://localhost:8080/"
    },
    "executionInfo": {
     "elapsed": 82,
     "status": "ok",
     "timestamp": 1626634072340,
     "user": {
      "displayName": "Mohamed Noordeen Alaudeen",
      "photoUrl": "",
      "userId": "13097854355562551879"
     },
     "user_tz": -330
    },
    "id": "kjzu577c5mVa",
    "outputId": "fc680c26-9013-4b4d-ed52-10e9b44aaeb1"
   },
   "outputs": [
    {
     "data": {
      "text/plain": [
       "Item_Identifier                 0\n",
       "Item_Weight                  2439\n",
       "Item_Fat_Content                0\n",
       "Item_Visibility                 0\n",
       "Item_Type                       0\n",
       "Item_MRP                        0\n",
       "Outlet_Identifier               0\n",
       "Outlet_Establishment_Year       0\n",
       "Outlet_Size                  4016\n",
       "Outlet_Location_Type            0\n",
       "Outlet_Type                     0\n",
       "Item_Outlet_Sales            5681\n",
       "data                            0\n",
       "dtype: int64"
      ]
     },
     "execution_count": 23,
     "metadata": {},
     "output_type": "execute_result"
    }
   ],
   "source": [
    "data.isna().sum()"
   ]
  },
  {
   "cell_type": "code",
   "execution_count": 24,
   "metadata": {
    "id": "INizzVhY5mVa"
   },
   "outputs": [],
   "source": [
    "numerical_columns = data.select_dtypes(include=np.number).drop(columns=['Outlet_Establishment_Year','Item_Outlet_Sales']).columns"
   ]
  },
  {
   "cell_type": "code",
   "execution_count": 25,
   "metadata": {
    "id": "RBCYnCaR5mVa"
   },
   "outputs": [],
   "source": [
    "category_columns = data.select_dtypes(exclude=np.number).columns\n",
    "#.drop(columns=['data','Item_Identifier', 'Outlet_Identifier']).columns"
   ]
  },
  {
   "cell_type": "code",
   "execution_count": 26,
   "metadata": {
    "colab": {
     "base_uri": "https://localhost:8080/"
    },
    "executionInfo": {
     "elapsed": 77,
     "status": "ok",
     "timestamp": 1626634072341,
     "user": {
      "displayName": "Mohamed Noordeen Alaudeen",
      "photoUrl": "",
      "userId": "13097854355562551879"
     },
     "user_tz": -330
    },
    "id": "6cfu6sYx5mVb",
    "outputId": "6f5b3d88-196c-42b5-b871-475e91eff97e"
   },
   "outputs": [
    {
     "data": {
      "text/plain": [
       "Index(['Item_Weight', 'Item_Visibility', 'Item_MRP'], dtype='object')"
      ]
     },
     "execution_count": 26,
     "metadata": {},
     "output_type": "execute_result"
    }
   ],
   "source": [
    "numerical_columns"
   ]
  },
  {
   "cell_type": "code",
   "execution_count": 27,
   "metadata": {
    "colab": {
     "base_uri": "https://localhost:8080/"
    },
    "executionInfo": {
     "elapsed": 74,
     "status": "ok",
     "timestamp": 1626634072341,
     "user": {
      "displayName": "Mohamed Noordeen Alaudeen",
      "photoUrl": "",
      "userId": "13097854355562551879"
     },
     "user_tz": -330
    },
    "id": "g5EviolO5mVb",
    "outputId": "c8d9d593-e80e-4813-c2d1-75adaabc83a2"
   },
   "outputs": [
    {
     "data": {
      "text/plain": [
       "Index(['Item_Identifier', 'Item_Fat_Content', 'Item_Type', 'Outlet_Identifier',\n",
       "       'Outlet_Size', 'Outlet_Location_Type', 'Outlet_Type', 'data'],\n",
       "      dtype='object')"
      ]
     },
     "execution_count": 27,
     "metadata": {},
     "output_type": "execute_result"
    }
   ],
   "source": [
    "category_columns"
   ]
  },
  {
   "cell_type": "code",
   "execution_count": 28,
   "metadata": {
    "colab": {
     "base_uri": "https://localhost:8080/"
    },
    "executionInfo": {
     "elapsed": 70,
     "status": "ok",
     "timestamp": 1626634072342,
     "user": {
      "displayName": "Mohamed Noordeen Alaudeen",
      "photoUrl": "",
      "userId": "13097854355562551879"
     },
     "user_tz": -330
    },
    "id": "teC9C2lz5mVb",
    "outputId": "e5fe5b2f-ba60-40ef-eb86-52db3ccad21d"
   },
   "outputs": [
    {
     "data": {
      "text/plain": [
       "Item_Identifier         1559\n",
       "Item_Fat_Content           5\n",
       "Item_Type                 16\n",
       "Outlet_Identifier         10\n",
       "Outlet_Size                3\n",
       "Outlet_Location_Type       3\n",
       "Outlet_Type                4\n",
       "data                       2\n",
       "dtype: int64"
      ]
     },
     "execution_count": 28,
     "metadata": {},
     "output_type": "execute_result"
    }
   ],
   "source": [
    "data[category_columns].apply(lambda x: x.nunique())"
   ]
  },
  {
   "cell_type": "code",
   "execution_count": 29,
   "metadata": {
    "colab": {
     "base_uri": "https://localhost:8080/"
    },
    "executionInfo": {
     "elapsed": 66,
     "status": "ok",
     "timestamp": 1626634072342,
     "user": {
      "displayName": "Mohamed Noordeen Alaudeen",
      "photoUrl": "",
      "userId": "13097854355562551879"
     },
     "user_tz": -330
    },
    "id": "EI7QnVgR5mVb",
    "outputId": "6fe83c2f-2f67-401c-acbf-a2f370a969be"
   },
   "outputs": [
    {
     "name": "stdout",
     "output_type": "stream",
     "text": [
      "FDR09    10\n",
      "FDR21    10\n",
      "FDZ26    10\n",
      "FDY32    10\n",
      "NCN07    10\n",
      "         ..\n",
      "DRN11     7\n",
      "FDR51     7\n",
      "FDS22     7\n",
      "FDI46     7\n",
      "FDM10     7\n",
      "Name: Item_Identifier, Length: 1559, dtype: int64\n",
      "Low Fat    8485\n",
      "Regular    4824\n",
      "LF          522\n",
      "reg         195\n",
      "low fat     178\n",
      "Name: Item_Fat_Content, dtype: int64\n",
      "Fruits and Vegetables    2013\n",
      "Snack Foods              1989\n",
      "Household                1548\n",
      "Frozen Foods             1426\n",
      "Dairy                    1136\n",
      "Baking Goods             1086\n",
      "Canned                   1084\n",
      "Health and Hygiene        858\n",
      "Meat                      736\n",
      "Soft Drinks               726\n",
      "Breads                    416\n",
      "Hard Drinks               362\n",
      "Others                    280\n",
      "Starchy Foods             269\n",
      "Breakfast                 186\n",
      "Seafood                    89\n",
      "Name: Item_Type, dtype: int64\n",
      "OUT027    1559\n",
      "OUT013    1553\n",
      "OUT049    1550\n",
      "OUT035    1550\n",
      "OUT046    1550\n",
      "OUT045    1548\n",
      "OUT018    1546\n",
      "OUT017    1543\n",
      "OUT010     925\n",
      "OUT019     880\n",
      "Name: Outlet_Identifier, dtype: int64\n",
      "Medium    4655\n",
      "Small     3980\n",
      "High      1553\n",
      "Name: Outlet_Size, dtype: int64\n",
      "Tier 3    5583\n",
      "Tier 2    4641\n",
      "Tier 1    3980\n",
      "Name: Outlet_Location_Type, dtype: int64\n",
      "Supermarket Type1    9294\n",
      "Grocery Store        1805\n",
      "Supermarket Type3    1559\n",
      "Supermarket Type2    1546\n",
      "Name: Outlet_Type, dtype: int64\n",
      "train    8523\n",
      "test     5681\n",
      "Name: data, dtype: int64\n"
     ]
    },
    {
     "data": {
      "text/plain": [
       "Item_Identifier         None\n",
       "Item_Fat_Content        None\n",
       "Item_Type               None\n",
       "Outlet_Identifier       None\n",
       "Outlet_Size             None\n",
       "Outlet_Location_Type    None\n",
       "Outlet_Type             None\n",
       "data                    None\n",
       "dtype: object"
      ]
     },
     "execution_count": 29,
     "metadata": {},
     "output_type": "execute_result"
    }
   ],
   "source": [
    "data[category_columns].apply(lambda x: print(x.value_counts()))"
   ]
  },
  {
   "cell_type": "markdown",
   "metadata": {
    "id": "UuVPmqys7pmY"
   },
   "source": [
    "Observation:<br>\n",
    "    1. Item_Identifier - aplha(3)numeric(2)<br>\n",
    "    2. Item_Fat_Content - we need to replace<br>\n",
    "    3. Item_Type - Group - check the relation with Item_Identifier<br>\n",
    "    4. Outlet_Identifier - Nothing<br>\n",
    "    5. Outlet_Size - Relation Outlet_Size and Outlet_Type<br>\n",
    "    6. Outlet_Location_Type<br>\n",
    "    7. Outlet_Type<br>\n",
    "    \n",
    "    \n",
    "    \n",
    "    "
   ]
  },
  {
   "cell_type": "code",
   "execution_count": 30,
   "metadata": {
    "colab": {
     "base_uri": "https://localhost:8080/"
    },
    "executionInfo": {
     "elapsed": 62,
     "status": "ok",
     "timestamp": 1626634072343,
     "user": {
      "displayName": "Mohamed Noordeen Alaudeen",
      "photoUrl": "",
      "userId": "13097854355562551879"
     },
     "user_tz": -330
    },
    "id": "I3UHq09d5mVc",
    "outputId": "ae6b0415-5447-4076-f551-d85af50bdb5c"
   },
   "outputs": [
    {
     "data": {
      "text/plain": [
       "Item_Weight        2439\n",
       "Item_Visibility       0\n",
       "Item_MRP              0\n",
       "dtype: int64"
      ]
     },
     "execution_count": 30,
     "metadata": {},
     "output_type": "execute_result"
    }
   ],
   "source": [
    "data[numerical_columns].isna().sum()"
   ]
  },
  {
   "cell_type": "code",
   "execution_count": 31,
   "metadata": {
    "colab": {
     "base_uri": "https://localhost:8080/"
    },
    "executionInfo": {
     "elapsed": 58,
     "status": "ok",
     "timestamp": 1626634072344,
     "user": {
      "displayName": "Mohamed Noordeen Alaudeen",
      "photoUrl": "",
      "userId": "13097854355562551879"
     },
     "user_tz": -330
    },
    "id": "d5-7Fv9G5mVc",
    "outputId": "2cc739f3-9de8-4a83-9236-e5efc308e94b"
   },
   "outputs": [
    {
     "data": {
      "text/plain": [
       "Item_Identifier            0\n",
       "Item_Fat_Content           0\n",
       "Item_Type                  0\n",
       "Outlet_Identifier          0\n",
       "Outlet_Size             4016\n",
       "Outlet_Location_Type       0\n",
       "Outlet_Type                0\n",
       "data                       0\n",
       "dtype: int64"
      ]
     },
     "execution_count": 31,
     "metadata": {},
     "output_type": "execute_result"
    }
   ],
   "source": [
    "data[category_columns].isna().sum()"
   ]
  },
  {
   "cell_type": "markdown",
   "metadata": {
    "id": "oS80yvy57-vR"
   },
   "source": [
    "**MISSING VALUES:**<br>\n",
    "        1. ITEM_WEIGHT - item type - mean fill<br>\n",
    "        2. Outlet_Size - Mode - Outlet Identfier , Unknown ,<br> \n",
    "        3. Item_Visibility - we need replace 0 with NA,  do the impution<br>\n",
    "\n",
    "\n",
    "**Observation:**<br>\n",
    "    1. 10 Outlet<br>\n",
    "    2. 16 Item Type<br>\n",
    "    3. OUT027 - highest sales , OUT019 - Lowest sales<br>"
   ]
  },
  {
   "cell_type": "code",
   "execution_count": null,
   "metadata": {
    "id": "4qKxATse5mVc"
   },
   "outputs": [],
   "source": [
    "\n",
    "     "
   ]
  },
  {
   "cell_type": "code",
   "execution_count": 32,
   "metadata": {
    "colab": {
     "base_uri": "https://localhost:8080/",
     "height": 612
    },
    "executionInfo": {
     "elapsed": 54,
     "status": "ok",
     "timestamp": 1626634072345,
     "user": {
      "displayName": "Mohamed Noordeen Alaudeen",
      "photoUrl": "",
      "userId": "13097854355562551879"
     },
     "user_tz": -330
    },
    "id": "uG616kGh5mVd",
    "outputId": "60cd876e-17f2-41c2-e5a7-062610e5b2ad"
   },
   "outputs": [
    {
     "data": {
      "text/html": [
       "<div>\n",
       "<style scoped>\n",
       "    .dataframe tbody tr th:only-of-type {\n",
       "        vertical-align: middle;\n",
       "    }\n",
       "\n",
       "    .dataframe tbody tr th {\n",
       "        vertical-align: top;\n",
       "    }\n",
       "\n",
       "    .dataframe thead th {\n",
       "        text-align: right;\n",
       "    }\n",
       "</style>\n",
       "<table border=\"1\" class=\"dataframe\">\n",
       "  <thead>\n",
       "    <tr style=\"text-align: right;\">\n",
       "      <th></th>\n",
       "      <th>Item_Identifier</th>\n",
       "      <th>Item_Weight</th>\n",
       "      <th>Item_Fat_Content</th>\n",
       "      <th>Item_Visibility</th>\n",
       "      <th>Item_Type</th>\n",
       "      <th>Item_MRP</th>\n",
       "      <th>Outlet_Identifier</th>\n",
       "      <th>Outlet_Establishment_Year</th>\n",
       "      <th>Outlet_Size</th>\n",
       "      <th>Outlet_Location_Type</th>\n",
       "      <th>Outlet_Type</th>\n",
       "      <th>Item_Outlet_Sales</th>\n",
       "      <th>data</th>\n",
       "    </tr>\n",
       "  </thead>\n",
       "  <tbody>\n",
       "    <tr>\n",
       "      <th>0</th>\n",
       "      <td>FDA15</td>\n",
       "      <td>9.300</td>\n",
       "      <td>Low Fat</td>\n",
       "      <td>0.016047</td>\n",
       "      <td>Dairy</td>\n",
       "      <td>249.8092</td>\n",
       "      <td>OUT049</td>\n",
       "      <td>1999</td>\n",
       "      <td>Medium</td>\n",
       "      <td>Tier 1</td>\n",
       "      <td>Supermarket Type1</td>\n",
       "      <td>3735.1380</td>\n",
       "      <td>train</td>\n",
       "    </tr>\n",
       "    <tr>\n",
       "      <th>1</th>\n",
       "      <td>DRC01</td>\n",
       "      <td>5.920</td>\n",
       "      <td>Regular</td>\n",
       "      <td>0.019278</td>\n",
       "      <td>Soft Drinks</td>\n",
       "      <td>48.2692</td>\n",
       "      <td>OUT018</td>\n",
       "      <td>2009</td>\n",
       "      <td>Medium</td>\n",
       "      <td>Tier 3</td>\n",
       "      <td>Supermarket Type2</td>\n",
       "      <td>443.4228</td>\n",
       "      <td>train</td>\n",
       "    </tr>\n",
       "    <tr>\n",
       "      <th>2</th>\n",
       "      <td>FDN15</td>\n",
       "      <td>17.500</td>\n",
       "      <td>Low Fat</td>\n",
       "      <td>0.016760</td>\n",
       "      <td>Meat</td>\n",
       "      <td>141.6180</td>\n",
       "      <td>OUT049</td>\n",
       "      <td>1999</td>\n",
       "      <td>Medium</td>\n",
       "      <td>Tier 1</td>\n",
       "      <td>Supermarket Type1</td>\n",
       "      <td>2097.2700</td>\n",
       "      <td>train</td>\n",
       "    </tr>\n",
       "    <tr>\n",
       "      <th>3</th>\n",
       "      <td>FDX07</td>\n",
       "      <td>19.200</td>\n",
       "      <td>Regular</td>\n",
       "      <td>0.000000</td>\n",
       "      <td>Fruits and Vegetables</td>\n",
       "      <td>182.0950</td>\n",
       "      <td>OUT010</td>\n",
       "      <td>1998</td>\n",
       "      <td>NaN</td>\n",
       "      <td>Tier 3</td>\n",
       "      <td>Grocery Store</td>\n",
       "      <td>732.3800</td>\n",
       "      <td>train</td>\n",
       "    </tr>\n",
       "    <tr>\n",
       "      <th>4</th>\n",
       "      <td>NCD19</td>\n",
       "      <td>8.930</td>\n",
       "      <td>Low Fat</td>\n",
       "      <td>0.000000</td>\n",
       "      <td>Household</td>\n",
       "      <td>53.8614</td>\n",
       "      <td>OUT013</td>\n",
       "      <td>1987</td>\n",
       "      <td>High</td>\n",
       "      <td>Tier 3</td>\n",
       "      <td>Supermarket Type1</td>\n",
       "      <td>994.7052</td>\n",
       "      <td>train</td>\n",
       "    </tr>\n",
       "    <tr>\n",
       "      <th>...</th>\n",
       "      <td>...</td>\n",
       "      <td>...</td>\n",
       "      <td>...</td>\n",
       "      <td>...</td>\n",
       "      <td>...</td>\n",
       "      <td>...</td>\n",
       "      <td>...</td>\n",
       "      <td>...</td>\n",
       "      <td>...</td>\n",
       "      <td>...</td>\n",
       "      <td>...</td>\n",
       "      <td>...</td>\n",
       "      <td>...</td>\n",
       "    </tr>\n",
       "    <tr>\n",
       "      <th>8518</th>\n",
       "      <td>FDF22</td>\n",
       "      <td>6.865</td>\n",
       "      <td>Low Fat</td>\n",
       "      <td>0.056783</td>\n",
       "      <td>Snack Foods</td>\n",
       "      <td>214.5218</td>\n",
       "      <td>OUT013</td>\n",
       "      <td>1987</td>\n",
       "      <td>High</td>\n",
       "      <td>Tier 3</td>\n",
       "      <td>Supermarket Type1</td>\n",
       "      <td>2778.3834</td>\n",
       "      <td>train</td>\n",
       "    </tr>\n",
       "    <tr>\n",
       "      <th>8519</th>\n",
       "      <td>FDS36</td>\n",
       "      <td>8.380</td>\n",
       "      <td>Regular</td>\n",
       "      <td>0.046982</td>\n",
       "      <td>Baking Goods</td>\n",
       "      <td>108.1570</td>\n",
       "      <td>OUT045</td>\n",
       "      <td>2002</td>\n",
       "      <td>NaN</td>\n",
       "      <td>Tier 2</td>\n",
       "      <td>Supermarket Type1</td>\n",
       "      <td>549.2850</td>\n",
       "      <td>train</td>\n",
       "    </tr>\n",
       "    <tr>\n",
       "      <th>8520</th>\n",
       "      <td>NCJ29</td>\n",
       "      <td>10.600</td>\n",
       "      <td>Low Fat</td>\n",
       "      <td>0.035186</td>\n",
       "      <td>Health and Hygiene</td>\n",
       "      <td>85.1224</td>\n",
       "      <td>OUT035</td>\n",
       "      <td>2004</td>\n",
       "      <td>Small</td>\n",
       "      <td>Tier 2</td>\n",
       "      <td>Supermarket Type1</td>\n",
       "      <td>1193.1136</td>\n",
       "      <td>train</td>\n",
       "    </tr>\n",
       "    <tr>\n",
       "      <th>8521</th>\n",
       "      <td>FDN46</td>\n",
       "      <td>7.210</td>\n",
       "      <td>Regular</td>\n",
       "      <td>0.145221</td>\n",
       "      <td>Snack Foods</td>\n",
       "      <td>103.1332</td>\n",
       "      <td>OUT018</td>\n",
       "      <td>2009</td>\n",
       "      <td>Medium</td>\n",
       "      <td>Tier 3</td>\n",
       "      <td>Supermarket Type2</td>\n",
       "      <td>1845.5976</td>\n",
       "      <td>train</td>\n",
       "    </tr>\n",
       "    <tr>\n",
       "      <th>8522</th>\n",
       "      <td>DRG01</td>\n",
       "      <td>14.800</td>\n",
       "      <td>Low Fat</td>\n",
       "      <td>0.044878</td>\n",
       "      <td>Soft Drinks</td>\n",
       "      <td>75.4670</td>\n",
       "      <td>OUT046</td>\n",
       "      <td>1997</td>\n",
       "      <td>Small</td>\n",
       "      <td>Tier 1</td>\n",
       "      <td>Supermarket Type1</td>\n",
       "      <td>765.6700</td>\n",
       "      <td>train</td>\n",
       "    </tr>\n",
       "  </tbody>\n",
       "</table>\n",
       "<p>8523 rows × 13 columns</p>\n",
       "</div>"
      ],
      "text/plain": [
       "     Item_Identifier  Item_Weight Item_Fat_Content  Item_Visibility  \\\n",
       "0              FDA15        9.300          Low Fat         0.016047   \n",
       "1              DRC01        5.920          Regular         0.019278   \n",
       "2              FDN15       17.500          Low Fat         0.016760   \n",
       "3              FDX07       19.200          Regular         0.000000   \n",
       "4              NCD19        8.930          Low Fat         0.000000   \n",
       "...              ...          ...              ...              ...   \n",
       "8518           FDF22        6.865          Low Fat         0.056783   \n",
       "8519           FDS36        8.380          Regular         0.046982   \n",
       "8520           NCJ29       10.600          Low Fat         0.035186   \n",
       "8521           FDN46        7.210          Regular         0.145221   \n",
       "8522           DRG01       14.800          Low Fat         0.044878   \n",
       "\n",
       "                  Item_Type  Item_MRP Outlet_Identifier  \\\n",
       "0                     Dairy  249.8092            OUT049   \n",
       "1               Soft Drinks   48.2692            OUT018   \n",
       "2                      Meat  141.6180            OUT049   \n",
       "3     Fruits and Vegetables  182.0950            OUT010   \n",
       "4                 Household   53.8614            OUT013   \n",
       "...                     ...       ...               ...   \n",
       "8518            Snack Foods  214.5218            OUT013   \n",
       "8519           Baking Goods  108.1570            OUT045   \n",
       "8520     Health and Hygiene   85.1224            OUT035   \n",
       "8521            Snack Foods  103.1332            OUT018   \n",
       "8522            Soft Drinks   75.4670            OUT046   \n",
       "\n",
       "      Outlet_Establishment_Year Outlet_Size Outlet_Location_Type  \\\n",
       "0                          1999      Medium               Tier 1   \n",
       "1                          2009      Medium               Tier 3   \n",
       "2                          1999      Medium               Tier 1   \n",
       "3                          1998         NaN               Tier 3   \n",
       "4                          1987        High               Tier 3   \n",
       "...                         ...         ...                  ...   \n",
       "8518                       1987        High               Tier 3   \n",
       "8519                       2002         NaN               Tier 2   \n",
       "8520                       2004       Small               Tier 2   \n",
       "8521                       2009      Medium               Tier 3   \n",
       "8522                       1997       Small               Tier 1   \n",
       "\n",
       "            Outlet_Type  Item_Outlet_Sales   data  \n",
       "0     Supermarket Type1          3735.1380  train  \n",
       "1     Supermarket Type2           443.4228  train  \n",
       "2     Supermarket Type1          2097.2700  train  \n",
       "3         Grocery Store           732.3800  train  \n",
       "4     Supermarket Type1           994.7052  train  \n",
       "...                 ...                ...    ...  \n",
       "8518  Supermarket Type1          2778.3834  train  \n",
       "8519  Supermarket Type1           549.2850  train  \n",
       "8520  Supermarket Type1          1193.1136  train  \n",
       "8521  Supermarket Type2          1845.5976  train  \n",
       "8522  Supermarket Type1           765.6700  train  \n",
       "\n",
       "[8523 rows x 13 columns]"
      ]
     },
     "execution_count": 32,
     "metadata": {},
     "output_type": "execute_result"
    }
   ],
   "source": [
    "train"
   ]
  },
  {
   "cell_type": "code",
   "execution_count": 33,
   "metadata": {
    "colab": {
     "base_uri": "https://localhost:8080/"
    },
    "executionInfo": {
     "elapsed": 53,
     "status": "ok",
     "timestamp": 1626634072345,
     "user": {
      "displayName": "Mohamed Noordeen Alaudeen",
      "photoUrl": "",
      "userId": "13097854355562551879"
     },
     "user_tz": -330
    },
    "id": "5OXKkgW65mVd",
    "outputId": "06f8712e-951c-4ca8-fdd7-a989e1b797a5"
   },
   "outputs": [
    {
     "data": {
      "text/plain": [
       "Item_Type\n",
       "Baking Goods             1598.334276\n",
       "Breads                   2612.090059\n",
       "Breakfast                1828.064867\n",
       "Canned                   2257.667273\n",
       "Dairy                    2220.057537\n",
       "Frozen Foods             2152.870827\n",
       "Fruits and Vegetables    2570.240545\n",
       "Hard Drinks              2127.152671\n",
       "Health and Hygiene       2117.022067\n",
       "Household                2066.003510\n",
       "Meat                     2027.760480\n",
       "Others                   2065.245020\n",
       "Seafood                  2662.034850\n",
       "Snack Foods              2268.321853\n",
       "Soft Drinks              2079.450059\n",
       "Starchy Foods            3118.518427\n",
       "Name: Item_Outlet_Sales, dtype: float64"
      ]
     },
     "execution_count": 33,
     "metadata": {},
     "output_type": "execute_result"
    }
   ],
   "source": [
    "train.groupby([\"Item_Visibility\",\"Item_Type\"]).Item_Outlet_Sales.mean()[0.000000]"
   ]
  },
  {
   "cell_type": "code",
   "execution_count": 34,
   "metadata": {
    "colab": {
     "base_uri": "https://localhost:8080/"
    },
    "executionInfo": {
     "elapsed": 48,
     "status": "ok",
     "timestamp": 1626634072346,
     "user": {
      "displayName": "Mohamed Noordeen Alaudeen",
      "photoUrl": "",
      "userId": "13097854355562551879"
     },
     "user_tz": -330
    },
    "id": "RwIAAt0w5mVd",
    "outputId": "642c865f-a7f2-4bb0-ac48-359ca015b22c"
   },
   "outputs": [
    {
     "data": {
      "text/plain": [
       "Item_Visibility  Item_Type            \n",
       "0.000000         Baking Goods             1598.334276\n",
       "                 Breads                   2612.090059\n",
       "                 Breakfast                1828.064867\n",
       "                 Canned                   2257.667273\n",
       "                 Dairy                    2220.057537\n",
       "                                             ...     \n",
       "0.309390         Household                 138.486400\n",
       "0.311090         Baking Goods              154.465600\n",
       "0.321115         Fruits and Vegetables     199.740000\n",
       "0.325781         Household                 761.009400\n",
       "0.328391         Canned                    588.567200\n",
       "Name: Item_Outlet_Sales, Length: 8006, dtype: float64"
      ]
     },
     "execution_count": 34,
     "metadata": {},
     "output_type": "execute_result"
    }
   ],
   "source": [
    "train.groupby([\"Item_Visibility\",\"Item_Type\"]).Item_Outlet_Sales.mean()"
   ]
  },
  {
   "cell_type": "code",
   "execution_count": 35,
   "metadata": {
    "colab": {
     "base_uri": "https://localhost:8080/"
    },
    "executionInfo": {
     "elapsed": 45,
     "status": "ok",
     "timestamp": 1626634072346,
     "user": {
      "displayName": "Mohamed Noordeen Alaudeen",
      "photoUrl": "",
      "userId": "13097854355562551879"
     },
     "user_tz": -330
    },
    "id": "mM6L9KP65mVd",
    "outputId": "b448448e-8b6a-437d-cc6a-45e4e576d8e2"
   },
   "outputs": [
    {
     "data": {
      "text/plain": [
       "Outlet_Identifier\n",
       "OUT027    3.453926e+06\n",
       "OUT035    2.268123e+06\n",
       "OUT049    2.183970e+06\n",
       "OUT017    2.167465e+06\n",
       "OUT013    2.142664e+06\n",
       "OUT046    2.118395e+06\n",
       "OUT045    2.036725e+06\n",
       "OUT018    1.851823e+06\n",
       "OUT010    1.883402e+05\n",
       "OUT019    1.796941e+05\n",
       "Name: Item_Outlet_Sales, dtype: float64"
      ]
     },
     "execution_count": 35,
     "metadata": {},
     "output_type": "execute_result"
    }
   ],
   "source": [
    "data.groupby(\"Outlet_Identifier\").Item_Outlet_Sales.sum().sort_values(ascending=False)"
   ]
  },
  {
   "cell_type": "code",
   "execution_count": 36,
   "metadata": {
    "colab": {
     "base_uri": "https://localhost:8080/"
    },
    "executionInfo": {
     "elapsed": 42,
     "status": "ok",
     "timestamp": 1626634072347,
     "user": {
      "displayName": "Mohamed Noordeen Alaudeen",
      "photoUrl": "",
      "userId": "13097854355562551879"
     },
     "user_tz": -330
    },
    "id": "NCZMPF4c5mVd",
    "outputId": "fe3aab5a-b11c-4446-a03f-318c1905dd52"
   },
   "outputs": [
    {
     "data": {
      "text/plain": [
       "Item_Identifier\n",
       "FDY55    42661.8008\n",
       "FDA15    41584.5364\n",
       "FDZ20    40185.0248\n",
       "FDF05    36555.7490\n",
       "FDA04    35741.4756\n",
       "            ...    \n",
       "FDQ04      784.3124\n",
       "FDF38      771.6622\n",
       "FDY43      673.7896\n",
       "NCR42      332.9000\n",
       "FDQ60      120.5098\n",
       "Name: Item_Outlet_Sales, Length: 1559, dtype: float64"
      ]
     },
     "execution_count": 36,
     "metadata": {},
     "output_type": "execute_result"
    }
   ],
   "source": [
    "data.groupby(\"Item_Identifier\").Item_Outlet_Sales.sum().sort_values(ascending=False)"
   ]
  },
  {
   "cell_type": "code",
   "execution_count": 37,
   "metadata": {
    "colab": {
     "base_uri": "https://localhost:8080/"
    },
    "executionInfo": {
     "elapsed": 37,
     "status": "ok",
     "timestamp": 1626634072347,
     "user": {
      "displayName": "Mohamed Noordeen Alaudeen",
      "photoUrl": "",
      "userId": "13097854355562551879"
     },
     "user_tz": -330
    },
    "id": "KA4Lci1p5mVe",
    "outputId": "3d239be1-3cf4-4a4f-a8aa-33fb834f7ef9"
   },
   "outputs": [
    {
     "data": {
      "text/plain": [
       "Item_Identifier\n",
       "NCE42    13086.9648\n",
       "FDQ19    12117.5600\n",
       "FDZ20    11445.1020\n",
       "FDP33    10993.6896\n",
       "FDI50    10306.5840\n",
       "FDU14    10236.6750\n",
       "NCH18    10072.8882\n",
       "FDC17     9678.0688\n",
       "FDG32     9562.2196\n",
       "DRF36     9554.2300\n",
       "FDY02     9467.6760\n",
       "FDO03     9390.4432\n",
       "FDU55     9371.8008\n",
       "FDN58     9267.9360\n",
       "FDY55     9251.9568\n",
       "FDP15     9227.9880\n",
       "FDS26     9158.0790\n",
       "FDS44     9133.4444\n",
       "FDR35     8958.3390\n",
       "FDH10     8912.3988\n",
       "Name: Item_Outlet_Sales, dtype: float64"
      ]
     },
     "execution_count": 37,
     "metadata": {},
     "output_type": "execute_result"
    }
   ],
   "source": [
    "data[data[\"Outlet_Identifier\"]==\"OUT027\"].groupby(\"Item_Identifier\").Item_Outlet_Sales.sum().sort_values(ascending=False).head(20)"
   ]
  },
  {
   "cell_type": "markdown",
   "metadata": {
    "id": "gmFpX8tr5mVe"
   },
   "source": [
    "# Exploratory Data Analysis"
   ]
  },
  {
   "cell_type": "code",
   "execution_count": 38,
   "metadata": {
    "colab": {
     "base_uri": "https://localhost:8080/",
     "height": 338
    },
    "executionInfo": {
     "elapsed": 35,
     "status": "ok",
     "timestamp": 1626634072348,
     "user": {
      "displayName": "Mohamed Noordeen Alaudeen",
      "photoUrl": "",
      "userId": "13097854355562551879"
     },
     "user_tz": -330
    },
    "id": "7si6bXgn5mVe",
    "outputId": "a3672a67-d934-468a-fd70-aa915f773559"
   },
   "outputs": [
    {
     "data": {
      "text/plain": [
       "<AxesSubplot:xlabel='Outlet_Identifier'>"
      ]
     },
     "execution_count": 38,
     "metadata": {},
     "output_type": "execute_result"
    },
    {
     "data": {
      "image/png": "[encoded data removed]",
      "text/plain": [
       "<Figure size 432x288 with 1 Axes>"
      ]
     },
     "metadata": {
      "needs_background": "light"
     },
     "output_type": "display_data"
    }
   ],
   "source": [
    "data.groupby(\"Outlet_Identifier\").Item_Outlet_Sales.sum().sort_values(ascending=False).plot(kind = \"bar\")"
   ]
  },
  {
   "cell_type": "code",
   "execution_count": 39,
   "metadata": {
    "colab": {
     "base_uri": "https://localhost:8080/",
     "height": 322
    },
    "executionInfo": {
     "elapsed": 458,
     "status": "ok",
     "timestamp": 1626634072777,
     "user": {
      "displayName": "Mohamed Noordeen Alaudeen",
      "photoUrl": "",
      "userId": "13097854355562551879"
     },
     "user_tz": -330
    },
    "id": "u6LMhQOv5mVe",
    "outputId": "9abfc66e-3b36-4ab6-ae91-8e797d41fed5"
   },
   "outputs": [
    {
     "data": {
      "text/plain": [
       "<AxesSubplot:xlabel='Item_Identifier'>"
      ]
     },
     "execution_count": 39,
     "metadata": {},
     "output_type": "execute_result"
    },
    {
     "data": {
      "image/png": "[encoded data removed]",
      "text/plain": [
       "<Figure size 432x288 with 1 Axes>"
      ]
     },
     "metadata": {
      "needs_background": "light"
     },
     "output_type": "display_data"
    }
   ],
   "source": [
    "data.groupby(\"Item_Identifier\").Item_Outlet_Sales.sum().sort_values(ascending=False).head(10).plot(kind = \"bar\")"
   ]
  },
  {
   "cell_type": "code",
   "execution_count": 40,
   "metadata": {
    "colab": {
     "base_uri": "https://localhost:8080/",
     "height": 395
    },
    "executionInfo": {
     "elapsed": 17,
     "status": "ok",
     "timestamp": 1626634072778,
     "user": {
      "displayName": "Mohamed Noordeen Alaudeen",
      "photoUrl": "",
      "userId": "13097854355562551879"
     },
     "user_tz": -330
    },
    "id": "Iq39oeRJ5mVe",
    "outputId": "45bfac6c-cb0d-4908-a71a-d3157a1dc60b"
   },
   "outputs": [
    {
     "data": {
      "text/plain": [
       "<AxesSubplot:xlabel='Outlet_Type'>"
      ]
     },
     "execution_count": 40,
     "metadata": {},
     "output_type": "execute_result"
    },
    {
     "data": {
      "image/png": "[encoded data removed]",
      "text/plain": [
       "<Figure size 432x288 with 1 Axes>"
      ]
     },
     "metadata": {
      "needs_background": "light"
     },
     "output_type": "display_data"
    }
   ],
   "source": [
    "data.groupby(\"Outlet_Type\").Item_Outlet_Sales.sum().sort_values(ascending=False).head(10).plot(kind = \"bar\")"
   ]
  },
  {
   "cell_type": "code",
   "execution_count": 41,
   "metadata": {
    "colab": {
     "base_uri": "https://localhost:8080/",
     "height": 406
    },
    "executionInfo": {
     "elapsed": 853,
     "status": "ok",
     "timestamp": 1626634073622,
     "user": {
      "displayName": "Mohamed Noordeen Alaudeen",
      "photoUrl": "",
      "userId": "13097854355562551879"
     },
     "user_tz": -330
    },
    "id": "1J75RBxG5mVf",
    "outputId": "bde878f9-bf30-4d9e-8697-df22409ea09f"
   },
   "outputs": [
    {
     "data": {
      "text/plain": [
       "<AxesSubplot:xlabel='Item_Type'>"
      ]
     },
     "execution_count": 41,
     "metadata": {},
     "output_type": "execute_result"
    },
    {
     "data": {
      "image/png": "[encoded data removed]",
      "text/plain": [
       "<Figure size 432x288 with 1 Axes>"
      ]
     },
     "metadata": {
      "needs_background": "light"
     },
     "output_type": "display_data"
    }
   ],
   "source": [
    "data.groupby(\"Item_Type\").Item_Outlet_Sales.sum().sort_values(ascending=False).head(16).plot(kind = \"bar\")"
   ]
  },
  {
   "cell_type": "code",
   "execution_count": 42,
   "metadata": {
    "colab": {
     "base_uri": "https://localhost:8080/",
     "height": 395
    },
    "executionInfo": {
     "elapsed": 18,
     "status": "ok",
     "timestamp": 1626634073623,
     "user": {
      "displayName": "Mohamed Noordeen Alaudeen",
      "photoUrl": "",
      "userId": "13097854355562551879"
     },
     "user_tz": -330
    },
    "id": "QBeuEPvh5mVf",
    "outputId": "12206c4d-a5b9-4ced-ec17-24f145ade26f"
   },
   "outputs": [
    {
     "data": {
      "text/plain": [
       "<AxesSubplot:xlabel='Item_Type'>"
      ]
     },
     "execution_count": 42,
     "metadata": {},
     "output_type": "execute_result"
    },
    {
     "data": {
      "image/png": "[encoded data removed]",
      "text/plain": [
       "<Figure size 432x288 with 1 Axes>"
      ]
     },
     "metadata": {
      "needs_background": "light"
     },
     "output_type": "display_data"
    }
   ],
   "source": [
    "data.groupby(\"Item_Type\").Item_Visibility.mean().sort_values(ascending = False).plot(kind = \"bar\")"
   ]
  },
  {
   "cell_type": "code",
   "execution_count": 43,
   "metadata": {
    "colab": {
     "base_uri": "https://localhost:8080/",
     "height": 403
    },
    "executionInfo": {
     "elapsed": 1135,
     "status": "ok",
     "timestamp": 1626634074749,
     "user": {
      "displayName": "Mohamed Noordeen Alaudeen",
      "photoUrl": "",
      "userId": "13097854355562551879"
     },
     "user_tz": -330
    },
    "id": "aAfQVC6R5mVf",
    "outputId": "9a5941a8-251f-47c3-dd41-88ea8386e516"
   },
   "outputs": [
    {
     "data": {
      "text/plain": [
       "<AxesSubplot:title={'center':'Item_Weight'}, xlabel='Outlet_Identifier'>"
      ]
     },
     "execution_count": 43,
     "metadata": {},
     "output_type": "execute_result"
    },
    {
     "data": {
      "image/png": "[encoded data removed]",
      "text/plain": [
       "<Figure size 432x288 with 1 Axes>"
      ]
     },
     "metadata": {
      "needs_background": "light"
     },
     "output_type": "display_data"
    }
   ],
   "source": [
    "data.boxplot(column = \"Item_Weight\", by = \"Outlet_Identifier\", rot = 90)"
   ]
  },
  {
   "cell_type": "code",
   "execution_count": 44,
   "metadata": {
    "colab": {
     "base_uri": "https://localhost:8080/",
     "height": 459
    },
    "executionInfo": {
     "elapsed": 32,
     "status": "ok",
     "timestamp": 1626634074749,
     "user": {
      "displayName": "Mohamed Noordeen Alaudeen",
      "photoUrl": "",
      "userId": "13097854355562551879"
     },
     "user_tz": -330
    },
    "id": "aD3UgZgV5mVf",
    "outputId": "56d5e19e-9dfd-497a-9474-a3ab3e7b943d"
   },
   "outputs": [
    {
     "data": {
      "text/plain": [
       "<AxesSubplot:title={'center':'Item_Outlet_Sales'}, xlabel='Outlet_Type'>"
      ]
     },
     "execution_count": 44,
     "metadata": {},
     "output_type": "execute_result"
    },
    {
     "data": {
      "image/png": "[encoded data removed]",
      "text/plain": [
       "<Figure size 432x288 with 1 Axes>"
      ]
     },
     "metadata": {
      "needs_background": "light"
     },
     "output_type": "display_data"
    }
   ],
   "source": [
    "data.boxplot(column = \"Item_Outlet_Sales\", by = \"Outlet_Type\", rot = 90)"
   ]
  },
  {
   "cell_type": "code",
   "execution_count": 45,
   "metadata": {
    "colab": {
     "base_uri": "https://localhost:8080/",
     "height": 459
    },
    "executionInfo": {
     "elapsed": 26,
     "status": "ok",
     "timestamp": 1626634074750,
     "user": {
      "displayName": "Mohamed Noordeen Alaudeen",
      "photoUrl": "",
      "userId": "13097854355562551879"
     },
     "user_tz": -330
    },
    "id": "JM32VYUk5mVf",
    "outputId": "d55e891f-3818-48e4-e34c-09ac3d3cbb5e",
    "scrolled": true
   },
   "outputs": [
    {
     "data": {
      "text/plain": [
       "<AxesSubplot:title={'center':'Item_Visibility'}, xlabel='Outlet_Type'>"
      ]
     },
     "execution_count": 45,
     "metadata": {},
     "output_type": "execute_result"
    },
    {
     "data": {
      "image/png": "[encoded data removed]",
      "text/plain": [
       "<Figure size 432x288 with 1 Axes>"
      ]
     },
     "metadata": {
      "needs_background": "light"
     },
     "output_type": "display_data"
    }
   ],
   "source": [
    "data.boxplot(column = \"Item_Visibility\", by = \"Outlet_Type\", rot = 90)"
   ]
  },
  {
   "cell_type": "code",
   "execution_count": null,
   "metadata": {
    "id": "nssfsbLZ5mVg"
   },
   "outputs": [],
   "source": []
  },
  {
   "cell_type": "code",
   "execution_count": 46,
   "metadata": {
    "colab": {
     "base_uri": "https://localhost:8080/"
    },
    "executionInfo": {
     "elapsed": 22,
     "status": "ok",
     "timestamp": 1626634074751,
     "user": {
      "displayName": "Mohamed Noordeen Alaudeen",
      "photoUrl": "",
      "userId": "13097854355562551879"
     },
     "user_tz": -330
    },
    "id": "ZzMTurZI5mVg",
    "outputId": "252e838c-30ed-412a-c40d-464ab5e0235b"
   },
   "outputs": [
    {
     "data": {
      "text/plain": [
       "Medium    4655\n",
       "Small     3980\n",
       "High      1553\n",
       "Name: Outlet_Size, dtype: int64"
      ]
     },
     "execution_count": 46,
     "metadata": {},
     "output_type": "execute_result"
    }
   ],
   "source": [
    "data[\"Outlet_Size\"].value_counts()"
   ]
  },
  {
   "cell_type": "code",
   "execution_count": 47,
   "metadata": {
    "colab": {
     "base_uri": "https://localhost:8080/"
    },
    "executionInfo": {
     "elapsed": 17,
     "status": "ok",
     "timestamp": 1626634074751,
     "user": {
      "displayName": "Mohamed Noordeen Alaudeen",
      "photoUrl": "",
      "userId": "13097854355562551879"
     },
     "user_tz": -330
    },
    "id": "zhGbyIIy5mVg",
    "outputId": "fd6fe314-3e37-4a29-cbaf-5803199d66da",
    "scrolled": true
   },
   "outputs": [
    {
     "data": {
      "text/plain": [
       "Index(['Item_Identifier', 'Item_Weight', 'Item_Fat_Content', 'Item_Visibility',\n",
       "       'Item_Type', 'Item_MRP', 'Outlet_Identifier',\n",
       "       'Outlet_Establishment_Year', 'Outlet_Size', 'Outlet_Location_Type',\n",
       "       'Outlet_Type', 'Item_Outlet_Sales', 'data'],\n",
       "      dtype='object')"
      ]
     },
     "execution_count": 47,
     "metadata": {},
     "output_type": "execute_result"
    }
   ],
   "source": [
    "train.columns"
   ]
  },
  {
   "cell_type": "code",
   "execution_count": 48,
   "metadata": {
    "colab": {
     "base_uri": "https://localhost:8080/",
     "height": 282
    },
    "executionInfo": {
     "elapsed": 1182,
     "status": "ok",
     "timestamp": 1626634075920,
     "user": {
      "displayName": "Mohamed Noordeen Alaudeen",
      "photoUrl": "",
      "userId": "13097854355562551879"
     },
     "user_tz": -330
    },
    "id": "ejU5jt4d5mVg",
    "outputId": "41272dc2-6467-46da-ec08-7625815083d6"
   },
   "outputs": [
    {
     "data": {
      "text/plain": [
       "<AxesSubplot:ylabel='Frequency'>"
      ]
     },
     "execution_count": 48,
     "metadata": {},
     "output_type": "execute_result"
    },
    {
     "data": {
      "image/png": "[encoded data removed]",
      "text/plain": [
       "<Figure size 432x288 with 1 Axes>"
      ]
     },
     "metadata": {
      "needs_background": "light"
     },
     "output_type": "display_data"
    }
   ],
   "source": [
    "train[\"Item_Outlet_Sales\"].plot(kind = \"hist\")"
   ]
  },
  {
   "cell_type": "code",
   "execution_count": 49,
   "metadata": {
    "colab": {
     "base_uri": "https://localhost:8080/",
     "height": 297
    },
    "executionInfo": {
     "elapsed": 70,
     "status": "ok",
     "timestamp": 1626634075920,
     "user": {
      "displayName": "Mohamed Noordeen Alaudeen",
      "photoUrl": "",
      "userId": "13097854355562551879"
     },
     "user_tz": -330
    },
    "id": "0-mlyOek5mVg",
    "outputId": "46b7fa1d-8018-4861-f99e-058ef16b76fb"
   },
   "outputs": [
    {
     "data": {
      "text/plain": [
       "<AxesSubplot:xlabel='Outlet_Type', ylabel='Item_Outlet_Sales'>"
      ]
     },
     "execution_count": 49,
     "metadata": {},
     "output_type": "execute_result"
    },
    {
     "data": {
      "image/png": "[encoded data removed]",
      "text/plain": [
       "<Figure size 432x288 with 1 Axes>"
      ]
     },
     "metadata": {
      "needs_background": "light"
     },
     "output_type": "display_data"
    }
   ],
   "source": [
    "sns.boxplot(data = train, x = \"Outlet_Type\", y = \"Item_Outlet_Sales\", hue = \"Outlet_Size\")\n",
    "\n"
   ]
  },
  {
   "cell_type": "code",
   "execution_count": 50,
   "metadata": {
    "colab": {
     "base_uri": "https://localhost:8080/",
     "height": 297
    },
    "executionInfo": {
     "elapsed": 64,
     "status": "ok",
     "timestamp": 1626634075921,
     "user": {
      "displayName": "Mohamed Noordeen Alaudeen",
      "photoUrl": "",
      "userId": "13097854355562551879"
     },
     "user_tz": -330
    },
    "id": "7g3TkGag5mVg",
    "outputId": "4d3c27a0-bbe6-464c-9062-f9614229c210"
   },
   "outputs": [
    {
     "data": {
      "text/plain": [
       "<AxesSubplot:xlabel='Outlet_Type', ylabel='Item_Outlet_Sales'>"
      ]
     },
     "execution_count": 50,
     "metadata": {},
     "output_type": "execute_result"
    },
    {
     "data": {
      "image/png": "[encoded data removed]",
      "text/plain": [
       "<Figure size 432x288 with 1 Axes>"
      ]
     },
     "metadata": {
      "needs_background": "light"
     },
     "output_type": "display_data"
    }
   ],
   "source": [
    "sns.boxplot(data = train, x = \"Outlet_Type\", y = \"Item_Outlet_Sales\", hue = \"Outlet_Identifier\")\n",
    "\n"
   ]
  },
  {
   "cell_type": "code",
   "execution_count": 51,
   "metadata": {
    "colab": {
     "base_uri": "https://localhost:8080/"
    },
    "executionInfo": {
     "elapsed": 59,
     "status": "ok",
     "timestamp": 1626634075921,
     "user": {
      "displayName": "Mohamed Noordeen Alaudeen",
      "photoUrl": "",
      "userId": "13097854355562551879"
     },
     "user_tz": -330
    },
    "id": "I0D5cgkw5mVh",
    "outputId": "95a6080a-ec4b-4da8-9fb2-3115ca225cfb",
    "scrolled": true
   },
   "outputs": [
    {
     "data": {
      "text/plain": [
       "array([1985], dtype=int64)"
      ]
     },
     "execution_count": 51,
     "metadata": {},
     "output_type": "execute_result"
    }
   ],
   "source": [
    "data[data[\"Outlet_Identifier\"]==\"OUT027\"].Outlet_Establishment_Year.unique()"
   ]
  },
  {
   "cell_type": "code",
   "execution_count": 52,
   "metadata": {
    "id": "_0dU8aa55mVh"
   },
   "outputs": [],
   "source": [
    "data[\"Item_Identifier_group\"] = data[\"Item_Identifier\"].apply(lambda x : x[0:3])"
   ]
  },
  {
   "cell_type": "code",
   "execution_count": 53,
   "metadata": {
    "colab": {
     "base_uri": "https://localhost:8080/"
    },
    "executionInfo": {
     "elapsed": 56,
     "status": "ok",
     "timestamp": 1626634075922,
     "user": {
      "displayName": "Mohamed Noordeen Alaudeen",
      "photoUrl": "",
      "userId": "13097854355562551879"
     },
     "user_tz": -330
    },
    "id": "askyIzNx5mVh",
    "outputId": "344a36ba-73e9-479c-88cc-5f3fd66b79cb"
   },
   "outputs": [
    {
     "data": {
      "text/plain": [
       "Item_Identifier_group  Item_Type         \n",
       "DRA                    Soft Drinks           29\n",
       "DRB                    Soft Drinks           44\n",
       "DRC                    Soft Drinks           63\n",
       "                       Dairy                 10\n",
       "DRD                    Soft Drinks           71\n",
       "                                             ..\n",
       "NCX                    Health and Hygiene    47\n",
       "NCY                    Health and Hygiene    46\n",
       "                       Household             45\n",
       "NCZ                    Household             48\n",
       "                       Health and Hygiene    44\n",
       "Name: Item_Type, Length: 306, dtype: int64"
      ]
     },
     "execution_count": 53,
     "metadata": {},
     "output_type": "execute_result"
    }
   ],
   "source": [
    "data.groupby(\"Item_Identifier_group\").Item_Type.value_counts()"
   ]
  },
  {
   "cell_type": "markdown",
   "metadata": {
    "id": "hJIvvInU5mVh"
   },
   "source": [
    "# Data Preprocessing"
   ]
  },
  {
   "cell_type": "code",
   "execution_count": 54,
   "metadata": {
    "id": "PvwHY3tD5mVh"
   },
   "outputs": [],
   "source": [
    "#Check for duplicates"
   ]
  },
  {
   "cell_type": "code",
   "execution_count": 55,
   "metadata": {
    "colab": {
     "base_uri": "https://localhost:8080/"
    },
    "executionInfo": {
     "elapsed": 51,
     "status": "ok",
     "timestamp": 1626634075923,
     "user": {
      "displayName": "Mohamed Noordeen Alaudeen",
      "photoUrl": "",
      "userId": "13097854355562551879"
     },
     "user_tz": -330
    },
    "id": "Cn4EydO05mVh",
    "outputId": "89a3d2d4-dbf5-4b66-d8b3-f928dc9cc6b7",
    "scrolled": true
   },
   "outputs": [
    {
     "data": {
      "text/plain": [
       "Item_Identifier              0.0\n",
       "Item_Weight                  0.0\n",
       "Item_Fat_Content             0.0\n",
       "Item_Visibility              0.0\n",
       "Item_Type                    0.0\n",
       "Item_MRP                     0.0\n",
       "Outlet_Identifier            0.0\n",
       "Outlet_Establishment_Year    0.0\n",
       "Outlet_Size                  0.0\n",
       "Outlet_Location_Type         0.0\n",
       "Outlet_Type                  0.0\n",
       "Item_Outlet_Sales            0.0\n",
       "data                         0.0\n",
       "Item_Identifier_group        0.0\n",
       "dtype: float64"
      ]
     },
     "execution_count": 55,
     "metadata": {},
     "output_type": "execute_result"
    }
   ],
   "source": [
    "data[data.duplicated()].sum()"
   ]
  },
  {
   "cell_type": "code",
   "execution_count": 56,
   "metadata": {
    "id": "XJ1xqBzH5mVh"
   },
   "outputs": [],
   "source": [
    "#Item_Fat_Content replace"
   ]
  },
  {
   "cell_type": "code",
   "execution_count": 57,
   "metadata": {
    "colab": {
     "base_uri": "https://localhost:8080/"
    },
    "executionInfo": {
     "elapsed": 48,
     "status": "ok",
     "timestamp": 1626634075924,
     "user": {
      "displayName": "Mohamed Noordeen Alaudeen",
      "photoUrl": "",
      "userId": "13097854355562551879"
     },
     "user_tz": -330
    },
    "id": "KhW3ehL35mVi",
    "outputId": "2206ef99-12ea-4c3d-dbde-d7397f7fdff0"
   },
   "outputs": [
    {
     "data": {
      "text/plain": [
       "array(['Low Fat', 'Regular', 'low fat', 'LF', 'reg'], dtype=object)"
      ]
     },
     "execution_count": 57,
     "metadata": {},
     "output_type": "execute_result"
    }
   ],
   "source": [
    "data[\"Item_Fat_Content\"].unique()"
   ]
  },
  {
   "cell_type": "code",
   "execution_count": 58,
   "metadata": {
    "id": "50m18uuJ5mVi"
   },
   "outputs": [],
   "source": [
    "data[\"Item_Fat_Content\"].replace({'low fat':'Low Fat', 'LF':'Low Fat', 'reg': 'Regular' }, inplace = True)"
   ]
  },
  {
   "cell_type": "code",
   "execution_count": 59,
   "metadata": {},
   "outputs": [],
   "source": [
    "data[\"Outlet_Location_Type\"].replace({ 'Tier 3': 2, 'Tier 2': 1, 'Tier 1': 0 }, inplace = True)"
   ]
  },
  {
   "cell_type": "code",
   "execution_count": 60,
   "metadata": {},
   "outputs": [
    {
     "data": {
      "text/plain": [
       "0        0\n",
       "1        2\n",
       "2        0\n",
       "3        2\n",
       "4        2\n",
       "        ..\n",
       "14199    0\n",
       "14200    2\n",
       "14201    1\n",
       "14202    1\n",
       "14203    1\n",
       "Name: Outlet_Location_Type, Length: 14204, dtype: int64"
      ]
     },
     "execution_count": 60,
     "metadata": {},
     "output_type": "execute_result"
    }
   ],
   "source": [
    "data[\"Outlet_Location_Type\"]"
   ]
  },
  {
   "cell_type": "code",
   "execution_count": 61,
   "metadata": {
    "colab": {
     "base_uri": "https://localhost:8080/"
    },
    "executionInfo": {
     "elapsed": 43,
     "status": "ok",
     "timestamp": 1626634075925,
     "user": {
      "displayName": "Mohamed Noordeen Alaudeen",
      "photoUrl": "",
      "userId": "13097854355562551879"
     },
     "user_tz": -330
    },
    "id": "ifHKzARE5mVi",
    "outputId": "eb124357-4b54-42de-b41e-40a77bc2529f"
   },
   "outputs": [
    {
     "data": {
      "text/plain": [
       "array(['Low Fat', 'Regular'], dtype=object)"
      ]
     },
     "execution_count": 61,
     "metadata": {},
     "output_type": "execute_result"
    }
   ],
   "source": [
    "data[\"Item_Fat_Content\"].unique()"
   ]
  },
  {
   "cell_type": "code",
   "execution_count": 62,
   "metadata": {
    "colab": {
     "base_uri": "https://localhost:8080/"
    },
    "executionInfo": {
     "elapsed": 38,
     "status": "ok",
     "timestamp": 1626634075925,
     "user": {
      "displayName": "Mohamed Noordeen Alaudeen",
      "photoUrl": "",
      "userId": "13097854355562551879"
     },
     "user_tz": -330
    },
    "id": "Wk_yqZxX5mVi",
    "outputId": "8146021c-d331-4e00-a75d-a3a9239e9123"
   },
   "outputs": [
    {
     "data": {
      "text/plain": [
       "Low Fat    9185\n",
       "Regular    5019\n",
       "Name: Item_Fat_Content, dtype: int64"
      ]
     },
     "execution_count": 62,
     "metadata": {},
     "output_type": "execute_result"
    }
   ],
   "source": [
    "data[\"Item_Fat_Content\"].value_counts()"
   ]
  },
  {
   "cell_type": "code",
   "execution_count": 63,
   "metadata": {
    "id": "496UnV3K5mVj"
   },
   "outputs": [],
   "source": [
    "#Replacing the nulls"
   ]
  },
  {
   "cell_type": "code",
   "execution_count": 64,
   "metadata": {
    "colab": {
     "base_uri": "https://localhost:8080/"
    },
    "executionInfo": {
     "elapsed": 32,
     "status": "ok",
     "timestamp": 1626634075926,
     "user": {
      "displayName": "Mohamed Noordeen Alaudeen",
      "photoUrl": "",
      "userId": "13097854355562551879"
     },
     "user_tz": -330
    },
    "id": "DKRAQvDI5mVj",
    "outputId": "1c3004c6-b671-4c03-ed98-4dd41c9679ff",
    "scrolled": true
   },
   "outputs": [
    {
     "data": {
      "text/plain": [
       "0         9.30\n",
       "1         5.92\n",
       "2        17.50\n",
       "3        19.20\n",
       "4         8.93\n",
       "         ...  \n",
       "14199    10.50\n",
       "14200     7.60\n",
       "14201    10.00\n",
       "14202    15.30\n",
       "14203     9.50\n",
       "Name: Item_Weight, Length: 14204, dtype: float64"
      ]
     },
     "execution_count": 64,
     "metadata": {},
     "output_type": "execute_result"
    }
   ],
   "source": [
    "data[\"Item_Weight\"]"
   ]
  },
  {
   "cell_type": "code",
   "execution_count": 65,
   "metadata": {
    "colab": {
     "base_uri": "https://localhost:8080/"
    },
    "executionInfo": {
     "elapsed": 28,
     "status": "ok",
     "timestamp": 1626634075926,
     "user": {
      "displayName": "Mohamed Noordeen Alaudeen",
      "photoUrl": "",
      "userId": "13097854355562551879"
     },
     "user_tz": -330
    },
    "id": "5kCsl-Ac5mVj",
    "outputId": "6e5b15d6-44de-42e3-c2b9-30807504d9b7"
   },
   "outputs": [
    {
     "data": {
      "text/plain": [
       "Index(['Item_Identifier', 'Item_Weight', 'Item_Fat_Content', 'Item_Visibility',\n",
       "       'Item_Type', 'Item_MRP', 'Outlet_Identifier',\n",
       "       'Outlet_Establishment_Year', 'Outlet_Size', 'Outlet_Location_Type',\n",
       "       'Outlet_Type', 'Item_Outlet_Sales', 'data', 'Item_Identifier_group'],\n",
       "      dtype='object')"
      ]
     },
     "execution_count": 65,
     "metadata": {},
     "output_type": "execute_result"
    }
   ],
   "source": [
    "data.columns"
   ]
  },
  {
   "cell_type": "code",
   "execution_count": 66,
   "metadata": {
    "colab": {
     "base_uri": "https://localhost:8080/"
    },
    "executionInfo": {
     "elapsed": 25,
     "status": "ok",
     "timestamp": 1626634075927,
     "user": {
      "displayName": "Mohamed Noordeen Alaudeen",
      "photoUrl": "",
      "userId": "13097854355562551879"
     },
     "user_tz": -330
    },
    "id": "zOviCyAP5mVj",
    "outputId": "a2670839-9692-423e-d1c0-80b8326562d1",
    "scrolled": true
   },
   "outputs": [
    {
     "data": {
      "text/plain": [
       "Item_Weight    19.0\n",
       "Name: FDP10, dtype: float64"
      ]
     },
     "execution_count": 66,
     "metadata": {},
     "output_type": "execute_result"
    }
   ],
   "source": [
    "data.pivot_table(values=\"Item_Weight\", index = \"Item_Identifier\").loc['FDP10']"
   ]
  },
  {
   "cell_type": "code",
   "execution_count": 67,
   "metadata": {
    "colab": {
     "base_uri": "https://localhost:8080/",
     "height": 595
    },
    "executionInfo": {
     "elapsed": 20,
     "status": "ok",
     "timestamp": 1626634075927,
     "user": {
      "displayName": "Mohamed Noordeen Alaudeen",
      "photoUrl": "",
      "userId": "13097854355562551879"
     },
     "user_tz": -330
    },
    "id": "FzMQsmOe5mVj",
    "outputId": "bdef2fb9-7ca8-4163-c91f-f5f9e7eefcdd"
   },
   "outputs": [
    {
     "data": {
      "text/html": [
       "<div>\n",
       "<style scoped>\n",
       "    .dataframe tbody tr th:only-of-type {\n",
       "        vertical-align: middle;\n",
       "    }\n",
       "\n",
       "    .dataframe tbody tr th {\n",
       "        vertical-align: top;\n",
       "    }\n",
       "\n",
       "    .dataframe thead th {\n",
       "        text-align: right;\n",
       "    }\n",
       "</style>\n",
       "<table border=\"1\" class=\"dataframe\">\n",
       "  <thead>\n",
       "    <tr style=\"text-align: right;\">\n",
       "      <th></th>\n",
       "      <th>Item_Identifier</th>\n",
       "      <th>Item_Weight</th>\n",
       "      <th>Item_Fat_Content</th>\n",
       "      <th>Item_Visibility</th>\n",
       "      <th>Item_Type</th>\n",
       "      <th>Item_MRP</th>\n",
       "      <th>Outlet_Identifier</th>\n",
       "      <th>Outlet_Establishment_Year</th>\n",
       "      <th>Outlet_Size</th>\n",
       "      <th>Outlet_Location_Type</th>\n",
       "      <th>Outlet_Type</th>\n",
       "      <th>Item_Outlet_Sales</th>\n",
       "      <th>data</th>\n",
       "      <th>Item_Identifier_group</th>\n",
       "    </tr>\n",
       "  </thead>\n",
       "  <tbody>\n",
       "    <tr>\n",
       "      <th>7</th>\n",
       "      <td>FDP10</td>\n",
       "      <td>NaN</td>\n",
       "      <td>Low Fat</td>\n",
       "      <td>0.127470</td>\n",
       "      <td>Snack Foods</td>\n",
       "      <td>107.7622</td>\n",
       "      <td>OUT027</td>\n",
       "      <td>1985</td>\n",
       "      <td>Medium</td>\n",
       "      <td>2</td>\n",
       "      <td>Supermarket Type3</td>\n",
       "      <td>4022.7636</td>\n",
       "      <td>train</td>\n",
       "      <td>FDP</td>\n",
       "    </tr>\n",
       "    <tr>\n",
       "      <th>18</th>\n",
       "      <td>DRI11</td>\n",
       "      <td>NaN</td>\n",
       "      <td>Low Fat</td>\n",
       "      <td>0.034238</td>\n",
       "      <td>Hard Drinks</td>\n",
       "      <td>113.2834</td>\n",
       "      <td>OUT027</td>\n",
       "      <td>1985</td>\n",
       "      <td>Medium</td>\n",
       "      <td>2</td>\n",
       "      <td>Supermarket Type3</td>\n",
       "      <td>2303.6680</td>\n",
       "      <td>train</td>\n",
       "      <td>DRI</td>\n",
       "    </tr>\n",
       "    <tr>\n",
       "      <th>21</th>\n",
       "      <td>FDW12</td>\n",
       "      <td>NaN</td>\n",
       "      <td>Regular</td>\n",
       "      <td>0.035400</td>\n",
       "      <td>Baking Goods</td>\n",
       "      <td>144.5444</td>\n",
       "      <td>OUT027</td>\n",
       "      <td>1985</td>\n",
       "      <td>Medium</td>\n",
       "      <td>2</td>\n",
       "      <td>Supermarket Type3</td>\n",
       "      <td>4064.0432</td>\n",
       "      <td>train</td>\n",
       "      <td>FDW</td>\n",
       "    </tr>\n",
       "    <tr>\n",
       "      <th>23</th>\n",
       "      <td>FDC37</td>\n",
       "      <td>NaN</td>\n",
       "      <td>Low Fat</td>\n",
       "      <td>0.057557</td>\n",
       "      <td>Baking Goods</td>\n",
       "      <td>107.6938</td>\n",
       "      <td>OUT019</td>\n",
       "      <td>1985</td>\n",
       "      <td>Small</td>\n",
       "      <td>0</td>\n",
       "      <td>Grocery Store</td>\n",
       "      <td>214.3876</td>\n",
       "      <td>train</td>\n",
       "      <td>FDC</td>\n",
       "    </tr>\n",
       "    <tr>\n",
       "      <th>29</th>\n",
       "      <td>FDC14</td>\n",
       "      <td>NaN</td>\n",
       "      <td>Regular</td>\n",
       "      <td>0.072222</td>\n",
       "      <td>Canned</td>\n",
       "      <td>43.6454</td>\n",
       "      <td>OUT019</td>\n",
       "      <td>1985</td>\n",
       "      <td>Small</td>\n",
       "      <td>0</td>\n",
       "      <td>Grocery Store</td>\n",
       "      <td>125.8362</td>\n",
       "      <td>train</td>\n",
       "      <td>FDC</td>\n",
       "    </tr>\n",
       "    <tr>\n",
       "      <th>...</th>\n",
       "      <td>...</td>\n",
       "      <td>...</td>\n",
       "      <td>...</td>\n",
       "      <td>...</td>\n",
       "      <td>...</td>\n",
       "      <td>...</td>\n",
       "      <td>...</td>\n",
       "      <td>...</td>\n",
       "      <td>...</td>\n",
       "      <td>...</td>\n",
       "      <td>...</td>\n",
       "      <td>...</td>\n",
       "      <td>...</td>\n",
       "      <td>...</td>\n",
       "    </tr>\n",
       "    <tr>\n",
       "      <th>14178</th>\n",
       "      <td>FDX32</td>\n",
       "      <td>NaN</td>\n",
       "      <td>Regular</td>\n",
       "      <td>0.099375</td>\n",
       "      <td>Fruits and Vegetables</td>\n",
       "      <td>143.6786</td>\n",
       "      <td>OUT027</td>\n",
       "      <td>1985</td>\n",
       "      <td>Medium</td>\n",
       "      <td>2</td>\n",
       "      <td>Supermarket Type3</td>\n",
       "      <td>NaN</td>\n",
       "      <td>test</td>\n",
       "      <td>FDX</td>\n",
       "    </tr>\n",
       "    <tr>\n",
       "      <th>14179</th>\n",
       "      <td>FDC39</td>\n",
       "      <td>NaN</td>\n",
       "      <td>Low Fat</td>\n",
       "      <td>0.158425</td>\n",
       "      <td>Dairy</td>\n",
       "      <td>207.8296</td>\n",
       "      <td>OUT027</td>\n",
       "      <td>1985</td>\n",
       "      <td>Medium</td>\n",
       "      <td>2</td>\n",
       "      <td>Supermarket Type3</td>\n",
       "      <td>NaN</td>\n",
       "      <td>test</td>\n",
       "      <td>FDC</td>\n",
       "    </tr>\n",
       "    <tr>\n",
       "      <th>14184</th>\n",
       "      <td>DRG37</td>\n",
       "      <td>NaN</td>\n",
       "      <td>Low Fat</td>\n",
       "      <td>0.000000</td>\n",
       "      <td>Soft Drinks</td>\n",
       "      <td>155.7972</td>\n",
       "      <td>OUT027</td>\n",
       "      <td>1985</td>\n",
       "      <td>Medium</td>\n",
       "      <td>2</td>\n",
       "      <td>Supermarket Type3</td>\n",
       "      <td>NaN</td>\n",
       "      <td>test</td>\n",
       "      <td>DRG</td>\n",
       "    </tr>\n",
       "    <tr>\n",
       "      <th>14188</th>\n",
       "      <td>DRE03</td>\n",
       "      <td>NaN</td>\n",
       "      <td>Low Fat</td>\n",
       "      <td>0.024110</td>\n",
       "      <td>Dairy</td>\n",
       "      <td>46.0718</td>\n",
       "      <td>OUT027</td>\n",
       "      <td>1985</td>\n",
       "      <td>Medium</td>\n",
       "      <td>2</td>\n",
       "      <td>Supermarket Type3</td>\n",
       "      <td>NaN</td>\n",
       "      <td>test</td>\n",
       "      <td>DRE</td>\n",
       "    </tr>\n",
       "    <tr>\n",
       "      <th>14192</th>\n",
       "      <td>FDN31</td>\n",
       "      <td>NaN</td>\n",
       "      <td>Low Fat</td>\n",
       "      <td>0.072529</td>\n",
       "      <td>Fruits and Vegetables</td>\n",
       "      <td>188.0530</td>\n",
       "      <td>OUT027</td>\n",
       "      <td>1985</td>\n",
       "      <td>Medium</td>\n",
       "      <td>2</td>\n",
       "      <td>Supermarket Type3</td>\n",
       "      <td>NaN</td>\n",
       "      <td>test</td>\n",
       "      <td>FDN</td>\n",
       "    </tr>\n",
       "  </tbody>\n",
       "</table>\n",
       "<p>2439 rows × 14 columns</p>\n",
       "</div>"
      ],
      "text/plain": [
       "      Item_Identifier  Item_Weight Item_Fat_Content  Item_Visibility  \\\n",
       "7               FDP10          NaN          Low Fat         0.127470   \n",
       "18              DRI11          NaN          Low Fat         0.034238   \n",
       "21              FDW12          NaN          Regular         0.035400   \n",
       "23              FDC37          NaN          Low Fat         0.057557   \n",
       "29              FDC14          NaN          Regular         0.072222   \n",
       "...               ...          ...              ...              ...   \n",
       "14178           FDX32          NaN          Regular         0.099375   \n",
       "14179           FDC39          NaN          Low Fat         0.158425   \n",
       "14184           DRG37          NaN          Low Fat         0.000000   \n",
       "14188           DRE03          NaN          Low Fat         0.024110   \n",
       "14192           FDN31          NaN          Low Fat         0.072529   \n",
       "\n",
       "                   Item_Type  Item_MRP Outlet_Identifier  \\\n",
       "7                Snack Foods  107.7622            OUT027   \n",
       "18               Hard Drinks  113.2834            OUT027   \n",
       "21              Baking Goods  144.5444            OUT027   \n",
       "23              Baking Goods  107.6938            OUT019   \n",
       "29                    Canned   43.6454            OUT019   \n",
       "...                      ...       ...               ...   \n",
       "14178  Fruits and Vegetables  143.6786            OUT027   \n",
       "14179                  Dairy  207.8296            OUT027   \n",
       "14184            Soft Drinks  155.7972            OUT027   \n",
       "14188                  Dairy   46.0718            OUT027   \n",
       "14192  Fruits and Vegetables  188.0530            OUT027   \n",
       "\n",
       "       Outlet_Establishment_Year Outlet_Size  Outlet_Location_Type  \\\n",
       "7                           1985      Medium                     2   \n",
       "18                          1985      Medium                     2   \n",
       "21                          1985      Medium                     2   \n",
       "23                          1985       Small                     0   \n",
       "29                          1985       Small                     0   \n",
       "...                          ...         ...                   ...   \n",
       "14178                       1985      Medium                     2   \n",
       "14179                       1985      Medium                     2   \n",
       "14184                       1985      Medium                     2   \n",
       "14188                       1985      Medium                     2   \n",
       "14192                       1985      Medium                     2   \n",
       "\n",
       "             Outlet_Type  Item_Outlet_Sales   data Item_Identifier_group  \n",
       "7      Supermarket Type3          4022.7636  train                   FDP  \n",
       "18     Supermarket Type3          2303.6680  train                   DRI  \n",
       "21     Supermarket Type3          4064.0432  train                   FDW  \n",
       "23         Grocery Store           214.3876  train                   FDC  \n",
       "29         Grocery Store           125.8362  train                   FDC  \n",
       "...                  ...                ...    ...                   ...  \n",
       "14178  Supermarket Type3                NaN   test                   FDX  \n",
       "14179  Supermarket Type3                NaN   test                   FDC  \n",
       "14184  Supermarket Type3                NaN   test                   DRG  \n",
       "14188  Supermarket Type3                NaN   test                   DRE  \n",
       "14192  Supermarket Type3                NaN   test                   FDN  \n",
       "\n",
       "[2439 rows x 14 columns]"
      ]
     },
     "execution_count": 67,
     "metadata": {},
     "output_type": "execute_result"
    }
   ],
   "source": [
    "data[data[\"Item_Weight\"].isna()]"
   ]
  },
  {
   "cell_type": "code",
   "execution_count": 68,
   "metadata": {
    "id": "iBko7cCw5mVj"
   },
   "outputs": [],
   "source": [
    "data[\"Item_Weight\"] = data.groupby(\"Item_Identifier\").Item_Weight.transform(lambda x: x.fillna(x.mean()))"
   ]
  },
  {
   "cell_type": "code",
   "execution_count": 69,
   "metadata": {
    "colab": {
     "base_uri": "https://localhost:8080/",
     "height": 69
    },
    "executionInfo": {
     "elapsed": 55,
     "status": "ok",
     "timestamp": 1626634076753,
     "user": {
      "displayName": "Mohamed Noordeen Alaudeen",
      "photoUrl": "",
      "userId": "13097854355562551879"
     },
     "user_tz": -330
    },
    "id": "INh6UDUd5mVk",
    "outputId": "1cb01e5a-d31a-423e-d3b7-50694fd0ebf0",
    "scrolled": true
   },
   "outputs": [
    {
     "data": {
      "text/html": [
       "<div>\n",
       "<style scoped>\n",
       "    .dataframe tbody tr th:only-of-type {\n",
       "        vertical-align: middle;\n",
       "    }\n",
       "\n",
       "    .dataframe tbody tr th {\n",
       "        vertical-align: top;\n",
       "    }\n",
       "\n",
       "    .dataframe thead th {\n",
       "        text-align: right;\n",
       "    }\n",
       "</style>\n",
       "<table border=\"1\" class=\"dataframe\">\n",
       "  <thead>\n",
       "    <tr style=\"text-align: right;\">\n",
       "      <th></th>\n",
       "      <th>Item_Identifier</th>\n",
       "      <th>Item_Weight</th>\n",
       "      <th>Item_Fat_Content</th>\n",
       "      <th>Item_Visibility</th>\n",
       "      <th>Item_Type</th>\n",
       "      <th>Item_MRP</th>\n",
       "      <th>Outlet_Identifier</th>\n",
       "      <th>Outlet_Establishment_Year</th>\n",
       "      <th>Outlet_Size</th>\n",
       "      <th>Outlet_Location_Type</th>\n",
       "      <th>Outlet_Type</th>\n",
       "      <th>Item_Outlet_Sales</th>\n",
       "      <th>data</th>\n",
       "      <th>Item_Identifier_group</th>\n",
       "    </tr>\n",
       "  </thead>\n",
       "  <tbody>\n",
       "  </tbody>\n",
       "</table>\n",
       "</div>"
      ],
      "text/plain": [
       "Empty DataFrame\n",
       "Columns: [Item_Identifier, Item_Weight, Item_Fat_Content, Item_Visibility, Item_Type, Item_MRP, Outlet_Identifier, Outlet_Establishment_Year, Outlet_Size, Outlet_Location_Type, Outlet_Type, Item_Outlet_Sales, data, Item_Identifier_group]\n",
       "Index: []"
      ]
     },
     "execution_count": 69,
     "metadata": {},
     "output_type": "execute_result"
    }
   ],
   "source": [
    "data[data[\"Item_Weight\"].isna()]"
   ]
  },
  {
   "cell_type": "code",
   "execution_count": 70,
   "metadata": {
    "colab": {
     "base_uri": "https://localhost:8080/",
     "height": 504
    },
    "executionInfo": {
     "elapsed": 53,
     "status": "ok",
     "timestamp": 1626634076753,
     "user": {
      "displayName": "Mohamed Noordeen Alaudeen",
      "photoUrl": "",
      "userId": "13097854355562551879"
     },
     "user_tz": -330
    },
    "id": "w715wJ8I5mVk",
    "outputId": "938ed81b-d8ee-4b58-d657-c6da3afd44fc"
   },
   "outputs": [
    {
     "data": {
      "text/html": [
       "<div>\n",
       "<style scoped>\n",
       "    .dataframe tbody tr th:only-of-type {\n",
       "        vertical-align: middle;\n",
       "    }\n",
       "\n",
       "    .dataframe tbody tr th {\n",
       "        vertical-align: top;\n",
       "    }\n",
       "\n",
       "    .dataframe thead th {\n",
       "        text-align: right;\n",
       "    }\n",
       "</style>\n",
       "<table border=\"1\" class=\"dataframe\">\n",
       "  <thead>\n",
       "    <tr style=\"text-align: right;\">\n",
       "      <th></th>\n",
       "      <th>Item_Identifier</th>\n",
       "      <th>Item_Weight</th>\n",
       "      <th>Item_Fat_Content</th>\n",
       "      <th>Item_Visibility</th>\n",
       "      <th>Item_Type</th>\n",
       "      <th>Item_MRP</th>\n",
       "      <th>Outlet_Identifier</th>\n",
       "      <th>Outlet_Establishment_Year</th>\n",
       "      <th>Outlet_Size</th>\n",
       "      <th>Outlet_Location_Type</th>\n",
       "      <th>Outlet_Type</th>\n",
       "      <th>Item_Outlet_Sales</th>\n",
       "      <th>data</th>\n",
       "      <th>Item_Identifier_group</th>\n",
       "    </tr>\n",
       "  </thead>\n",
       "  <tbody>\n",
       "    <tr>\n",
       "      <th>927</th>\n",
       "      <td>FDN52</td>\n",
       "      <td>9.395</td>\n",
       "      <td>Regular</td>\n",
       "      <td>0.130933</td>\n",
       "      <td>Frozen Foods</td>\n",
       "      <td>86.9198</td>\n",
       "      <td>OUT027</td>\n",
       "      <td>1985</td>\n",
       "      <td>Medium</td>\n",
       "      <td>2</td>\n",
       "      <td>Supermarket Type3</td>\n",
       "      <td>1569.9564</td>\n",
       "      <td>train</td>\n",
       "      <td>FDN</td>\n",
       "    </tr>\n",
       "    <tr>\n",
       "      <th>8919</th>\n",
       "      <td>FDN52</td>\n",
       "      <td>9.395</td>\n",
       "      <td>Regular</td>\n",
       "      <td>0.131774</td>\n",
       "      <td>Frozen Foods</td>\n",
       "      <td>87.7198</td>\n",
       "      <td>OUT049</td>\n",
       "      <td>1999</td>\n",
       "      <td>Medium</td>\n",
       "      <td>0</td>\n",
       "      <td>Supermarket Type1</td>\n",
       "      <td>NaN</td>\n",
       "      <td>test</td>\n",
       "      <td>FDN</td>\n",
       "    </tr>\n",
       "    <tr>\n",
       "      <th>10070</th>\n",
       "      <td>FDN52</td>\n",
       "      <td>9.395</td>\n",
       "      <td>Regular</td>\n",
       "      <td>0.220221</td>\n",
       "      <td>Frozen Foods</td>\n",
       "      <td>88.1198</td>\n",
       "      <td>OUT010</td>\n",
       "      <td>1998</td>\n",
       "      <td>NaN</td>\n",
       "      <td>2</td>\n",
       "      <td>Grocery Store</td>\n",
       "      <td>NaN</td>\n",
       "      <td>test</td>\n",
       "      <td>FDN</td>\n",
       "    </tr>\n",
       "    <tr>\n",
       "      <th>11486</th>\n",
       "      <td>FDN52</td>\n",
       "      <td>9.395</td>\n",
       "      <td>Regular</td>\n",
       "      <td>0.132314</td>\n",
       "      <td>Frozen Foods</td>\n",
       "      <td>88.5198</td>\n",
       "      <td>OUT017</td>\n",
       "      <td>2007</td>\n",
       "      <td>NaN</td>\n",
       "      <td>1</td>\n",
       "      <td>Supermarket Type1</td>\n",
       "      <td>NaN</td>\n",
       "      <td>test</td>\n",
       "      <td>FDN</td>\n",
       "    </tr>\n",
       "    <tr>\n",
       "      <th>11593</th>\n",
       "      <td>FDN52</td>\n",
       "      <td>9.395</td>\n",
       "      <td>Regular</td>\n",
       "      <td>0.131460</td>\n",
       "      <td>Frozen Foods</td>\n",
       "      <td>85.2198</td>\n",
       "      <td>OUT013</td>\n",
       "      <td>1987</td>\n",
       "      <td>High</td>\n",
       "      <td>2</td>\n",
       "      <td>Supermarket Type1</td>\n",
       "      <td>NaN</td>\n",
       "      <td>test</td>\n",
       "      <td>FDN</td>\n",
       "    </tr>\n",
       "    <tr>\n",
       "      <th>11694</th>\n",
       "      <td>FDN52</td>\n",
       "      <td>9.395</td>\n",
       "      <td>Regular</td>\n",
       "      <td>0.131570</td>\n",
       "      <td>Frozen Foods</td>\n",
       "      <td>88.1198</td>\n",
       "      <td>OUT046</td>\n",
       "      <td>1997</td>\n",
       "      <td>Small</td>\n",
       "      <td>0</td>\n",
       "      <td>Supermarket Type1</td>\n",
       "      <td>NaN</td>\n",
       "      <td>test</td>\n",
       "      <td>FDN</td>\n",
       "    </tr>\n",
       "    <tr>\n",
       "      <th>12102</th>\n",
       "      <td>FDN52</td>\n",
       "      <td>9.395</td>\n",
       "      <td>Regular</td>\n",
       "      <td>0.131545</td>\n",
       "      <td>Frozen Foods</td>\n",
       "      <td>87.3198</td>\n",
       "      <td>OUT035</td>\n",
       "      <td>2004</td>\n",
       "      <td>Small</td>\n",
       "      <td>1</td>\n",
       "      <td>Supermarket Type1</td>\n",
       "      <td>NaN</td>\n",
       "      <td>test</td>\n",
       "      <td>FDN</td>\n",
       "    </tr>\n",
       "    <tr>\n",
       "      <th>12775</th>\n",
       "      <td>FDN52</td>\n",
       "      <td>9.395</td>\n",
       "      <td>Regular</td>\n",
       "      <td>0.132106</td>\n",
       "      <td>Frozen Foods</td>\n",
       "      <td>85.3198</td>\n",
       "      <td>OUT018</td>\n",
       "      <td>2009</td>\n",
       "      <td>Medium</td>\n",
       "      <td>2</td>\n",
       "      <td>Supermarket Type2</td>\n",
       "      <td>NaN</td>\n",
       "      <td>test</td>\n",
       "      <td>FDN</td>\n",
       "    </tr>\n",
       "    <tr>\n",
       "      <th>13794</th>\n",
       "      <td>FDN52</td>\n",
       "      <td>9.395</td>\n",
       "      <td>Regular</td>\n",
       "      <td>0.131837</td>\n",
       "      <td>Frozen Foods</td>\n",
       "      <td>85.2198</td>\n",
       "      <td>OUT045</td>\n",
       "      <td>2002</td>\n",
       "      <td>NaN</td>\n",
       "      <td>1</td>\n",
       "      <td>Supermarket Type1</td>\n",
       "      <td>NaN</td>\n",
       "      <td>test</td>\n",
       "      <td>FDN</td>\n",
       "    </tr>\n",
       "  </tbody>\n",
       "</table>\n",
       "</div>"
      ],
      "text/plain": [
       "      Item_Identifier  Item_Weight Item_Fat_Content  Item_Visibility  \\\n",
       "927             FDN52        9.395          Regular         0.130933   \n",
       "8919            FDN52        9.395          Regular         0.131774   \n",
       "10070           FDN52        9.395          Regular         0.220221   \n",
       "11486           FDN52        9.395          Regular         0.132314   \n",
       "11593           FDN52        9.395          Regular         0.131460   \n",
       "11694           FDN52        9.395          Regular         0.131570   \n",
       "12102           FDN52        9.395          Regular         0.131545   \n",
       "12775           FDN52        9.395          Regular         0.132106   \n",
       "13794           FDN52        9.395          Regular         0.131837   \n",
       "\n",
       "          Item_Type  Item_MRP Outlet_Identifier  Outlet_Establishment_Year  \\\n",
       "927    Frozen Foods   86.9198            OUT027                       1985   \n",
       "8919   Frozen Foods   87.7198            OUT049                       1999   \n",
       "10070  Frozen Foods   88.1198            OUT010                       1998   \n",
       "11486  Frozen Foods   88.5198            OUT017                       2007   \n",
       "11593  Frozen Foods   85.2198            OUT013                       1987   \n",
       "11694  Frozen Foods   88.1198            OUT046                       1997   \n",
       "12102  Frozen Foods   87.3198            OUT035                       2004   \n",
       "12775  Frozen Foods   85.3198            OUT018                       2009   \n",
       "13794  Frozen Foods   85.2198            OUT045                       2002   \n",
       "\n",
       "      Outlet_Size  Outlet_Location_Type        Outlet_Type  Item_Outlet_Sales  \\\n",
       "927        Medium                     2  Supermarket Type3          1569.9564   \n",
       "8919       Medium                     0  Supermarket Type1                NaN   \n",
       "10070         NaN                     2      Grocery Store                NaN   \n",
       "11486         NaN                     1  Supermarket Type1                NaN   \n",
       "11593        High                     2  Supermarket Type1                NaN   \n",
       "11694       Small                     0  Supermarket Type1                NaN   \n",
       "12102       Small                     1  Supermarket Type1                NaN   \n",
       "12775      Medium                     2  Supermarket Type2                NaN   \n",
       "13794         NaN                     1  Supermarket Type1                NaN   \n",
       "\n",
       "        data Item_Identifier_group  \n",
       "927    train                   FDN  \n",
       "8919    test                   FDN  \n",
       "10070   test                   FDN  \n",
       "11486   test                   FDN  \n",
       "11593   test                   FDN  \n",
       "11694   test                   FDN  \n",
       "12102   test                   FDN  \n",
       "12775   test                   FDN  \n",
       "13794   test                   FDN  "
      ]
     },
     "execution_count": 70,
     "metadata": {},
     "output_type": "execute_result"
    }
   ],
   "source": [
    "data[data[\"Item_Identifier\"] == \"FDN52\"]"
   ]
  },
  {
   "cell_type": "code",
   "execution_count": null,
   "metadata": {
    "id": "Ah8jFQ_u5mVk"
   },
   "outputs": [],
   "source": []
  },
  {
   "cell_type": "code",
   "execution_count": 71,
   "metadata": {
    "colab": {
     "base_uri": "https://localhost:8080/"
    },
    "executionInfo": {
     "elapsed": 52,
     "status": "ok",
     "timestamp": 1626634076754,
     "user": {
      "displayName": "Mohamed Noordeen Alaudeen",
      "photoUrl": "",
      "userId": "13097854355562551879"
     },
     "user_tz": -330
    },
    "id": "bdcuhUAY5mVk",
    "outputId": "7f416c49-4c3a-434b-b220-1b209da1efbf"
   },
   "outputs": [
    {
     "data": {
      "text/plain": [
       "Item_Identifier                          FDP10\n",
       "Item_Weight                                 19\n",
       "Item_Fat_Content                       Low Fat\n",
       "Item_Visibility                        0.12747\n",
       "Item_Type                          Snack Foods\n",
       "Item_MRP                               107.762\n",
       "Outlet_Identifier                       OUT027\n",
       "Outlet_Establishment_Year                 1985\n",
       "Outlet_Size                             Medium\n",
       "Outlet_Location_Type                         2\n",
       "Outlet_Type                  Supermarket Type3\n",
       "Item_Outlet_Sales                      4022.76\n",
       "data                                     train\n",
       "Item_Identifier_group                      FDP\n",
       "Name: 7, dtype: object"
      ]
     },
     "execution_count": 71,
     "metadata": {},
     "output_type": "execute_result"
    }
   ],
   "source": [
    "data.loc[7]"
   ]
  },
  {
   "cell_type": "code",
   "execution_count": 72,
   "metadata": {
    "colab": {
     "base_uri": "https://localhost:8080/",
     "height": 69
    },
    "executionInfo": {
     "elapsed": 47,
     "status": "ok",
     "timestamp": 1626634076755,
     "user": {
      "displayName": "Mohamed Noordeen Alaudeen",
      "photoUrl": "",
      "userId": "13097854355562551879"
     },
     "user_tz": -330
    },
    "id": "s65zeC-A5mVk",
    "outputId": "869192e7-fe0a-4468-e73a-1cb035dcf32f"
   },
   "outputs": [
    {
     "data": {
      "text/html": [
       "<div>\n",
       "<style scoped>\n",
       "    .dataframe tbody tr th:only-of-type {\n",
       "        vertical-align: middle;\n",
       "    }\n",
       "\n",
       "    .dataframe tbody tr th {\n",
       "        vertical-align: top;\n",
       "    }\n",
       "\n",
       "    .dataframe thead th {\n",
       "        text-align: right;\n",
       "    }\n",
       "</style>\n",
       "<table border=\"1\" class=\"dataframe\">\n",
       "  <thead>\n",
       "    <tr style=\"text-align: right;\">\n",
       "      <th></th>\n",
       "      <th>Item_Identifier</th>\n",
       "      <th>Item_Weight</th>\n",
       "      <th>Item_Fat_Content</th>\n",
       "      <th>Item_Visibility</th>\n",
       "      <th>Item_Type</th>\n",
       "      <th>Item_MRP</th>\n",
       "      <th>Outlet_Identifier</th>\n",
       "      <th>Outlet_Establishment_Year</th>\n",
       "      <th>Outlet_Size</th>\n",
       "      <th>Outlet_Location_Type</th>\n",
       "      <th>Outlet_Type</th>\n",
       "      <th>Item_Outlet_Sales</th>\n",
       "      <th>data</th>\n",
       "      <th>Item_Identifier_group</th>\n",
       "    </tr>\n",
       "  </thead>\n",
       "  <tbody>\n",
       "  </tbody>\n",
       "</table>\n",
       "</div>"
      ],
      "text/plain": [
       "Empty DataFrame\n",
       "Columns: [Item_Identifier, Item_Weight, Item_Fat_Content, Item_Visibility, Item_Type, Item_MRP, Outlet_Identifier, Outlet_Establishment_Year, Outlet_Size, Outlet_Location_Type, Outlet_Type, Item_Outlet_Sales, data, Item_Identifier_group]\n",
       "Index: []"
      ]
     },
     "execution_count": 72,
     "metadata": {},
     "output_type": "execute_result"
    }
   ],
   "source": [
    "data[data[\"Item_Weight\"].isna()]"
   ]
  },
  {
   "cell_type": "code",
   "execution_count": 73,
   "metadata": {
    "colab": {
     "base_uri": "https://localhost:8080/"
    },
    "executionInfo": {
     "elapsed": 46,
     "status": "ok",
     "timestamp": 1626634076755,
     "user": {
      "displayName": "Mohamed Noordeen Alaudeen",
      "photoUrl": "",
      "userId": "13097854355562551879"
     },
     "user_tz": -330
    },
    "id": "1i0NiBnj5mVk",
    "outputId": "8307d88b-cdf1-422e-9e80-86f002f9dd1c"
   },
   "outputs": [
    {
     "data": {
      "text/plain": [
       "Item_Identifier                 0\n",
       "Item_Weight                     0\n",
       "Item_Fat_Content                0\n",
       "Item_Visibility                 0\n",
       "Item_Type                       0\n",
       "Item_MRP                        0\n",
       "Outlet_Identifier               0\n",
       "Outlet_Establishment_Year       0\n",
       "Outlet_Size                  4016\n",
       "Outlet_Location_Type            0\n",
       "Outlet_Type                     0\n",
       "Item_Outlet_Sales            5681\n",
       "data                            0\n",
       "Item_Identifier_group           0\n",
       "dtype: int64"
      ]
     },
     "execution_count": 73,
     "metadata": {},
     "output_type": "execute_result"
    }
   ],
   "source": [
    "data.isna().sum()"
   ]
  },
  {
   "cell_type": "code",
   "execution_count": 74,
   "metadata": {
    "colab": {
     "base_uri": "https://localhost:8080/"
    },
    "executionInfo": {
     "elapsed": 41,
     "status": "ok",
     "timestamp": 1626634076755,
     "user": {
      "displayName": "Mohamed Noordeen Alaudeen",
      "photoUrl": "",
      "userId": "13097854355562551879"
     },
     "user_tz": -330
    },
    "id": "AmU43iev5mVk",
    "outputId": "a09e70ea-24f4-4245-c7ab-734adc8ffe16"
   },
   "outputs": [
    {
     "data": {
      "text/plain": [
       "4016"
      ]
     },
     "execution_count": 74,
     "metadata": {},
     "output_type": "execute_result"
    }
   ],
   "source": [
    "data[\"Outlet_Size\"].isna().sum()"
   ]
  },
  {
   "cell_type": "code",
   "execution_count": 75,
   "metadata": {
    "colab": {
     "base_uri": "https://localhost:8080/",
     "height": 392
    },
    "executionInfo": {
     "elapsed": 38,
     "status": "ok",
     "timestamp": 1626634076756,
     "user": {
      "displayName": "Mohamed Noordeen Alaudeen",
      "photoUrl": "",
      "userId": "13097854355562551879"
     },
     "user_tz": -330
    },
    "id": "5MrMJsu95mVn",
    "outputId": "10b18839-966a-47b3-fa4e-4a738a30793d"
   },
   "outputs": [
    {
     "data": {
      "text/html": [
       "<div>\n",
       "<style scoped>\n",
       "    .dataframe tbody tr th:only-of-type {\n",
       "        vertical-align: middle;\n",
       "    }\n",
       "\n",
       "    .dataframe tbody tr th {\n",
       "        vertical-align: top;\n",
       "    }\n",
       "\n",
       "    .dataframe thead th {\n",
       "        text-align: right;\n",
       "    }\n",
       "</style>\n",
       "<table border=\"1\" class=\"dataframe\">\n",
       "  <thead>\n",
       "    <tr style=\"text-align: right;\">\n",
       "      <th></th>\n",
       "      <th>Outlet_Size</th>\n",
       "    </tr>\n",
       "    <tr>\n",
       "      <th>Outlet_Identifier</th>\n",
       "      <th></th>\n",
       "    </tr>\n",
       "  </thead>\n",
       "  <tbody>\n",
       "    <tr>\n",
       "      <th>OUT010</th>\n",
       "      <td>0</td>\n",
       "    </tr>\n",
       "    <tr>\n",
       "      <th>OUT013</th>\n",
       "      <td>High</td>\n",
       "    </tr>\n",
       "    <tr>\n",
       "      <th>OUT017</th>\n",
       "      <td>0</td>\n",
       "    </tr>\n",
       "    <tr>\n",
       "      <th>OUT018</th>\n",
       "      <td>Medium</td>\n",
       "    </tr>\n",
       "    <tr>\n",
       "      <th>OUT019</th>\n",
       "      <td>Small</td>\n",
       "    </tr>\n",
       "    <tr>\n",
       "      <th>OUT027</th>\n",
       "      <td>Medium</td>\n",
       "    </tr>\n",
       "    <tr>\n",
       "      <th>OUT035</th>\n",
       "      <td>Small</td>\n",
       "    </tr>\n",
       "    <tr>\n",
       "      <th>OUT045</th>\n",
       "      <td>0</td>\n",
       "    </tr>\n",
       "    <tr>\n",
       "      <th>OUT046</th>\n",
       "      <td>Small</td>\n",
       "    </tr>\n",
       "    <tr>\n",
       "      <th>OUT049</th>\n",
       "      <td>Medium</td>\n",
       "    </tr>\n",
       "  </tbody>\n",
       "</table>\n",
       "</div>"
      ],
      "text/plain": [
       "                  Outlet_Size\n",
       "Outlet_Identifier            \n",
       "OUT010                      0\n",
       "OUT013                   High\n",
       "OUT017                      0\n",
       "OUT018                 Medium\n",
       "OUT019                  Small\n",
       "OUT027                 Medium\n",
       "OUT035                  Small\n",
       "OUT045                      0\n",
       "OUT046                  Small\n",
       "OUT049                 Medium"
      ]
     },
     "execution_count": 75,
     "metadata": {},
     "output_type": "execute_result"
    }
   ],
   "source": [
    "from scipy.stats import mode\n",
    "data.pivot_table(values=\"Outlet_Size\", index = \"Outlet_Identifier\", aggfunc=(lambda x: mode(x).mode[0]))"
   ]
  },
  {
   "cell_type": "code",
   "execution_count": 76,
   "metadata": {
    "id": "2yKiC-lh5mVn"
   },
   "outputs": [],
   "source": [
    "data[\"Outlet_Size\"] = data[\"Outlet_Size\"].fillna(\"unknown\")"
   ]
  },
  {
   "cell_type": "code",
   "execution_count": 77,
   "metadata": {
    "colab": {
     "base_uri": "https://localhost:8080/",
     "height": 205
    },
    "executionInfo": {
     "elapsed": 37,
     "status": "ok",
     "timestamp": 1626634076757,
     "user": {
      "displayName": "Mohamed Noordeen Alaudeen",
      "photoUrl": "",
      "userId": "13097854355562551879"
     },
     "user_tz": -330
    },
    "id": "0MJa8I7u5mVn",
    "outputId": "a0238d15-2086-4984-e897-61cd746a4cd2"
   },
   "outputs": [
    {
     "data": {
      "text/html": [
       "<div>\n",
       "<style scoped>\n",
       "    .dataframe tbody tr th:only-of-type {\n",
       "        vertical-align: middle;\n",
       "    }\n",
       "\n",
       "    .dataframe tbody tr th {\n",
       "        vertical-align: top;\n",
       "    }\n",
       "\n",
       "    .dataframe thead th {\n",
       "        text-align: right;\n",
       "    }\n",
       "</style>\n",
       "<table border=\"1\" class=\"dataframe\">\n",
       "  <thead>\n",
       "    <tr style=\"text-align: right;\">\n",
       "      <th></th>\n",
       "      <th>Outlet_Size</th>\n",
       "    </tr>\n",
       "    <tr>\n",
       "      <th>Outlet_Type</th>\n",
       "      <th></th>\n",
       "    </tr>\n",
       "  </thead>\n",
       "  <tbody>\n",
       "    <tr>\n",
       "      <th>Grocery Store</th>\n",
       "      <td>unknown</td>\n",
       "    </tr>\n",
       "    <tr>\n",
       "      <th>Supermarket Type1</th>\n",
       "      <td>Small</td>\n",
       "    </tr>\n",
       "    <tr>\n",
       "      <th>Supermarket Type2</th>\n",
       "      <td>Medium</td>\n",
       "    </tr>\n",
       "    <tr>\n",
       "      <th>Supermarket Type3</th>\n",
       "      <td>Medium</td>\n",
       "    </tr>\n",
       "  </tbody>\n",
       "</table>\n",
       "</div>"
      ],
      "text/plain": [
       "                  Outlet_Size\n",
       "Outlet_Type                  \n",
       "Grocery Store         unknown\n",
       "Supermarket Type1       Small\n",
       "Supermarket Type2      Medium\n",
       "Supermarket Type3      Medium"
      ]
     },
     "execution_count": 77,
     "metadata": {},
     "output_type": "execute_result"
    }
   ],
   "source": [
    "data.pivot_table(values=\"Outlet_Size\", index = \"Outlet_Type\", aggfunc=(lambda x: mode(x).mode[0]))"
   ]
  },
  {
   "cell_type": "code",
   "execution_count": 78,
   "metadata": {
    "id": "9wXsrhId5mVn"
   },
   "outputs": [],
   "source": [
    "data[\"Outlet_Size\"] = data[\"Outlet_Size\"].replace({\"unknown\":\"Very Small\"})"
   ]
  },
  {
   "cell_type": "code",
   "execution_count": 79,
   "metadata": {
    "colab": {
     "base_uri": "https://localhost:8080/",
     "height": 392
    },
    "executionInfo": {
     "elapsed": 36,
     "status": "ok",
     "timestamp": 1626634076758,
     "user": {
      "displayName": "Mohamed Noordeen Alaudeen",
      "photoUrl": "",
      "userId": "13097854355562551879"
     },
     "user_tz": -330
    },
    "id": "YRXgveXX5mVn",
    "outputId": "0919f0ed-108d-4fac-9e5f-9d330fe14508"
   },
   "outputs": [
    {
     "data": {
      "text/html": [
       "<div>\n",
       "<style scoped>\n",
       "    .dataframe tbody tr th:only-of-type {\n",
       "        vertical-align: middle;\n",
       "    }\n",
       "\n",
       "    .dataframe tbody tr th {\n",
       "        vertical-align: top;\n",
       "    }\n",
       "\n",
       "    .dataframe thead th {\n",
       "        text-align: right;\n",
       "    }\n",
       "</style>\n",
       "<table border=\"1\" class=\"dataframe\">\n",
       "  <thead>\n",
       "    <tr style=\"text-align: right;\">\n",
       "      <th></th>\n",
       "      <th>Outlet_Size</th>\n",
       "    </tr>\n",
       "    <tr>\n",
       "      <th>Outlet_Identifier</th>\n",
       "      <th></th>\n",
       "    </tr>\n",
       "  </thead>\n",
       "  <tbody>\n",
       "    <tr>\n",
       "      <th>OUT010</th>\n",
       "      <td>Very Small</td>\n",
       "    </tr>\n",
       "    <tr>\n",
       "      <th>OUT013</th>\n",
       "      <td>High</td>\n",
       "    </tr>\n",
       "    <tr>\n",
       "      <th>OUT017</th>\n",
       "      <td>Very Small</td>\n",
       "    </tr>\n",
       "    <tr>\n",
       "      <th>OUT018</th>\n",
       "      <td>Medium</td>\n",
       "    </tr>\n",
       "    <tr>\n",
       "      <th>OUT019</th>\n",
       "      <td>Small</td>\n",
       "    </tr>\n",
       "    <tr>\n",
       "      <th>OUT027</th>\n",
       "      <td>Medium</td>\n",
       "    </tr>\n",
       "    <tr>\n",
       "      <th>OUT035</th>\n",
       "      <td>Small</td>\n",
       "    </tr>\n",
       "    <tr>\n",
       "      <th>OUT045</th>\n",
       "      <td>Very Small</td>\n",
       "    </tr>\n",
       "    <tr>\n",
       "      <th>OUT046</th>\n",
       "      <td>Small</td>\n",
       "    </tr>\n",
       "    <tr>\n",
       "      <th>OUT049</th>\n",
       "      <td>Medium</td>\n",
       "    </tr>\n",
       "  </tbody>\n",
       "</table>\n",
       "</div>"
      ],
      "text/plain": [
       "                  Outlet_Size\n",
       "Outlet_Identifier            \n",
       "OUT010             Very Small\n",
       "OUT013                   High\n",
       "OUT017             Very Small\n",
       "OUT018                 Medium\n",
       "OUT019                  Small\n",
       "OUT027                 Medium\n",
       "OUT035                  Small\n",
       "OUT045             Very Small\n",
       "OUT046                  Small\n",
       "OUT049                 Medium"
      ]
     },
     "execution_count": 79,
     "metadata": {},
     "output_type": "execute_result"
    }
   ],
   "source": [
    "data.pivot_table(values=\"Outlet_Size\", index = \"Outlet_Identifier\", aggfunc=(lambda x: mode(x).mode[0]))"
   ]
  },
  {
   "cell_type": "code",
   "execution_count": 80,
   "metadata": {
    "colab": {
     "base_uri": "https://localhost:8080/"
    },
    "executionInfo": {
     "elapsed": 35,
     "status": "ok",
     "timestamp": 1626634076758,
     "user": {
      "displayName": "Mohamed Noordeen Alaudeen",
      "photoUrl": "",
      "userId": "13097854355562551879"
     },
     "user_tz": -330
    },
    "id": "buFvtGWi5mVo",
    "outputId": "cb3c8b36-9e76-4057-8e6b-2d2f7011176e"
   },
   "outputs": [
    {
     "data": {
      "text/plain": [
       "0"
      ]
     },
     "execution_count": 80,
     "metadata": {},
     "output_type": "execute_result"
    }
   ],
   "source": [
    "data[\"Item_Visibility\"].isna().sum()"
   ]
  },
  {
   "cell_type": "code",
   "execution_count": 81,
   "metadata": {
    "id": "ErEIRUWa5mVo"
   },
   "outputs": [],
   "source": [
    "data[\"Item_Visibility\"] = data[\"Item_Visibility\"].replace({0:np.NAN})"
   ]
  },
  {
   "cell_type": "code",
   "execution_count": 82,
   "metadata": {
    "colab": {
     "base_uri": "https://localhost:8080/",
     "height": 579
    },
    "executionInfo": {
     "elapsed": 30,
     "status": "ok",
     "timestamp": 1626634076759,
     "user": {
      "displayName": "Mohamed Noordeen Alaudeen",
      "photoUrl": "",
      "userId": "13097854355562551879"
     },
     "user_tz": -330
    },
    "id": "cNM7tlrJ5mVo",
    "outputId": "ed6f6d18-7cc2-4de8-c783-3b4881940195"
   },
   "outputs": [
    {
     "data": {
      "text/html": [
       "<div>\n",
       "<style scoped>\n",
       "    .dataframe tbody tr th:only-of-type {\n",
       "        vertical-align: middle;\n",
       "    }\n",
       "\n",
       "    .dataframe tbody tr th {\n",
       "        vertical-align: top;\n",
       "    }\n",
       "\n",
       "    .dataframe thead th {\n",
       "        text-align: right;\n",
       "    }\n",
       "</style>\n",
       "<table border=\"1\" class=\"dataframe\">\n",
       "  <thead>\n",
       "    <tr style=\"text-align: right;\">\n",
       "      <th>Outlet_Type</th>\n",
       "      <th>Grocery Store</th>\n",
       "      <th>Supermarket Type1</th>\n",
       "      <th>Supermarket Type2</th>\n",
       "      <th>Supermarket Type3</th>\n",
       "    </tr>\n",
       "    <tr>\n",
       "      <th>Item_Type</th>\n",
       "      <th></th>\n",
       "      <th></th>\n",
       "      <th></th>\n",
       "      <th></th>\n",
       "    </tr>\n",
       "  </thead>\n",
       "  <tbody>\n",
       "    <tr>\n",
       "      <th>Baking Goods</th>\n",
       "      <td>0.116306</td>\n",
       "      <td>0.066692</td>\n",
       "      <td>0.068206</td>\n",
       "      <td>0.066524</td>\n",
       "    </tr>\n",
       "    <tr>\n",
       "      <th>Breads</th>\n",
       "      <td>0.111612</td>\n",
       "      <td>0.067579</td>\n",
       "      <td>0.067976</td>\n",
       "      <td>0.066038</td>\n",
       "    </tr>\n",
       "    <tr>\n",
       "      <th>Breakfast</th>\n",
       "      <td>0.126056</td>\n",
       "      <td>0.079993</td>\n",
       "      <td>0.083079</td>\n",
       "      <td>0.078609</td>\n",
       "    </tr>\n",
       "    <tr>\n",
       "      <th>Canned</th>\n",
       "      <td>0.112484</td>\n",
       "      <td>0.066167</td>\n",
       "      <td>0.064655</td>\n",
       "      <td>0.067549</td>\n",
       "    </tr>\n",
       "    <tr>\n",
       "      <th>Dairy</th>\n",
       "      <td>0.120742</td>\n",
       "      <td>0.069299</td>\n",
       "      <td>0.069000</td>\n",
       "      <td>0.069213</td>\n",
       "    </tr>\n",
       "    <tr>\n",
       "      <th>Frozen Foods</th>\n",
       "      <td>0.115895</td>\n",
       "      <td>0.065449</td>\n",
       "      <td>0.064184</td>\n",
       "      <td>0.064816</td>\n",
       "    </tr>\n",
       "    <tr>\n",
       "      <th>Fruits and Vegetables</th>\n",
       "      <td>0.114820</td>\n",
       "      <td>0.067123</td>\n",
       "      <td>0.067503</td>\n",
       "      <td>0.066758</td>\n",
       "    </tr>\n",
       "    <tr>\n",
       "      <th>Hard Drinks</th>\n",
       "      <td>0.109913</td>\n",
       "      <td>0.064873</td>\n",
       "      <td>0.063611</td>\n",
       "      <td>0.065297</td>\n",
       "    </tr>\n",
       "    <tr>\n",
       "      <th>Health and Hygiene</th>\n",
       "      <td>0.098924</td>\n",
       "      <td>0.055021</td>\n",
       "      <td>0.053081</td>\n",
       "      <td>0.054924</td>\n",
       "    </tr>\n",
       "    <tr>\n",
       "      <th>Household</th>\n",
       "      <td>0.099288</td>\n",
       "      <td>0.057774</td>\n",
       "      <td>0.057858</td>\n",
       "      <td>0.057625</td>\n",
       "    </tr>\n",
       "    <tr>\n",
       "      <th>Meat</th>\n",
       "      <td>0.095960</td>\n",
       "      <td>0.058676</td>\n",
       "      <td>0.058574</td>\n",
       "      <td>0.058451</td>\n",
       "    </tr>\n",
       "    <tr>\n",
       "      <th>Others</th>\n",
       "      <td>0.096714</td>\n",
       "      <td>0.055688</td>\n",
       "      <td>0.056357</td>\n",
       "      <td>0.055413</td>\n",
       "    </tr>\n",
       "    <tr>\n",
       "      <th>Seafood</th>\n",
       "      <td>0.122593</td>\n",
       "      <td>0.067158</td>\n",
       "      <td>0.071047</td>\n",
       "      <td>0.075858</td>\n",
       "    </tr>\n",
       "    <tr>\n",
       "      <th>Snack Foods</th>\n",
       "      <td>0.114660</td>\n",
       "      <td>0.065578</td>\n",
       "      <td>0.065584</td>\n",
       "      <td>0.065126</td>\n",
       "    </tr>\n",
       "    <tr>\n",
       "      <th>Soft Drinks</th>\n",
       "      <td>0.108376</td>\n",
       "      <td>0.064303</td>\n",
       "      <td>0.064451</td>\n",
       "      <td>0.065485</td>\n",
       "    </tr>\n",
       "    <tr>\n",
       "      <th>Starchy Foods</th>\n",
       "      <td>0.117891</td>\n",
       "      <td>0.066730</td>\n",
       "      <td>0.068340</td>\n",
       "      <td>0.067608</td>\n",
       "    </tr>\n",
       "  </tbody>\n",
       "</table>\n",
       "</div>"
      ],
      "text/plain": [
       "Outlet_Type            Grocery Store  Supermarket Type1  Supermarket Type2  \\\n",
       "Item_Type                                                                    \n",
       "Baking Goods                0.116306           0.066692           0.068206   \n",
       "Breads                      0.111612           0.067579           0.067976   \n",
       "Breakfast                   0.126056           0.079993           0.083079   \n",
       "Canned                      0.112484           0.066167           0.064655   \n",
       "Dairy                       0.120742           0.069299           0.069000   \n",
       "Frozen Foods                0.115895           0.065449           0.064184   \n",
       "Fruits and Vegetables       0.114820           0.067123           0.067503   \n",
       "Hard Drinks                 0.109913           0.064873           0.063611   \n",
       "Health and Hygiene          0.098924           0.055021           0.053081   \n",
       "Household                   0.099288           0.057774           0.057858   \n",
       "Meat                        0.095960           0.058676           0.058574   \n",
       "Others                      0.096714           0.055688           0.056357   \n",
       "Seafood                     0.122593           0.067158           0.071047   \n",
       "Snack Foods                 0.114660           0.065578           0.065584   \n",
       "Soft Drinks                 0.108376           0.064303           0.064451   \n",
       "Starchy Foods               0.117891           0.066730           0.068340   \n",
       "\n",
       "Outlet_Type            Supermarket Type3  \n",
       "Item_Type                                 \n",
       "Baking Goods                    0.066524  \n",
       "Breads                          0.066038  \n",
       "Breakfast                       0.078609  \n",
       "Canned                          0.067549  \n",
       "Dairy                           0.069213  \n",
       "Frozen Foods                    0.064816  \n",
       "Fruits and Vegetables           0.066758  \n",
       "Hard Drinks                     0.065297  \n",
       "Health and Hygiene              0.054924  \n",
       "Household                       0.057625  \n",
       "Meat                            0.058451  \n",
       "Others                          0.055413  \n",
       "Seafood                         0.075858  \n",
       "Snack Foods                     0.065126  \n",
       "Soft Drinks                     0.065485  \n",
       "Starchy Foods                   0.067608  "
      ]
     },
     "execution_count": 82,
     "metadata": {},
     "output_type": "execute_result"
    }
   ],
   "source": [
    "data.pivot_table(values=\"Item_Visibility\", index = \"Item_Type\", columns = \"Outlet_Type\")"
   ]
  },
  {
   "cell_type": "code",
   "execution_count": 83,
   "metadata": {
    "id": "r05erx6N5mVo"
   },
   "outputs": [],
   "source": [
    "truth_table_item_outlet_type_visibility = data.pivot_table(values=\"Item_Visibility\", index = \"Item_Type\", columns = \"Outlet_Type\")"
   ]
  },
  {
   "cell_type": "code",
   "execution_count": 84,
   "metadata": {
    "colab": {
     "base_uri": "https://localhost:8080/",
     "height": 579
    },
    "executionInfo": {
     "elapsed": 29,
     "status": "ok",
     "timestamp": 1626634076760,
     "user": {
      "displayName": "Mohamed Noordeen Alaudeen",
      "photoUrl": "",
      "userId": "13097854355562551879"
     },
     "user_tz": -330
    },
    "id": "qwMSKN2Z5mVo",
    "outputId": "93691b3d-477c-49f8-9dee-018ea24c24f6"
   },
   "outputs": [
    {
     "data": {
      "text/html": [
       "<div>\n",
       "<style scoped>\n",
       "    .dataframe tbody tr th:only-of-type {\n",
       "        vertical-align: middle;\n",
       "    }\n",
       "\n",
       "    .dataframe tbody tr th {\n",
       "        vertical-align: top;\n",
       "    }\n",
       "\n",
       "    .dataframe thead th {\n",
       "        text-align: right;\n",
       "    }\n",
       "</style>\n",
       "<table border=\"1\" class=\"dataframe\">\n",
       "  <thead>\n",
       "    <tr style=\"text-align: right;\">\n",
       "      <th>Outlet_Type</th>\n",
       "      <th>Grocery Store</th>\n",
       "      <th>Supermarket Type1</th>\n",
       "      <th>Supermarket Type2</th>\n",
       "      <th>Supermarket Type3</th>\n",
       "    </tr>\n",
       "    <tr>\n",
       "      <th>Item_Type</th>\n",
       "      <th></th>\n",
       "      <th></th>\n",
       "      <th></th>\n",
       "      <th></th>\n",
       "    </tr>\n",
       "  </thead>\n",
       "  <tbody>\n",
       "    <tr>\n",
       "      <th>Baking Goods</th>\n",
       "      <td>0.116306</td>\n",
       "      <td>0.066692</td>\n",
       "      <td>0.068206</td>\n",
       "      <td>0.066524</td>\n",
       "    </tr>\n",
       "    <tr>\n",
       "      <th>Breads</th>\n",
       "      <td>0.111612</td>\n",
       "      <td>0.067579</td>\n",
       "      <td>0.067976</td>\n",
       "      <td>0.066038</td>\n",
       "    </tr>\n",
       "    <tr>\n",
       "      <th>Breakfast</th>\n",
       "      <td>0.126056</td>\n",
       "      <td>0.079993</td>\n",
       "      <td>0.083079</td>\n",
       "      <td>0.078609</td>\n",
       "    </tr>\n",
       "    <tr>\n",
       "      <th>Canned</th>\n",
       "      <td>0.112484</td>\n",
       "      <td>0.066167</td>\n",
       "      <td>0.064655</td>\n",
       "      <td>0.067549</td>\n",
       "    </tr>\n",
       "    <tr>\n",
       "      <th>Dairy</th>\n",
       "      <td>0.120742</td>\n",
       "      <td>0.069299</td>\n",
       "      <td>0.069000</td>\n",
       "      <td>0.069213</td>\n",
       "    </tr>\n",
       "    <tr>\n",
       "      <th>Frozen Foods</th>\n",
       "      <td>0.115895</td>\n",
       "      <td>0.065449</td>\n",
       "      <td>0.064184</td>\n",
       "      <td>0.064816</td>\n",
       "    </tr>\n",
       "    <tr>\n",
       "      <th>Fruits and Vegetables</th>\n",
       "      <td>0.114820</td>\n",
       "      <td>0.067123</td>\n",
       "      <td>0.067503</td>\n",
       "      <td>0.066758</td>\n",
       "    </tr>\n",
       "    <tr>\n",
       "      <th>Hard Drinks</th>\n",
       "      <td>0.109913</td>\n",
       "      <td>0.064873</td>\n",
       "      <td>0.063611</td>\n",
       "      <td>0.065297</td>\n",
       "    </tr>\n",
       "    <tr>\n",
       "      <th>Health and Hygiene</th>\n",
       "      <td>0.098924</td>\n",
       "      <td>0.055021</td>\n",
       "      <td>0.053081</td>\n",
       "      <td>0.054924</td>\n",
       "    </tr>\n",
       "    <tr>\n",
       "      <th>Household</th>\n",
       "      <td>0.099288</td>\n",
       "      <td>0.057774</td>\n",
       "      <td>0.057858</td>\n",
       "      <td>0.057625</td>\n",
       "    </tr>\n",
       "    <tr>\n",
       "      <th>Meat</th>\n",
       "      <td>0.095960</td>\n",
       "      <td>0.058676</td>\n",
       "      <td>0.058574</td>\n",
       "      <td>0.058451</td>\n",
       "    </tr>\n",
       "    <tr>\n",
       "      <th>Others</th>\n",
       "      <td>0.096714</td>\n",
       "      <td>0.055688</td>\n",
       "      <td>0.056357</td>\n",
       "      <td>0.055413</td>\n",
       "    </tr>\n",
       "    <tr>\n",
       "      <th>Seafood</th>\n",
       "      <td>0.122593</td>\n",
       "      <td>0.067158</td>\n",
       "      <td>0.071047</td>\n",
       "      <td>0.075858</td>\n",
       "    </tr>\n",
       "    <tr>\n",
       "      <th>Snack Foods</th>\n",
       "      <td>0.114660</td>\n",
       "      <td>0.065578</td>\n",
       "      <td>0.065584</td>\n",
       "      <td>0.065126</td>\n",
       "    </tr>\n",
       "    <tr>\n",
       "      <th>Soft Drinks</th>\n",
       "      <td>0.108376</td>\n",
       "      <td>0.064303</td>\n",
       "      <td>0.064451</td>\n",
       "      <td>0.065485</td>\n",
       "    </tr>\n",
       "    <tr>\n",
       "      <th>Starchy Foods</th>\n",
       "      <td>0.117891</td>\n",
       "      <td>0.066730</td>\n",
       "      <td>0.068340</td>\n",
       "      <td>0.067608</td>\n",
       "    </tr>\n",
       "  </tbody>\n",
       "</table>\n",
       "</div>"
      ],
      "text/plain": [
       "Outlet_Type            Grocery Store  Supermarket Type1  Supermarket Type2  \\\n",
       "Item_Type                                                                    \n",
       "Baking Goods                0.116306           0.066692           0.068206   \n",
       "Breads                      0.111612           0.067579           0.067976   \n",
       "Breakfast                   0.126056           0.079993           0.083079   \n",
       "Canned                      0.112484           0.066167           0.064655   \n",
       "Dairy                       0.120742           0.069299           0.069000   \n",
       "Frozen Foods                0.115895           0.065449           0.064184   \n",
       "Fruits and Vegetables       0.114820           0.067123           0.067503   \n",
       "Hard Drinks                 0.109913           0.064873           0.063611   \n",
       "Health and Hygiene          0.098924           0.055021           0.053081   \n",
       "Household                   0.099288           0.057774           0.057858   \n",
       "Meat                        0.095960           0.058676           0.058574   \n",
       "Others                      0.096714           0.055688           0.056357   \n",
       "Seafood                     0.122593           0.067158           0.071047   \n",
       "Snack Foods                 0.114660           0.065578           0.065584   \n",
       "Soft Drinks                 0.108376           0.064303           0.064451   \n",
       "Starchy Foods               0.117891           0.066730           0.068340   \n",
       "\n",
       "Outlet_Type            Supermarket Type3  \n",
       "Item_Type                                 \n",
       "Baking Goods                    0.066524  \n",
       "Breads                          0.066038  \n",
       "Breakfast                       0.078609  \n",
       "Canned                          0.067549  \n",
       "Dairy                           0.069213  \n",
       "Frozen Foods                    0.064816  \n",
       "Fruits and Vegetables           0.066758  \n",
       "Hard Drinks                     0.065297  \n",
       "Health and Hygiene              0.054924  \n",
       "Household                       0.057625  \n",
       "Meat                            0.058451  \n",
       "Others                          0.055413  \n",
       "Seafood                         0.075858  \n",
       "Snack Foods                     0.065126  \n",
       "Soft Drinks                     0.065485  \n",
       "Starchy Foods                   0.067608  "
      ]
     },
     "execution_count": 84,
     "metadata": {},
     "output_type": "execute_result"
    }
   ],
   "source": [
    "truth_table_item_outlet_type_visibility"
   ]
  },
  {
   "cell_type": "code",
   "execution_count": 85,
   "metadata": {
    "id": "xAmQxr_n5mVo"
   },
   "outputs": [],
   "source": [
    "test = data[data[\"Item_Visibility\"].isna()].head(1)"
   ]
  },
  {
   "cell_type": "code",
   "execution_count": 86,
   "metadata": {
    "colab": {
     "base_uri": "https://localhost:8080/",
     "height": 118
    },
    "executionInfo": {
     "elapsed": 1083,
     "status": "ok",
     "timestamp": 1626634077815,
     "user": {
      "displayName": "Mohamed Noordeen Alaudeen",
      "photoUrl": "",
      "userId": "13097854355562551879"
     },
     "user_tz": -330
    },
    "id": "Vtx2qNS05mVo",
    "outputId": "5ceda83f-915a-4586-d579-2d9bf7c371cd"
   },
   "outputs": [
    {
     "data": {
      "text/html": [
       "<div>\n",
       "<style scoped>\n",
       "    .dataframe tbody tr th:only-of-type {\n",
       "        vertical-align: middle;\n",
       "    }\n",
       "\n",
       "    .dataframe tbody tr th {\n",
       "        vertical-align: top;\n",
       "    }\n",
       "\n",
       "    .dataframe thead th {\n",
       "        text-align: right;\n",
       "    }\n",
       "</style>\n",
       "<table border=\"1\" class=\"dataframe\">\n",
       "  <thead>\n",
       "    <tr style=\"text-align: right;\">\n",
       "      <th></th>\n",
       "      <th>Item_Identifier</th>\n",
       "      <th>Item_Weight</th>\n",
       "      <th>Item_Fat_Content</th>\n",
       "      <th>Item_Visibility</th>\n",
       "      <th>Item_Type</th>\n",
       "      <th>Item_MRP</th>\n",
       "      <th>Outlet_Identifier</th>\n",
       "      <th>Outlet_Establishment_Year</th>\n",
       "      <th>Outlet_Size</th>\n",
       "      <th>Outlet_Location_Type</th>\n",
       "      <th>Outlet_Type</th>\n",
       "      <th>Item_Outlet_Sales</th>\n",
       "      <th>data</th>\n",
       "      <th>Item_Identifier_group</th>\n",
       "    </tr>\n",
       "  </thead>\n",
       "  <tbody>\n",
       "    <tr>\n",
       "      <th>3</th>\n",
       "      <td>FDX07</td>\n",
       "      <td>19.2</td>\n",
       "      <td>Regular</td>\n",
       "      <td>NaN</td>\n",
       "      <td>Fruits and Vegetables</td>\n",
       "      <td>182.095</td>\n",
       "      <td>OUT010</td>\n",
       "      <td>1998</td>\n",
       "      <td>Very Small</td>\n",
       "      <td>2</td>\n",
       "      <td>Grocery Store</td>\n",
       "      <td>732.38</td>\n",
       "      <td>train</td>\n",
       "      <td>FDX</td>\n",
       "    </tr>\n",
       "  </tbody>\n",
       "</table>\n",
       "</div>"
      ],
      "text/plain": [
       "  Item_Identifier  Item_Weight Item_Fat_Content  Item_Visibility  \\\n",
       "3           FDX07         19.2          Regular              NaN   \n",
       "\n",
       "               Item_Type  Item_MRP Outlet_Identifier  \\\n",
       "3  Fruits and Vegetables   182.095            OUT010   \n",
       "\n",
       "   Outlet_Establishment_Year Outlet_Size  Outlet_Location_Type    Outlet_Type  \\\n",
       "3                       1998  Very Small                     2  Grocery Store   \n",
       "\n",
       "   Item_Outlet_Sales   data Item_Identifier_group  \n",
       "3             732.38  train                   FDX  "
      ]
     },
     "execution_count": 86,
     "metadata": {},
     "output_type": "execute_result"
    }
   ],
   "source": [
    "test"
   ]
  },
  {
   "cell_type": "code",
   "execution_count": 87,
   "metadata": {
    "id": "iRtRwwV85mVp"
   },
   "outputs": [],
   "source": [
    "def find_visibility(x):\n",
    "    return truth_table_item_outlet_type_visibility.loc[x[\"Item_Type\"], x[\"Outlet_Type\"]]"
   ]
  },
  {
   "cell_type": "code",
   "execution_count": 88,
   "metadata": {
    "colab": {
     "base_uri": "https://localhost:8080/",
     "height": 111
    },
    "executionInfo": {
     "elapsed": 50,
     "status": "ok",
     "timestamp": 1626634077817,
     "user": {
      "displayName": "Mohamed Noordeen Alaudeen",
      "photoUrl": "",
      "userId": "13097854355562551879"
     },
     "user_tz": -330
    },
    "id": "bFqV2zEQ5mVp",
    "outputId": "efe05fcc-e91b-4f56-b340-e6c1c1ad80b2"
   },
   "outputs": [
    {
     "data": {
      "text/html": [
       "<div>\n",
       "<style scoped>\n",
       "    .dataframe tbody tr th:only-of-type {\n",
       "        vertical-align: middle;\n",
       "    }\n",
       "\n",
       "    .dataframe tbody tr th {\n",
       "        vertical-align: top;\n",
       "    }\n",
       "\n",
       "    .dataframe thead th {\n",
       "        text-align: right;\n",
       "    }\n",
       "</style>\n",
       "<table border=\"1\" class=\"dataframe\">\n",
       "  <thead>\n",
       "    <tr style=\"text-align: right;\">\n",
       "      <th>Outlet_Type</th>\n",
       "      <th>Grocery Store</th>\n",
       "    </tr>\n",
       "    <tr>\n",
       "      <th>Item_Type</th>\n",
       "      <th></th>\n",
       "    </tr>\n",
       "  </thead>\n",
       "  <tbody>\n",
       "    <tr>\n",
       "      <th>Fruits and Vegetables</th>\n",
       "      <td>0.11482</td>\n",
       "    </tr>\n",
       "  </tbody>\n",
       "</table>\n",
       "</div>"
      ],
      "text/plain": [
       "Outlet_Type            Grocery Store\n",
       "Item_Type                           \n",
       "Fruits and Vegetables        0.11482"
      ]
     },
     "execution_count": 88,
     "metadata": {},
     "output_type": "execute_result"
    }
   ],
   "source": [
    "find_visibility(test)"
   ]
  },
  {
   "cell_type": "code",
   "execution_count": 89,
   "metadata": {
    "colab": {
     "base_uri": "https://localhost:8080/"
    },
    "executionInfo": {
     "elapsed": 48,
     "status": "ok",
     "timestamp": 1626634077817,
     "user": {
      "displayName": "Mohamed Noordeen Alaudeen",
      "photoUrl": "",
      "userId": "13097854355562551879"
     },
     "user_tz": -330
    },
    "id": "k-Ah10Yw5mVp",
    "outputId": "beeb1359-4305-47e1-d57d-2277713c2fc4"
   },
   "outputs": [
    {
     "data": {
      "text/plain": [
       "3        0.114820\n",
       "4        0.057774\n",
       "5        0.068206\n",
       "10       0.067123\n",
       "32       0.065584\n",
       "           ...   \n",
       "14166    0.114820\n",
       "14171    0.067549\n",
       "14177    0.065578\n",
       "14184    0.065485\n",
       "14202    0.066167\n",
       "Length: 879, dtype: float64"
      ]
     },
     "execution_count": 89,
     "metadata": {},
     "output_type": "execute_result"
    }
   ],
   "source": [
    "data[data[\"Item_Visibility\"].isnull()].apply(find_visibility, axis= 1)"
   ]
  },
  {
   "cell_type": "code",
   "execution_count": 90,
   "metadata": {
    "id": "EbC4X2Cg5mVp"
   },
   "outputs": [],
   "source": [
    "data[\"Item_Visibility\"].fillna(data[data[\"Item_Visibility\"].isnull()].apply(find_visibility, axis= 1), inplace = True)"
   ]
  },
  {
   "cell_type": "code",
   "execution_count": 91,
   "metadata": {
    "colab": {
     "base_uri": "https://localhost:8080/"
    },
    "executionInfo": {
     "elapsed": 43,
     "status": "ok",
     "timestamp": 1626634077818,
     "user": {
      "displayName": "Mohamed Noordeen Alaudeen",
      "photoUrl": "",
      "userId": "13097854355562551879"
     },
     "user_tz": -330
    },
    "id": "JpgTGo4k5mVp",
    "outputId": "796cc01b-81cc-4ac8-a360-7d7dce40e1bb"
   },
   "outputs": [
    {
     "data": {
      "text/plain": [
       "0"
      ]
     },
     "execution_count": 91,
     "metadata": {},
     "output_type": "execute_result"
    }
   ],
   "source": [
    "data[\"Item_Visibility\"].isna().sum()"
   ]
  },
  {
   "cell_type": "code",
   "execution_count": 92,
   "metadata": {
    "id": "X3vnFctt5mVp"
   },
   "outputs": [],
   "source": [
    "#Feature Engineering"
   ]
  },
  {
   "cell_type": "code",
   "execution_count": 93,
   "metadata": {
    "colab": {
     "base_uri": "https://localhost:8080/"
    },
    "executionInfo": {
     "elapsed": 39,
     "status": "ok",
     "timestamp": 1626634077819,
     "user": {
      "displayName": "Mohamed Noordeen Alaudeen",
      "photoUrl": "",
      "userId": "13097854355562551879"
     },
     "user_tz": -330
    },
    "id": "qbQvU9WW5mVq",
    "outputId": "c770b224-61d1-45be-a0c6-e3e81ee0b437"
   },
   "outputs": [
    {
     "data": {
      "text/plain": [
       "Index(['Item_Identifier', 'Item_Weight', 'Item_Fat_Content', 'Item_Visibility',\n",
       "       'Item_Type', 'Item_MRP', 'Outlet_Identifier',\n",
       "       'Outlet_Establishment_Year', 'Outlet_Size', 'Outlet_Location_Type',\n",
       "       'Outlet_Type', 'Item_Outlet_Sales', 'data', 'Item_Identifier_group'],\n",
       "      dtype='object')"
      ]
     },
     "execution_count": 93,
     "metadata": {},
     "output_type": "execute_result"
    }
   ],
   "source": [
    "data.columns"
   ]
  },
  {
   "cell_type": "code",
   "execution_count": 96,
   "metadata": {
    "id": "hrE3pzYK5mVq"
   },
   "outputs": [
    {
     "ename": "KeyError",
     "evalue": "'Outlet_Establishment_Year'",
     "output_type": "error",
     "traceback": [
      "\u001b[1;31m---------------------------------------------------------------------------\u001b[0m",
      "\u001b[1;31mKeyError\u001b[0m                                  Traceback (most recent call last)",
      "\u001b[1;32m~\\anaconda3\\lib\\site-packages\\pandas\\core\\indexes\\base.py\u001b[0m in \u001b[0;36mget_loc\u001b[1;34m(self, key, method, tolerance)\u001b[0m\n\u001b[0;32m   2894\u001b[0m             \u001b[1;32mtry\u001b[0m\u001b[1;33m:\u001b[0m\u001b[1;33m\u001b[0m\u001b[1;33m\u001b[0m\u001b[0m\n\u001b[1;32m-> 2895\u001b[1;33m                 \u001b[1;32mreturn\u001b[0m \u001b[0mself\u001b[0m\u001b[1;33m.\u001b[0m\u001b[0m_engine\u001b[0m\u001b[1;33m.\u001b[0m\u001b[0mget_loc\u001b[0m\u001b[1;33m(\u001b[0m\u001b[0mcasted_key\u001b[0m\u001b[1;33m)\u001b[0m\u001b[1;33m\u001b[0m\u001b[1;33m\u001b[0m\u001b[0m\n\u001b[0m\u001b[0;32m   2896\u001b[0m             \u001b[1;32mexcept\u001b[0m \u001b[0mKeyError\u001b[0m \u001b[1;32mas\u001b[0m \u001b[0merr\u001b[0m\u001b[1;33m:\u001b[0m\u001b[1;33m\u001b[0m\u001b[1;33m\u001b[0m\u001b[0m\n",
      "\u001b[1;32mpandas\\_libs\\index.pyx\u001b[0m in \u001b[0;36mpandas._libs.index.IndexEngine.get_loc\u001b[1;34m()\u001b[0m\n",
      "\u001b[1;32mpandas\\_libs\\index.pyx\u001b[0m in \u001b[0;36mpandas._libs.index.IndexEngine.get_loc\u001b[1;34m()\u001b[0m\n",
      "\u001b[1;32mpandas\\_libs\\hashtable_class_helper.pxi\u001b[0m in \u001b[0;36mpandas._libs.hashtable.PyObjectHashTable.get_item\u001b[1;34m()\u001b[0m\n",
      "\u001b[1;32mpandas\\_libs\\hashtable_class_helper.pxi\u001b[0m in \u001b[0;36mpandas._libs.hashtable.PyObjectHashTable.get_item\u001b[1;34m()\u001b[0m\n",
      "\u001b[1;31mKeyError\u001b[0m: 'Outlet_Establishment_Year'",
      "\nThe above exception was the direct cause of the following exception:\n",
      "\u001b[1;31mKeyError\u001b[0m                                  Traceback (most recent call last)",
      "\u001b[1;32m<ipython-input-96-4c52b0c503c0>\u001b[0m in \u001b[0;36m<module>\u001b[1;34m\u001b[0m\n\u001b[1;32m----> 1\u001b[1;33m \u001b[0mdata\u001b[0m\u001b[1;33m[\u001b[0m\u001b[1;34m\"Outlet_Age\"\u001b[0m\u001b[1;33m]\u001b[0m \u001b[1;33m=\u001b[0m \u001b[1;36m2021\u001b[0m \u001b[1;33m-\u001b[0m \u001b[0mdata\u001b[0m\u001b[1;33m[\u001b[0m\u001b[1;34m\"Outlet_Establishment_Year\"\u001b[0m\u001b[1;33m]\u001b[0m\u001b[1;33m\u001b[0m\u001b[1;33m\u001b[0m\u001b[0m\n\u001b[0m",
      "\u001b[1;32m~\\anaconda3\\lib\\site-packages\\pandas\\core\\frame.py\u001b[0m in \u001b[0;36m__getitem__\u001b[1;34m(self, key)\u001b[0m\n\u001b[0;32m   2900\u001b[0m             \u001b[1;32mif\u001b[0m \u001b[0mself\u001b[0m\u001b[1;33m.\u001b[0m\u001b[0mcolumns\u001b[0m\u001b[1;33m.\u001b[0m\u001b[0mnlevels\u001b[0m \u001b[1;33m>\u001b[0m \u001b[1;36m1\u001b[0m\u001b[1;33m:\u001b[0m\u001b[1;33m\u001b[0m\u001b[1;33m\u001b[0m\u001b[0m\n\u001b[0;32m   2901\u001b[0m                 \u001b[1;32mreturn\u001b[0m \u001b[0mself\u001b[0m\u001b[1;33m.\u001b[0m\u001b[0m_getitem_multilevel\u001b[0m\u001b[1;33m(\u001b[0m\u001b[0mkey\u001b[0m\u001b[1;33m)\u001b[0m\u001b[1;33m\u001b[0m\u001b[1;33m\u001b[0m\u001b[0m\n\u001b[1;32m-> 2902\u001b[1;33m             \u001b[0mindexer\u001b[0m \u001b[1;33m=\u001b[0m \u001b[0mself\u001b[0m\u001b[1;33m.\u001b[0m\u001b[0mcolumns\u001b[0m\u001b[1;33m.\u001b[0m\u001b[0mget_loc\u001b[0m\u001b[1;33m(\u001b[0m\u001b[0mkey\u001b[0m\u001b[1;33m)\u001b[0m\u001b[1;33m\u001b[0m\u001b[1;33m\u001b[0m\u001b[0m\n\u001b[0m\u001b[0;32m   2903\u001b[0m             \u001b[1;32mif\u001b[0m \u001b[0mis_integer\u001b[0m\u001b[1;33m(\u001b[0m\u001b[0mindexer\u001b[0m\u001b[1;33m)\u001b[0m\u001b[1;33m:\u001b[0m\u001b[1;33m\u001b[0m\u001b[1;33m\u001b[0m\u001b[0m\n\u001b[0;32m   2904\u001b[0m                 \u001b[0mindexer\u001b[0m \u001b[1;33m=\u001b[0m \u001b[1;33m[\u001b[0m\u001b[0mindexer\u001b[0m\u001b[1;33m]\u001b[0m\u001b[1;33m\u001b[0m\u001b[1;33m\u001b[0m\u001b[0m\n",
      "\u001b[1;32m~\\anaconda3\\lib\\site-packages\\pandas\\core\\indexes\\base.py\u001b[0m in \u001b[0;36mget_loc\u001b[1;34m(self, key, method, tolerance)\u001b[0m\n\u001b[0;32m   2895\u001b[0m                 \u001b[1;32mreturn\u001b[0m \u001b[0mself\u001b[0m\u001b[1;33m.\u001b[0m\u001b[0m_engine\u001b[0m\u001b[1;33m.\u001b[0m\u001b[0mget_loc\u001b[0m\u001b[1;33m(\u001b[0m\u001b[0mcasted_key\u001b[0m\u001b[1;33m)\u001b[0m\u001b[1;33m\u001b[0m\u001b[1;33m\u001b[0m\u001b[0m\n\u001b[0;32m   2896\u001b[0m             \u001b[1;32mexcept\u001b[0m \u001b[0mKeyError\u001b[0m \u001b[1;32mas\u001b[0m \u001b[0merr\u001b[0m\u001b[1;33m:\u001b[0m\u001b[1;33m\u001b[0m\u001b[1;33m\u001b[0m\u001b[0m\n\u001b[1;32m-> 2897\u001b[1;33m                 \u001b[1;32mraise\u001b[0m \u001b[0mKeyError\u001b[0m\u001b[1;33m(\u001b[0m\u001b[0mkey\u001b[0m\u001b[1;33m)\u001b[0m \u001b[1;32mfrom\u001b[0m \u001b[0merr\u001b[0m\u001b[1;33m\u001b[0m\u001b[1;33m\u001b[0m\u001b[0m\n\u001b[0m\u001b[0;32m   2898\u001b[0m \u001b[1;33m\u001b[0m\u001b[0m\n\u001b[0;32m   2899\u001b[0m         \u001b[1;32mif\u001b[0m \u001b[0mtolerance\u001b[0m \u001b[1;32mis\u001b[0m \u001b[1;32mnot\u001b[0m \u001b[1;32mNone\u001b[0m\u001b[1;33m:\u001b[0m\u001b[1;33m\u001b[0m\u001b[1;33m\u001b[0m\u001b[0m\n",
      "\u001b[1;31mKeyError\u001b[0m: 'Outlet_Establishment_Year'"
     ]
    }
   ],
   "source": [
    "data[\"Outlet_Age\"] = 2021 - data[\"Outlet_Establishment_Year\"]"
   ]
  },
  {
   "cell_type": "code",
   "execution_count": 97,
   "metadata": {
    "id": "ojR87eXa5mVq"
   },
   "outputs": [
    {
     "ename": "KeyError",
     "evalue": "'Outlet_Establishment_Year'",
     "output_type": "error",
     "traceback": [
      "\u001b[1;31m---------------------------------------------------------------------------\u001b[0m",
      "\u001b[1;31mKeyError\u001b[0m                                  Traceback (most recent call last)",
      "\u001b[1;32m~\\anaconda3\\lib\\site-packages\\pandas\\core\\indexes\\base.py\u001b[0m in \u001b[0;36mget_loc\u001b[1;34m(self, key, method, tolerance)\u001b[0m\n\u001b[0;32m   2894\u001b[0m             \u001b[1;32mtry\u001b[0m\u001b[1;33m:\u001b[0m\u001b[1;33m\u001b[0m\u001b[1;33m\u001b[0m\u001b[0m\n\u001b[1;32m-> 2895\u001b[1;33m                 \u001b[1;32mreturn\u001b[0m \u001b[0mself\u001b[0m\u001b[1;33m.\u001b[0m\u001b[0m_engine\u001b[0m\u001b[1;33m.\u001b[0m\u001b[0mget_loc\u001b[0m\u001b[1;33m(\u001b[0m\u001b[0mcasted_key\u001b[0m\u001b[1;33m)\u001b[0m\u001b[1;33m\u001b[0m\u001b[1;33m\u001b[0m\u001b[0m\n\u001b[0m\u001b[0;32m   2896\u001b[0m             \u001b[1;32mexcept\u001b[0m \u001b[0mKeyError\u001b[0m \u001b[1;32mas\u001b[0m \u001b[0merr\u001b[0m\u001b[1;33m:\u001b[0m\u001b[1;33m\u001b[0m\u001b[1;33m\u001b[0m\u001b[0m\n",
      "\u001b[1;32mpandas\\_libs\\index.pyx\u001b[0m in \u001b[0;36mpandas._libs.index.IndexEngine.get_loc\u001b[1;34m()\u001b[0m\n",
      "\u001b[1;32mpandas\\_libs\\index.pyx\u001b[0m in \u001b[0;36mpandas._libs.index.IndexEngine.get_loc\u001b[1;34m()\u001b[0m\n",
      "\u001b[1;32mpandas\\_libs\\hashtable_class_helper.pxi\u001b[0m in \u001b[0;36mpandas._libs.hashtable.PyObjectHashTable.get_item\u001b[1;34m()\u001b[0m\n",
      "\u001b[1;32mpandas\\_libs\\hashtable_class_helper.pxi\u001b[0m in \u001b[0;36mpandas._libs.hashtable.PyObjectHashTable.get_item\u001b[1;34m()\u001b[0m\n",
      "\u001b[1;31mKeyError\u001b[0m: 'Outlet_Establishment_Year'",
      "\nThe above exception was the direct cause of the following exception:\n",
      "\u001b[1;31mKeyError\u001b[0m                                  Traceback (most recent call last)",
      "\u001b[1;32m<ipython-input-97-c0827ef6d8c0>\u001b[0m in \u001b[0;36m<module>\u001b[1;34m\u001b[0m\n\u001b[1;32m----> 1\u001b[1;33m \u001b[1;32mdel\u001b[0m \u001b[0mdata\u001b[0m\u001b[1;33m[\u001b[0m\u001b[1;34m\"Outlet_Establishment_Year\"\u001b[0m\u001b[1;33m]\u001b[0m\u001b[1;33m\u001b[0m\u001b[1;33m\u001b[0m\u001b[0m\n\u001b[0m",
      "\u001b[1;32m~\\anaconda3\\lib\\site-packages\\pandas\\core\\generic.py\u001b[0m in \u001b[0;36m__delitem__\u001b[1;34m(self, key)\u001b[0m\n\u001b[0;32m   3709\u001b[0m             \u001b[1;31m# there was no match, this call should raise the appropriate\u001b[0m\u001b[1;33m\u001b[0m\u001b[1;33m\u001b[0m\u001b[1;33m\u001b[0m\u001b[0m\n\u001b[0;32m   3710\u001b[0m             \u001b[1;31m# exception:\u001b[0m\u001b[1;33m\u001b[0m\u001b[1;33m\u001b[0m\u001b[1;33m\u001b[0m\u001b[0m\n\u001b[1;32m-> 3711\u001b[1;33m             \u001b[0mloc\u001b[0m \u001b[1;33m=\u001b[0m \u001b[0mself\u001b[0m\u001b[1;33m.\u001b[0m\u001b[0maxes\u001b[0m\u001b[1;33m[\u001b[0m\u001b[1;33m-\u001b[0m\u001b[1;36m1\u001b[0m\u001b[1;33m]\u001b[0m\u001b[1;33m.\u001b[0m\u001b[0mget_loc\u001b[0m\u001b[1;33m(\u001b[0m\u001b[0mkey\u001b[0m\u001b[1;33m)\u001b[0m\u001b[1;33m\u001b[0m\u001b[1;33m\u001b[0m\u001b[0m\n\u001b[0m\u001b[0;32m   3712\u001b[0m             \u001b[0mself\u001b[0m\u001b[1;33m.\u001b[0m\u001b[0m_mgr\u001b[0m\u001b[1;33m.\u001b[0m\u001b[0midelete\u001b[0m\u001b[1;33m(\u001b[0m\u001b[0mloc\u001b[0m\u001b[1;33m)\u001b[0m\u001b[1;33m\u001b[0m\u001b[1;33m\u001b[0m\u001b[0m\n\u001b[0;32m   3713\u001b[0m \u001b[1;33m\u001b[0m\u001b[0m\n",
      "\u001b[1;32m~\\anaconda3\\lib\\site-packages\\pandas\\core\\indexes\\base.py\u001b[0m in \u001b[0;36mget_loc\u001b[1;34m(self, key, method, tolerance)\u001b[0m\n\u001b[0;32m   2895\u001b[0m                 \u001b[1;32mreturn\u001b[0m \u001b[0mself\u001b[0m\u001b[1;33m.\u001b[0m\u001b[0m_engine\u001b[0m\u001b[1;33m.\u001b[0m\u001b[0mget_loc\u001b[0m\u001b[1;33m(\u001b[0m\u001b[0mcasted_key\u001b[0m\u001b[1;33m)\u001b[0m\u001b[1;33m\u001b[0m\u001b[1;33m\u001b[0m\u001b[0m\n\u001b[0;32m   2896\u001b[0m             \u001b[1;32mexcept\u001b[0m \u001b[0mKeyError\u001b[0m \u001b[1;32mas\u001b[0m \u001b[0merr\u001b[0m\u001b[1;33m:\u001b[0m\u001b[1;33m\u001b[0m\u001b[1;33m\u001b[0m\u001b[0m\n\u001b[1;32m-> 2897\u001b[1;33m                 \u001b[1;32mraise\u001b[0m \u001b[0mKeyError\u001b[0m\u001b[1;33m(\u001b[0m\u001b[0mkey\u001b[0m\u001b[1;33m)\u001b[0m \u001b[1;32mfrom\u001b[0m \u001b[0merr\u001b[0m\u001b[1;33m\u001b[0m\u001b[1;33m\u001b[0m\u001b[0m\n\u001b[0m\u001b[0;32m   2898\u001b[0m \u001b[1;33m\u001b[0m\u001b[0m\n\u001b[0;32m   2899\u001b[0m         \u001b[1;32mif\u001b[0m \u001b[0mtolerance\u001b[0m \u001b[1;32mis\u001b[0m \u001b[1;32mnot\u001b[0m \u001b[1;32mNone\u001b[0m\u001b[1;33m:\u001b[0m\u001b[1;33m\u001b[0m\u001b[1;33m\u001b[0m\u001b[0m\n",
      "\u001b[1;31mKeyError\u001b[0m: 'Outlet_Establishment_Year'"
     ]
    }
   ],
   "source": [
    "del data[\"Outlet_Establishment_Year\"]"
   ]
  },
  {
   "cell_type": "code",
   "execution_count": null,
   "metadata": {
    "id": "cfZjiMGn5mVq"
   },
   "outputs": [],
   "source": []
  },
  {
   "cell_type": "markdown",
   "metadata": {
    "id": "E4gWG_th8ddH"
   },
   "source": [
    "# Data Preparation"
   ]
  },
  {
   "cell_type": "code",
   "execution_count": 98,
   "metadata": {
    "colab": {
     "base_uri": "https://localhost:8080/",
     "height": 612
    },
    "executionInfo": {
     "elapsed": 35,
     "status": "ok",
     "timestamp": 1626634077821,
     "user": {
      "displayName": "Mohamed Noordeen Alaudeen",
      "photoUrl": "",
      "userId": "13097854355562551879"
     },
     "user_tz": -330
    },
    "id": "2FJ26oVH5mVq",
    "outputId": "34f6b890-58e0-43c9-bc1e-b7842a1322c1"
   },
   "outputs": [
    {
     "data": {
      "text/html": [
       "<div>\n",
       "<style scoped>\n",
       "    .dataframe tbody tr th:only-of-type {\n",
       "        vertical-align: middle;\n",
       "    }\n",
       "\n",
       "    .dataframe tbody tr th {\n",
       "        vertical-align: top;\n",
       "    }\n",
       "\n",
       "    .dataframe thead th {\n",
       "        text-align: right;\n",
       "    }\n",
       "</style>\n",
       "<table border=\"1\" class=\"dataframe\">\n",
       "  <thead>\n",
       "    <tr style=\"text-align: right;\">\n",
       "      <th></th>\n",
       "      <th>Item_Identifier</th>\n",
       "      <th>Item_Weight</th>\n",
       "      <th>Item_Fat_Content</th>\n",
       "      <th>Item_Visibility</th>\n",
       "      <th>Item_Type</th>\n",
       "      <th>Item_MRP</th>\n",
       "      <th>Outlet_Identifier</th>\n",
       "      <th>Outlet_Size</th>\n",
       "      <th>Outlet_Location_Type</th>\n",
       "      <th>Outlet_Type</th>\n",
       "      <th>Item_Outlet_Sales</th>\n",
       "      <th>data</th>\n",
       "      <th>Item_Identifier_group</th>\n",
       "      <th>Outlet_Age</th>\n",
       "    </tr>\n",
       "  </thead>\n",
       "  <tbody>\n",
       "    <tr>\n",
       "      <th>0</th>\n",
       "      <td>FDA15</td>\n",
       "      <td>9.30</td>\n",
       "      <td>Low Fat</td>\n",
       "      <td>0.016047</td>\n",
       "      <td>Dairy</td>\n",
       "      <td>249.8092</td>\n",
       "      <td>OUT049</td>\n",
       "      <td>Medium</td>\n",
       "      <td>0</td>\n",
       "      <td>Supermarket Type1</td>\n",
       "      <td>3735.1380</td>\n",
       "      <td>train</td>\n",
       "      <td>FDA</td>\n",
       "      <td>22</td>\n",
       "    </tr>\n",
       "    <tr>\n",
       "      <th>1</th>\n",
       "      <td>DRC01</td>\n",
       "      <td>5.92</td>\n",
       "      <td>Regular</td>\n",
       "      <td>0.019278</td>\n",
       "      <td>Soft Drinks</td>\n",
       "      <td>48.2692</td>\n",
       "      <td>OUT018</td>\n",
       "      <td>Medium</td>\n",
       "      <td>2</td>\n",
       "      <td>Supermarket Type2</td>\n",
       "      <td>443.4228</td>\n",
       "      <td>train</td>\n",
       "      <td>DRC</td>\n",
       "      <td>12</td>\n",
       "    </tr>\n",
       "    <tr>\n",
       "      <th>2</th>\n",
       "      <td>FDN15</td>\n",
       "      <td>17.50</td>\n",
       "      <td>Low Fat</td>\n",
       "      <td>0.016760</td>\n",
       "      <td>Meat</td>\n",
       "      <td>141.6180</td>\n",
       "      <td>OUT049</td>\n",
       "      <td>Medium</td>\n",
       "      <td>0</td>\n",
       "      <td>Supermarket Type1</td>\n",
       "      <td>2097.2700</td>\n",
       "      <td>train</td>\n",
       "      <td>FDN</td>\n",
       "      <td>22</td>\n",
       "    </tr>\n",
       "    <tr>\n",
       "      <th>3</th>\n",
       "      <td>FDX07</td>\n",
       "      <td>19.20</td>\n",
       "      <td>Regular</td>\n",
       "      <td>0.114820</td>\n",
       "      <td>Fruits and Vegetables</td>\n",
       "      <td>182.0950</td>\n",
       "      <td>OUT010</td>\n",
       "      <td>Very Small</td>\n",
       "      <td>2</td>\n",
       "      <td>Grocery Store</td>\n",
       "      <td>732.3800</td>\n",
       "      <td>train</td>\n",
       "      <td>FDX</td>\n",
       "      <td>23</td>\n",
       "    </tr>\n",
       "    <tr>\n",
       "      <th>4</th>\n",
       "      <td>NCD19</td>\n",
       "      <td>8.93</td>\n",
       "      <td>Low Fat</td>\n",
       "      <td>0.057774</td>\n",
       "      <td>Household</td>\n",
       "      <td>53.8614</td>\n",
       "      <td>OUT013</td>\n",
       "      <td>High</td>\n",
       "      <td>2</td>\n",
       "      <td>Supermarket Type1</td>\n",
       "      <td>994.7052</td>\n",
       "      <td>train</td>\n",
       "      <td>NCD</td>\n",
       "      <td>34</td>\n",
       "    </tr>\n",
       "    <tr>\n",
       "      <th>...</th>\n",
       "      <td>...</td>\n",
       "      <td>...</td>\n",
       "      <td>...</td>\n",
       "      <td>...</td>\n",
       "      <td>...</td>\n",
       "      <td>...</td>\n",
       "      <td>...</td>\n",
       "      <td>...</td>\n",
       "      <td>...</td>\n",
       "      <td>...</td>\n",
       "      <td>...</td>\n",
       "      <td>...</td>\n",
       "      <td>...</td>\n",
       "      <td>...</td>\n",
       "    </tr>\n",
       "    <tr>\n",
       "      <th>14199</th>\n",
       "      <td>FDB58</td>\n",
       "      <td>10.50</td>\n",
       "      <td>Regular</td>\n",
       "      <td>0.013496</td>\n",
       "      <td>Snack Foods</td>\n",
       "      <td>141.3154</td>\n",
       "      <td>OUT046</td>\n",
       "      <td>Small</td>\n",
       "      <td>0</td>\n",
       "      <td>Supermarket Type1</td>\n",
       "      <td>NaN</td>\n",
       "      <td>test</td>\n",
       "      <td>FDB</td>\n",
       "      <td>24</td>\n",
       "    </tr>\n",
       "    <tr>\n",
       "      <th>14200</th>\n",
       "      <td>FDD47</td>\n",
       "      <td>7.60</td>\n",
       "      <td>Regular</td>\n",
       "      <td>0.142991</td>\n",
       "      <td>Starchy Foods</td>\n",
       "      <td>169.1448</td>\n",
       "      <td>OUT018</td>\n",
       "      <td>Medium</td>\n",
       "      <td>2</td>\n",
       "      <td>Supermarket Type2</td>\n",
       "      <td>NaN</td>\n",
       "      <td>test</td>\n",
       "      <td>FDD</td>\n",
       "      <td>12</td>\n",
       "    </tr>\n",
       "    <tr>\n",
       "      <th>14201</th>\n",
       "      <td>NCO17</td>\n",
       "      <td>10.00</td>\n",
       "      <td>Low Fat</td>\n",
       "      <td>0.073529</td>\n",
       "      <td>Health and Hygiene</td>\n",
       "      <td>118.7440</td>\n",
       "      <td>OUT045</td>\n",
       "      <td>Very Small</td>\n",
       "      <td>1</td>\n",
       "      <td>Supermarket Type1</td>\n",
       "      <td>NaN</td>\n",
       "      <td>test</td>\n",
       "      <td>NCO</td>\n",
       "      <td>19</td>\n",
       "    </tr>\n",
       "    <tr>\n",
       "      <th>14202</th>\n",
       "      <td>FDJ26</td>\n",
       "      <td>15.30</td>\n",
       "      <td>Regular</td>\n",
       "      <td>0.066167</td>\n",
       "      <td>Canned</td>\n",
       "      <td>214.6218</td>\n",
       "      <td>OUT017</td>\n",
       "      <td>Very Small</td>\n",
       "      <td>1</td>\n",
       "      <td>Supermarket Type1</td>\n",
       "      <td>NaN</td>\n",
       "      <td>test</td>\n",
       "      <td>FDJ</td>\n",
       "      <td>14</td>\n",
       "    </tr>\n",
       "    <tr>\n",
       "      <th>14203</th>\n",
       "      <td>FDU37</td>\n",
       "      <td>9.50</td>\n",
       "      <td>Regular</td>\n",
       "      <td>0.104720</td>\n",
       "      <td>Canned</td>\n",
       "      <td>79.7960</td>\n",
       "      <td>OUT045</td>\n",
       "      <td>Very Small</td>\n",
       "      <td>1</td>\n",
       "      <td>Supermarket Type1</td>\n",
       "      <td>NaN</td>\n",
       "      <td>test</td>\n",
       "      <td>FDU</td>\n",
       "      <td>19</td>\n",
       "    </tr>\n",
       "  </tbody>\n",
       "</table>\n",
       "<p>14204 rows × 14 columns</p>\n",
       "</div>"
      ],
      "text/plain": [
       "      Item_Identifier  Item_Weight Item_Fat_Content  Item_Visibility  \\\n",
       "0               FDA15         9.30          Low Fat         0.016047   \n",
       "1               DRC01         5.92          Regular         0.019278   \n",
       "2               FDN15        17.50          Low Fat         0.016760   \n",
       "3               FDX07        19.20          Regular         0.114820   \n",
       "4               NCD19         8.93          Low Fat         0.057774   \n",
       "...               ...          ...              ...              ...   \n",
       "14199           FDB58        10.50          Regular         0.013496   \n",
       "14200           FDD47         7.60          Regular         0.142991   \n",
       "14201           NCO17        10.00          Low Fat         0.073529   \n",
       "14202           FDJ26        15.30          Regular         0.066167   \n",
       "14203           FDU37         9.50          Regular         0.104720   \n",
       "\n",
       "                   Item_Type  Item_MRP Outlet_Identifier Outlet_Size  \\\n",
       "0                      Dairy  249.8092            OUT049      Medium   \n",
       "1                Soft Drinks   48.2692            OUT018      Medium   \n",
       "2                       Meat  141.6180            OUT049      Medium   \n",
       "3      Fruits and Vegetables  182.0950            OUT010  Very Small   \n",
       "4                  Household   53.8614            OUT013        High   \n",
       "...                      ...       ...               ...         ...   \n",
       "14199            Snack Foods  141.3154            OUT046       Small   \n",
       "14200          Starchy Foods  169.1448            OUT018      Medium   \n",
       "14201     Health and Hygiene  118.7440            OUT045  Very Small   \n",
       "14202                 Canned  214.6218            OUT017  Very Small   \n",
       "14203                 Canned   79.7960            OUT045  Very Small   \n",
       "\n",
       "       Outlet_Location_Type        Outlet_Type  Item_Outlet_Sales   data  \\\n",
       "0                         0  Supermarket Type1          3735.1380  train   \n",
       "1                         2  Supermarket Type2           443.4228  train   \n",
       "2                         0  Supermarket Type1          2097.2700  train   \n",
       "3                         2      Grocery Store           732.3800  train   \n",
       "4                         2  Supermarket Type1           994.7052  train   \n",
       "...                     ...                ...                ...    ...   \n",
       "14199                     0  Supermarket Type1                NaN   test   \n",
       "14200                     2  Supermarket Type2                NaN   test   \n",
       "14201                     1  Supermarket Type1                NaN   test   \n",
       "14202                     1  Supermarket Type1                NaN   test   \n",
       "14203                     1  Supermarket Type1                NaN   test   \n",
       "\n",
       "      Item_Identifier_group  Outlet_Age  \n",
       "0                       FDA          22  \n",
       "1                       DRC          12  \n",
       "2                       FDN          22  \n",
       "3                       FDX          23  \n",
       "4                       NCD          34  \n",
       "...                     ...         ...  \n",
       "14199                   FDB          24  \n",
       "14200                   FDD          12  \n",
       "14201                   NCO          19  \n",
       "14202                   FDJ          14  \n",
       "14203                   FDU          19  \n",
       "\n",
       "[14204 rows x 14 columns]"
      ]
     },
     "execution_count": 98,
     "metadata": {},
     "output_type": "execute_result"
    }
   ],
   "source": [
    "data"
   ]
  },
  {
   "cell_type": "code",
   "execution_count": 99,
   "metadata": {
    "colab": {
     "base_uri": "https://localhost:8080/",
     "height": 205
    },
    "executionInfo": {
     "elapsed": 34,
     "status": "ok",
     "timestamp": 1626634077821,
     "user": {
      "displayName": "Mohamed Noordeen Alaudeen",
      "photoUrl": "",
      "userId": "13097854355562551879"
     },
     "user_tz": -330
    },
    "id": "-6Pjm5wb5mVq",
    "outputId": "f8970256-092f-461d-b7da-35a140241d97",
    "scrolled": true
   },
   "outputs": [
    {
     "data": {
      "text/html": [
       "<div>\n",
       "<style scoped>\n",
       "    .dataframe tbody tr th:only-of-type {\n",
       "        vertical-align: middle;\n",
       "    }\n",
       "\n",
       "    .dataframe tbody tr th {\n",
       "        vertical-align: top;\n",
       "    }\n",
       "\n",
       "    .dataframe thead th {\n",
       "        text-align: right;\n",
       "    }\n",
       "</style>\n",
       "<table border=\"1\" class=\"dataframe\">\n",
       "  <thead>\n",
       "    <tr style=\"text-align: right;\">\n",
       "      <th></th>\n",
       "      <th>Item_Weight</th>\n",
       "      <th>Item_Visibility</th>\n",
       "      <th>Item_MRP</th>\n",
       "      <th>Outlet_Location_Type</th>\n",
       "      <th>Item_Outlet_Sales</th>\n",
       "      <th>Outlet_Age</th>\n",
       "    </tr>\n",
       "  </thead>\n",
       "  <tbody>\n",
       "    <tr>\n",
       "      <th>Item_Weight</th>\n",
       "      <td>1.000000</td>\n",
       "      <td>-0.021476</td>\n",
       "      <td>0.035751</td>\n",
       "      <td>-0.001719</td>\n",
       "      <td>0.013261</td>\n",
       "      <td>-0.000247</td>\n",
       "    </tr>\n",
       "    <tr>\n",
       "      <th>Item_Visibility</th>\n",
       "      <td>-0.021476</td>\n",
       "      <td>1.000000</td>\n",
       "      <td>-0.008985</td>\n",
       "      <td>-0.020327</td>\n",
       "      <td>-0.140762</td>\n",
       "      <td>0.093420</td>\n",
       "    </tr>\n",
       "    <tr>\n",
       "      <th>Item_MRP</th>\n",
       "      <td>0.035751</td>\n",
       "      <td>-0.008985</td>\n",
       "      <td>1.000000</td>\n",
       "      <td>0.000838</td>\n",
       "      <td>0.567574</td>\n",
       "      <td>-0.000141</td>\n",
       "    </tr>\n",
       "    <tr>\n",
       "      <th>Outlet_Location_Type</th>\n",
       "      <td>-0.001719</td>\n",
       "      <td>-0.020327</td>\n",
       "      <td>0.000838</td>\n",
       "      <td>1.000000</td>\n",
       "      <td>0.089367</td>\n",
       "      <td>0.089328</td>\n",
       "    </tr>\n",
       "    <tr>\n",
       "      <th>Item_Outlet_Sales</th>\n",
       "      <td>0.013261</td>\n",
       "      <td>-0.140762</td>\n",
       "      <td>0.567574</td>\n",
       "      <td>0.089367</td>\n",
       "      <td>1.000000</td>\n",
       "      <td>0.049135</td>\n",
       "    </tr>\n",
       "    <tr>\n",
       "      <th>Outlet_Age</th>\n",
       "      <td>-0.000247</td>\n",
       "      <td>0.093420</td>\n",
       "      <td>-0.000141</td>\n",
       "      <td>0.089328</td>\n",
       "      <td>0.049135</td>\n",
       "      <td>1.000000</td>\n",
       "    </tr>\n",
       "  </tbody>\n",
       "</table>\n",
       "</div>"
      ],
      "text/plain": [
       "                      Item_Weight  Item_Visibility  Item_MRP  \\\n",
       "Item_Weight              1.000000        -0.021476  0.035751   \n",
       "Item_Visibility         -0.021476         1.000000 -0.008985   \n",
       "Item_MRP                 0.035751        -0.008985  1.000000   \n",
       "Outlet_Location_Type    -0.001719        -0.020327  0.000838   \n",
       "Item_Outlet_Sales        0.013261        -0.140762  0.567574   \n",
       "Outlet_Age              -0.000247         0.093420 -0.000141   \n",
       "\n",
       "                      Outlet_Location_Type  Item_Outlet_Sales  Outlet_Age  \n",
       "Item_Weight                      -0.001719           0.013261   -0.000247  \n",
       "Item_Visibility                  -0.020327          -0.140762    0.093420  \n",
       "Item_MRP                          0.000838           0.567574   -0.000141  \n",
       "Outlet_Location_Type              1.000000           0.089367    0.089328  \n",
       "Item_Outlet_Sales                 0.089367           1.000000    0.049135  \n",
       "Outlet_Age                        0.089328           0.049135    1.000000  "
      ]
     },
     "execution_count": 99,
     "metadata": {},
     "output_type": "execute_result"
    }
   ],
   "source": [
    "data.select_dtypes(include = np.number).corr()"
   ]
  },
  {
   "cell_type": "code",
   "execution_count": 100,
   "metadata": {
    "colab": {
     "base_uri": "https://localhost:8080/",
     "height": 366
    },
    "executionInfo": {
     "elapsed": 33,
     "status": "ok",
     "timestamp": 1626634077822,
     "user": {
      "displayName": "Mohamed Noordeen Alaudeen",
      "photoUrl": "",
      "userId": "13097854355562551879"
     },
     "user_tz": -330
    },
    "id": "3tewuRxQ5mVr",
    "outputId": "63ea8b7d-e098-4207-dfd4-41b6f1a20ec6"
   },
   "outputs": [
    {
     "data": {
      "text/plain": [
       "<AxesSubplot:>"
      ]
     },
     "execution_count": 100,
     "metadata": {},
     "output_type": "execute_result"
    },
    {
     "data": {
      "image/png": "[encoded data removed]",
      "text/plain": [
       "<Figure size 432x288 with 2 Axes>"
      ]
     },
     "metadata": {
      "needs_background": "light"
     },
     "output_type": "display_data"
    }
   ],
   "source": [
    "sns.heatmap(data.select_dtypes(include = np.number).corr(), annot=True)"
   ]
  },
  {
   "cell_type": "code",
   "execution_count": 101,
   "metadata": {
    "id": "KrNZXp8w5mVr"
   },
   "outputs": [],
   "source": [
    "numeric_data_columns = data.select_dtypes(include = np.number).drop(columns = \"Item_Outlet_Sales\").columns"
   ]
  },
  {
   "cell_type": "code",
   "execution_count": 102,
   "metadata": {
    "colab": {
     "base_uri": "https://localhost:8080/",
     "height": 612
    },
    "executionInfo": {
     "elapsed": 26,
     "status": "ok",
     "timestamp": 1626634077823,
     "user": {
      "displayName": "Mohamed Noordeen Alaudeen",
      "photoUrl": "",
      "userId": "13097854355562551879"
     },
     "user_tz": -330
    },
    "id": "zBFw-otO5mVr",
    "outputId": "2689ab3e-3fad-4915-9864-cd828ddc1341"
   },
   "outputs": [
    {
     "data": {
      "text/html": [
       "<div>\n",
       "<style scoped>\n",
       "    .dataframe tbody tr th:only-of-type {\n",
       "        vertical-align: middle;\n",
       "    }\n",
       "\n",
       "    .dataframe tbody tr th {\n",
       "        vertical-align: top;\n",
       "    }\n",
       "\n",
       "    .dataframe thead th {\n",
       "        text-align: right;\n",
       "    }\n",
       "</style>\n",
       "<table border=\"1\" class=\"dataframe\">\n",
       "  <thead>\n",
       "    <tr style=\"text-align: right;\">\n",
       "      <th></th>\n",
       "      <th>Item_Identifier</th>\n",
       "      <th>Item_Fat_Content</th>\n",
       "      <th>Item_Type</th>\n",
       "      <th>Outlet_Identifier</th>\n",
       "      <th>Outlet_Size</th>\n",
       "      <th>Outlet_Type</th>\n",
       "      <th>data</th>\n",
       "      <th>Item_Identifier_group</th>\n",
       "    </tr>\n",
       "  </thead>\n",
       "  <tbody>\n",
       "    <tr>\n",
       "      <th>0</th>\n",
       "      <td>FDA15</td>\n",
       "      <td>Low Fat</td>\n",
       "      <td>Dairy</td>\n",
       "      <td>OUT049</td>\n",
       "      <td>Medium</td>\n",
       "      <td>Supermarket Type1</td>\n",
       "      <td>train</td>\n",
       "      <td>FDA</td>\n",
       "    </tr>\n",
       "    <tr>\n",
       "      <th>1</th>\n",
       "      <td>DRC01</td>\n",
       "      <td>Regular</td>\n",
       "      <td>Soft Drinks</td>\n",
       "      <td>OUT018</td>\n",
       "      <td>Medium</td>\n",
       "      <td>Supermarket Type2</td>\n",
       "      <td>train</td>\n",
       "      <td>DRC</td>\n",
       "    </tr>\n",
       "    <tr>\n",
       "      <th>2</th>\n",
       "      <td>FDN15</td>\n",
       "      <td>Low Fat</td>\n",
       "      <td>Meat</td>\n",
       "      <td>OUT049</td>\n",
       "      <td>Medium</td>\n",
       "      <td>Supermarket Type1</td>\n",
       "      <td>train</td>\n",
       "      <td>FDN</td>\n",
       "    </tr>\n",
       "    <tr>\n",
       "      <th>3</th>\n",
       "      <td>FDX07</td>\n",
       "      <td>Regular</td>\n",
       "      <td>Fruits and Vegetables</td>\n",
       "      <td>OUT010</td>\n",
       "      <td>Very Small</td>\n",
       "      <td>Grocery Store</td>\n",
       "      <td>train</td>\n",
       "      <td>FDX</td>\n",
       "    </tr>\n",
       "    <tr>\n",
       "      <th>4</th>\n",
       "      <td>NCD19</td>\n",
       "      <td>Low Fat</td>\n",
       "      <td>Household</td>\n",
       "      <td>OUT013</td>\n",
       "      <td>High</td>\n",
       "      <td>Supermarket Type1</td>\n",
       "      <td>train</td>\n",
       "      <td>NCD</td>\n",
       "    </tr>\n",
       "    <tr>\n",
       "      <th>...</th>\n",
       "      <td>...</td>\n",
       "      <td>...</td>\n",
       "      <td>...</td>\n",
       "      <td>...</td>\n",
       "      <td>...</td>\n",
       "      <td>...</td>\n",
       "      <td>...</td>\n",
       "      <td>...</td>\n",
       "    </tr>\n",
       "    <tr>\n",
       "      <th>14199</th>\n",
       "      <td>FDB58</td>\n",
       "      <td>Regular</td>\n",
       "      <td>Snack Foods</td>\n",
       "      <td>OUT046</td>\n",
       "      <td>Small</td>\n",
       "      <td>Supermarket Type1</td>\n",
       "      <td>test</td>\n",
       "      <td>FDB</td>\n",
       "    </tr>\n",
       "    <tr>\n",
       "      <th>14200</th>\n",
       "      <td>FDD47</td>\n",
       "      <td>Regular</td>\n",
       "      <td>Starchy Foods</td>\n",
       "      <td>OUT018</td>\n",
       "      <td>Medium</td>\n",
       "      <td>Supermarket Type2</td>\n",
       "      <td>test</td>\n",
       "      <td>FDD</td>\n",
       "    </tr>\n",
       "    <tr>\n",
       "      <th>14201</th>\n",
       "      <td>NCO17</td>\n",
       "      <td>Low Fat</td>\n",
       "      <td>Health and Hygiene</td>\n",
       "      <td>OUT045</td>\n",
       "      <td>Very Small</td>\n",
       "      <td>Supermarket Type1</td>\n",
       "      <td>test</td>\n",
       "      <td>NCO</td>\n",
       "    </tr>\n",
       "    <tr>\n",
       "      <th>14202</th>\n",
       "      <td>FDJ26</td>\n",
       "      <td>Regular</td>\n",
       "      <td>Canned</td>\n",
       "      <td>OUT017</td>\n",
       "      <td>Very Small</td>\n",
       "      <td>Supermarket Type1</td>\n",
       "      <td>test</td>\n",
       "      <td>FDJ</td>\n",
       "    </tr>\n",
       "    <tr>\n",
       "      <th>14203</th>\n",
       "      <td>FDU37</td>\n",
       "      <td>Regular</td>\n",
       "      <td>Canned</td>\n",
       "      <td>OUT045</td>\n",
       "      <td>Very Small</td>\n",
       "      <td>Supermarket Type1</td>\n",
       "      <td>test</td>\n",
       "      <td>FDU</td>\n",
       "    </tr>\n",
       "  </tbody>\n",
       "</table>\n",
       "<p>14204 rows × 8 columns</p>\n",
       "</div>"
      ],
      "text/plain": [
       "      Item_Identifier Item_Fat_Content              Item_Type  \\\n",
       "0               FDA15          Low Fat                  Dairy   \n",
       "1               DRC01          Regular            Soft Drinks   \n",
       "2               FDN15          Low Fat                   Meat   \n",
       "3               FDX07          Regular  Fruits and Vegetables   \n",
       "4               NCD19          Low Fat              Household   \n",
       "...               ...              ...                    ...   \n",
       "14199           FDB58          Regular            Snack Foods   \n",
       "14200           FDD47          Regular          Starchy Foods   \n",
       "14201           NCO17          Low Fat     Health and Hygiene   \n",
       "14202           FDJ26          Regular                 Canned   \n",
       "14203           FDU37          Regular                 Canned   \n",
       "\n",
       "      Outlet_Identifier Outlet_Size        Outlet_Type   data  \\\n",
       "0                OUT049      Medium  Supermarket Type1  train   \n",
       "1                OUT018      Medium  Supermarket Type2  train   \n",
       "2                OUT049      Medium  Supermarket Type1  train   \n",
       "3                OUT010  Very Small      Grocery Store  train   \n",
       "4                OUT013        High  Supermarket Type1  train   \n",
       "...                 ...         ...                ...    ...   \n",
       "14199            OUT046       Small  Supermarket Type1   test   \n",
       "14200            OUT018      Medium  Supermarket Type2   test   \n",
       "14201            OUT045  Very Small  Supermarket Type1   test   \n",
       "14202            OUT017  Very Small  Supermarket Type1   test   \n",
       "14203            OUT045  Very Small  Supermarket Type1   test   \n",
       "\n",
       "      Item_Identifier_group  \n",
       "0                       FDA  \n",
       "1                       DRC  \n",
       "2                       FDN  \n",
       "3                       FDX  \n",
       "4                       NCD  \n",
       "...                     ...  \n",
       "14199                   FDB  \n",
       "14200                   FDD  \n",
       "14201                   NCO  \n",
       "14202                   FDJ  \n",
       "14203                   FDU  \n",
       "\n",
       "[14204 rows x 8 columns]"
      ]
     },
     "execution_count": 102,
     "metadata": {},
     "output_type": "execute_result"
    }
   ],
   "source": [
    "data.select_dtypes(exclude = np.number)"
   ]
  },
  {
   "cell_type": "code",
   "execution_count": 103,
   "metadata": {
    "id": "RPOF0rKi5mVr"
   },
   "outputs": [],
   "source": [
    "category_data_columns = data.select_dtypes(exclude = np.number).drop(columns=[\"Item_Identifier\",\"data\"]).columns"
   ]
  },
  {
   "cell_type": "code",
   "execution_count": 104,
   "metadata": {
    "id": "-nE0FSK85mVr"
   },
   "outputs": [],
   "source": [
    "preprocess_category_data_columns = pd.get_dummies(data[category_data_columns])"
   ]
  },
  {
   "cell_type": "code",
   "execution_count": 105,
   "metadata": {
    "id": "3aec44XW5mVr"
   },
   "outputs": [],
   "source": [
    "scaler = StandardScaler()"
   ]
  },
  {
   "cell_type": "code",
   "execution_count": 106,
   "metadata": {
    "id": "_d5jr1Y75mVr"
   },
   "outputs": [],
   "source": [
    "preprocess_numeric_data_columns = pd.DataFrame(scaler.fit_transform(data[numeric_data_columns]), columns=numeric_data_columns)"
   ]
  },
  {
   "cell_type": "code",
   "execution_count": null,
   "metadata": {
    "id": "DzUakp3g5mVs"
   },
   "outputs": [],
   "source": []
  },
  {
   "cell_type": "code",
   "execution_count": 107,
   "metadata": {
    "id": "KW4gDoSD5mVs"
   },
   "outputs": [],
   "source": [
    "final_preprocessed = pd.concat([preprocess_category_data_columns, preprocess_numeric_data_columns, data[[\"Item_Identifier\",\"Outlet_Identifier\",\"data\", \"Item_Outlet_Sales\"]]], axis = 1)"
   ]
  },
  {
   "cell_type": "code",
   "execution_count": null,
   "metadata": {
    "id": "YCJwpTWQ5mVs"
   },
   "outputs": [],
   "source": []
  },
  {
   "cell_type": "code",
   "execution_count": null,
   "metadata": {
    "id": "nQhL04ud5mVs"
   },
   "outputs": [],
   "source": []
  },
  {
   "cell_type": "code",
   "execution_count": null,
   "metadata": {
    "id": "ycTXr-035mVs"
   },
   "outputs": [],
   "source": []
  },
  {
   "cell_type": "code",
   "execution_count": null,
   "metadata": {
    "id": "FZjZnOUH5mVs"
   },
   "outputs": [],
   "source": []
  },
  {
   "cell_type": "code",
   "execution_count": null,
   "metadata": {
    "id": "_ulJQw6y5mVs"
   },
   "outputs": [],
   "source": []
  },
  {
   "cell_type": "code",
   "execution_count": null,
   "metadata": {
    "id": "gjvvQEc_5mVs"
   },
   "outputs": [],
   "source": []
  },
  {
   "cell_type": "code",
   "execution_count": null,
   "metadata": {
    "id": "gYUTbYrO5mVs"
   },
   "outputs": [],
   "source": []
  },
  {
   "cell_type": "code",
   "execution_count": 108,
   "metadata": {
    "id": "F0LH387q5mVs"
   },
   "outputs": [],
   "source": [
    "train_preprocessed = final_preprocessed[final_preprocessed[\"data\"]==\"train\"]"
   ]
  },
  {
   "cell_type": "code",
   "execution_count": 109,
   "metadata": {
    "id": "Cjg1lV6C5mVt"
   },
   "outputs": [],
   "source": [
    "test_preprocessed = final_preprocessed[final_preprocessed[\"data\"]==\"test\"]"
   ]
  },
  {
   "cell_type": "code",
   "execution_count": 110,
   "metadata": {
    "id": "V4nZMAtF5mVt"
   },
   "outputs": [],
   "source": [
    "test_preprocessed = test_preprocessed.drop(columns = [\"data\",\"Item_Outlet_Sales\"])"
   ]
  },
  {
   "cell_type": "code",
   "execution_count": 111,
   "metadata": {
    "id": "Et02CFTK5mVt"
   },
   "outputs": [],
   "source": [
    "train_preprocessed = train_preprocessed.drop(columns = [\"data\"])"
   ]
  },
  {
   "cell_type": "code",
   "execution_count": 112,
   "metadata": {
    "id": "XgPsjDnc5mVt"
   },
   "outputs": [],
   "source": [
    "train_preprocessed.to_csv(\"train_preprocessed.csv\")\n",
    "test_preprocessed.to_csv(\"test_preprocessed.csv\")"
   ]
  },
  {
   "cell_type": "code",
   "execution_count": 113,
   "metadata": {
    "colab": {
     "base_uri": "https://localhost:8080/",
     "height": 271
    },
    "executionInfo": {
     "elapsed": 21,
     "status": "ok",
     "timestamp": 1626634079158,
     "user": {
      "displayName": "Mohamed Noordeen Alaudeen",
      "photoUrl": "",
      "userId": "13097854355562551879"
     },
     "user_tz": -330
    },
    "id": "5ZLDRexT5mVt",
    "outputId": "3fae0aac-9b6d-4fa5-fdc5-65dfcb7be794"
   },
   "outputs": [
    {
     "data": {
      "text/html": [
       "<div>\n",
       "<style scoped>\n",
       "    .dataframe tbody tr th:only-of-type {\n",
       "        vertical-align: middle;\n",
       "    }\n",
       "\n",
       "    .dataframe tbody tr th {\n",
       "        vertical-align: top;\n",
       "    }\n",
       "\n",
       "    .dataframe thead th {\n",
       "        text-align: right;\n",
       "    }\n",
       "</style>\n",
       "<table border=\"1\" class=\"dataframe\">\n",
       "  <thead>\n",
       "    <tr style=\"text-align: right;\">\n",
       "      <th></th>\n",
       "      <th>Item_Fat_Content_Low Fat</th>\n",
       "      <th>Item_Fat_Content_Regular</th>\n",
       "      <th>Item_Type_Baking Goods</th>\n",
       "      <th>Item_Type_Breads</th>\n",
       "      <th>Item_Type_Breakfast</th>\n",
       "      <th>Item_Type_Canned</th>\n",
       "      <th>Item_Type_Dairy</th>\n",
       "      <th>Item_Type_Frozen Foods</th>\n",
       "      <th>Item_Type_Fruits and Vegetables</th>\n",
       "      <th>Item_Type_Hard Drinks</th>\n",
       "      <th>...</th>\n",
       "      <th>Item_Identifier_group_NCY</th>\n",
       "      <th>Item_Identifier_group_NCZ</th>\n",
       "      <th>Item_Weight</th>\n",
       "      <th>Item_Visibility</th>\n",
       "      <th>Item_MRP</th>\n",
       "      <th>Outlet_Location_Type</th>\n",
       "      <th>Outlet_Age</th>\n",
       "      <th>Item_Identifier</th>\n",
       "      <th>Outlet_Identifier</th>\n",
       "      <th>Item_Outlet_Sales</th>\n",
       "    </tr>\n",
       "  </thead>\n",
       "  <tbody>\n",
       "    <tr>\n",
       "      <th>0</th>\n",
       "      <td>1</td>\n",
       "      <td>0</td>\n",
       "      <td>0</td>\n",
       "      <td>0</td>\n",
       "      <td>0</td>\n",
       "      <td>0</td>\n",
       "      <td>1</td>\n",
       "      <td>0</td>\n",
       "      <td>0</td>\n",
       "      <td>0</td>\n",
       "      <td>...</td>\n",
       "      <td>0</td>\n",
       "      <td>0</td>\n",
       "      <td>-0.751014</td>\n",
       "      <td>-1.112295</td>\n",
       "      <td>1.752511</td>\n",
       "      <td>-1.369286</td>\n",
       "      <td>-0.139681</td>\n",
       "      <td>FDA15</td>\n",
       "      <td>OUT049</td>\n",
       "      <td>3735.1380</td>\n",
       "    </tr>\n",
       "    <tr>\n",
       "      <th>1</th>\n",
       "      <td>0</td>\n",
       "      <td>1</td>\n",
       "      <td>0</td>\n",
       "      <td>0</td>\n",
       "      <td>0</td>\n",
       "      <td>0</td>\n",
       "      <td>0</td>\n",
       "      <td>0</td>\n",
       "      <td>0</td>\n",
       "      <td>0</td>\n",
       "      <td>...</td>\n",
       "      <td>0</td>\n",
       "      <td>0</td>\n",
       "      <td>-1.477653</td>\n",
       "      <td>-1.046017</td>\n",
       "      <td>-1.493696</td>\n",
       "      <td>1.091566</td>\n",
       "      <td>-1.334228</td>\n",
       "      <td>DRC01</td>\n",
       "      <td>OUT018</td>\n",
       "      <td>443.4228</td>\n",
       "    </tr>\n",
       "    <tr>\n",
       "      <th>2</th>\n",
       "      <td>1</td>\n",
       "      <td>0</td>\n",
       "      <td>0</td>\n",
       "      <td>0</td>\n",
       "      <td>0</td>\n",
       "      <td>0</td>\n",
       "      <td>0</td>\n",
       "      <td>0</td>\n",
       "      <td>0</td>\n",
       "      <td>0</td>\n",
       "      <td>...</td>\n",
       "      <td>0</td>\n",
       "      <td>0</td>\n",
       "      <td>1.011839</td>\n",
       "      <td>-1.097673</td>\n",
       "      <td>0.009874</td>\n",
       "      <td>-1.369286</td>\n",
       "      <td>-0.139681</td>\n",
       "      <td>FDN15</td>\n",
       "      <td>OUT049</td>\n",
       "      <td>2097.2700</td>\n",
       "    </tr>\n",
       "    <tr>\n",
       "      <th>3</th>\n",
       "      <td>0</td>\n",
       "      <td>1</td>\n",
       "      <td>0</td>\n",
       "      <td>0</td>\n",
       "      <td>0</td>\n",
       "      <td>0</td>\n",
       "      <td>0</td>\n",
       "      <td>0</td>\n",
       "      <td>1</td>\n",
       "      <td>0</td>\n",
       "      <td>...</td>\n",
       "      <td>0</td>\n",
       "      <td>0</td>\n",
       "      <td>1.377308</td>\n",
       "      <td>0.913882</td>\n",
       "      <td>0.661838</td>\n",
       "      <td>1.091566</td>\n",
       "      <td>-0.020226</td>\n",
       "      <td>FDX07</td>\n",
       "      <td>OUT010</td>\n",
       "      <td>732.3800</td>\n",
       "    </tr>\n",
       "    <tr>\n",
       "      <th>4</th>\n",
       "      <td>1</td>\n",
       "      <td>0</td>\n",
       "      <td>0</td>\n",
       "      <td>0</td>\n",
       "      <td>0</td>\n",
       "      <td>0</td>\n",
       "      <td>0</td>\n",
       "      <td>0</td>\n",
       "      <td>0</td>\n",
       "      <td>0</td>\n",
       "      <td>...</td>\n",
       "      <td>0</td>\n",
       "      <td>0</td>\n",
       "      <td>-0.830557</td>\n",
       "      <td>-0.256345</td>\n",
       "      <td>-1.403623</td>\n",
       "      <td>1.091566</td>\n",
       "      <td>1.293777</td>\n",
       "      <td>NCD19</td>\n",
       "      <td>OUT013</td>\n",
       "      <td>994.7052</td>\n",
       "    </tr>\n",
       "  </tbody>\n",
       "</table>\n",
       "<p>5 rows × 115 columns</p>\n",
       "</div>"
      ],
      "text/plain": [
       "   Item_Fat_Content_Low Fat  Item_Fat_Content_Regular  Item_Type_Baking Goods  \\\n",
       "0                         1                         0                       0   \n",
       "1                         0                         1                       0   \n",
       "2                         1                         0                       0   \n",
       "3                         0                         1                       0   \n",
       "4                         1                         0                       0   \n",
       "\n",
       "   Item_Type_Breads  Item_Type_Breakfast  Item_Type_Canned  Item_Type_Dairy  \\\n",
       "0                 0                    0                 0                1   \n",
       "1                 0                    0                 0                0   \n",
       "2                 0                    0                 0                0   \n",
       "3                 0                    0                 0                0   \n",
       "4                 0                    0                 0                0   \n",
       "\n",
       "   Item_Type_Frozen Foods  Item_Type_Fruits and Vegetables  \\\n",
       "0                       0                                0   \n",
       "1                       0                                0   \n",
       "2                       0                                0   \n",
       "3                       0                                1   \n",
       "4                       0                                0   \n",
       "\n",
       "   Item_Type_Hard Drinks  ...  Item_Identifier_group_NCY  \\\n",
       "0                      0  ...                          0   \n",
       "1                      0  ...                          0   \n",
       "2                      0  ...                          0   \n",
       "3                      0  ...                          0   \n",
       "4                      0  ...                          0   \n",
       "\n",
       "   Item_Identifier_group_NCZ  Item_Weight  Item_Visibility  Item_MRP  \\\n",
       "0                          0    -0.751014        -1.112295  1.752511   \n",
       "1                          0    -1.477653        -1.046017 -1.493696   \n",
       "2                          0     1.011839        -1.097673  0.009874   \n",
       "3                          0     1.377308         0.913882  0.661838   \n",
       "4                          0    -0.830557        -0.256345 -1.403623   \n",
       "\n",
       "   Outlet_Location_Type  Outlet_Age  Item_Identifier  Outlet_Identifier  \\\n",
       "0             -1.369286   -0.139681            FDA15             OUT049   \n",
       "1              1.091566   -1.334228            DRC01             OUT018   \n",
       "2             -1.369286   -0.139681            FDN15             OUT049   \n",
       "3              1.091566   -0.020226            FDX07             OUT010   \n",
       "4              1.091566    1.293777            NCD19             OUT013   \n",
       "\n",
       "   Item_Outlet_Sales  \n",
       "0          3735.1380  \n",
       "1           443.4228  \n",
       "2          2097.2700  \n",
       "3           732.3800  \n",
       "4           994.7052  \n",
       "\n",
       "[5 rows x 115 columns]"
      ]
     },
     "execution_count": 113,
     "metadata": {},
     "output_type": "execute_result"
    }
   ],
   "source": [
    "train_preprocessed.head()"
   ]
  },
  {
   "cell_type": "code",
   "execution_count": 114,
   "metadata": {
    "colab": {
     "base_uri": "https://localhost:8080/",
     "height": 271
    },
    "executionInfo": {
     "elapsed": 21,
     "status": "ok",
     "timestamp": 1626634079159,
     "user": {
      "displayName": "Mohamed Noordeen Alaudeen",
      "photoUrl": "",
      "userId": "13097854355562551879"
     },
     "user_tz": -330
    },
    "id": "lJ4vwGiV5mVt",
    "outputId": "0dd7f59b-1f38-4c68-d931-747c88ad4630"
   },
   "outputs": [
    {
     "data": {
      "text/html": [
       "<div>\n",
       "<style scoped>\n",
       "    .dataframe tbody tr th:only-of-type {\n",
       "        vertical-align: middle;\n",
       "    }\n",
       "\n",
       "    .dataframe tbody tr th {\n",
       "        vertical-align: top;\n",
       "    }\n",
       "\n",
       "    .dataframe thead th {\n",
       "        text-align: right;\n",
       "    }\n",
       "</style>\n",
       "<table border=\"1\" class=\"dataframe\">\n",
       "  <thead>\n",
       "    <tr style=\"text-align: right;\">\n",
       "      <th></th>\n",
       "      <th>Item_Fat_Content_Low Fat</th>\n",
       "      <th>Item_Fat_Content_Regular</th>\n",
       "      <th>Item_Type_Baking Goods</th>\n",
       "      <th>Item_Type_Breads</th>\n",
       "      <th>Item_Type_Breakfast</th>\n",
       "      <th>Item_Type_Canned</th>\n",
       "      <th>Item_Type_Dairy</th>\n",
       "      <th>Item_Type_Frozen Foods</th>\n",
       "      <th>Item_Type_Fruits and Vegetables</th>\n",
       "      <th>Item_Type_Hard Drinks</th>\n",
       "      <th>...</th>\n",
       "      <th>Item_Identifier_group_NCX</th>\n",
       "      <th>Item_Identifier_group_NCY</th>\n",
       "      <th>Item_Identifier_group_NCZ</th>\n",
       "      <th>Item_Weight</th>\n",
       "      <th>Item_Visibility</th>\n",
       "      <th>Item_MRP</th>\n",
       "      <th>Outlet_Location_Type</th>\n",
       "      <th>Outlet_Age</th>\n",
       "      <th>Item_Identifier</th>\n",
       "      <th>Outlet_Identifier</th>\n",
       "    </tr>\n",
       "  </thead>\n",
       "  <tbody>\n",
       "    <tr>\n",
       "      <th>8523</th>\n",
       "      <td>1</td>\n",
       "      <td>0</td>\n",
       "      <td>0</td>\n",
       "      <td>0</td>\n",
       "      <td>0</td>\n",
       "      <td>0</td>\n",
       "      <td>0</td>\n",
       "      <td>0</td>\n",
       "      <td>0</td>\n",
       "      <td>0</td>\n",
       "      <td>...</td>\n",
       "      <td>0</td>\n",
       "      <td>0</td>\n",
       "      <td>0</td>\n",
       "      <td>1.710530</td>\n",
       "      <td>-1.286299</td>\n",
       "      <td>-0.533831</td>\n",
       "      <td>-1.369286</td>\n",
       "      <td>-0.139681</td>\n",
       "      <td>FDW58</td>\n",
       "      <td>OUT049</td>\n",
       "    </tr>\n",
       "    <tr>\n",
       "      <th>8524</th>\n",
       "      <td>0</td>\n",
       "      <td>1</td>\n",
       "      <td>0</td>\n",
       "      <td>0</td>\n",
       "      <td>0</td>\n",
       "      <td>0</td>\n",
       "      <td>1</td>\n",
       "      <td>0</td>\n",
       "      <td>0</td>\n",
       "      <td>0</td>\n",
       "      <td>...</td>\n",
       "      <td>0</td>\n",
       "      <td>0</td>\n",
       "      <td>0</td>\n",
       "      <td>-0.965996</td>\n",
       "      <td>-0.653196</td>\n",
       "      <td>-0.864708</td>\n",
       "      <td>-0.138860</td>\n",
       "      <td>-1.095319</td>\n",
       "      <td>FDW14</td>\n",
       "      <td>OUT017</td>\n",
       "    </tr>\n",
       "    <tr>\n",
       "      <th>8525</th>\n",
       "      <td>1</td>\n",
       "      <td>0</td>\n",
       "      <td>0</td>\n",
       "      <td>0</td>\n",
       "      <td>0</td>\n",
       "      <td>0</td>\n",
       "      <td>0</td>\n",
       "      <td>0</td>\n",
       "      <td>0</td>\n",
       "      <td>0</td>\n",
       "      <td>...</td>\n",
       "      <td>0</td>\n",
       "      <td>0</td>\n",
       "      <td>0</td>\n",
       "      <td>0.388391</td>\n",
       "      <td>0.601144</td>\n",
       "      <td>1.622763</td>\n",
       "      <td>1.091566</td>\n",
       "      <td>-0.020226</td>\n",
       "      <td>NCN55</td>\n",
       "      <td>OUT010</td>\n",
       "    </tr>\n",
       "    <tr>\n",
       "      <th>8526</th>\n",
       "      <td>1</td>\n",
       "      <td>0</td>\n",
       "      <td>0</td>\n",
       "      <td>0</td>\n",
       "      <td>0</td>\n",
       "      <td>0</td>\n",
       "      <td>0</td>\n",
       "      <td>0</td>\n",
       "      <td>0</td>\n",
       "      <td>0</td>\n",
       "      <td>...</td>\n",
       "      <td>0</td>\n",
       "      <td>0</td>\n",
       "      <td>0</td>\n",
       "      <td>-1.177753</td>\n",
       "      <td>-1.125811</td>\n",
       "      <td>0.225966</td>\n",
       "      <td>-0.138860</td>\n",
       "      <td>-1.095319</td>\n",
       "      <td>FDQ58</td>\n",
       "      <td>OUT017</td>\n",
       "    </tr>\n",
       "    <tr>\n",
       "      <th>8527</th>\n",
       "      <td>0</td>\n",
       "      <td>1</td>\n",
       "      <td>0</td>\n",
       "      <td>0</td>\n",
       "      <td>0</td>\n",
       "      <td>0</td>\n",
       "      <td>1</td>\n",
       "      <td>0</td>\n",
       "      <td>0</td>\n",
       "      <td>0</td>\n",
       "      <td>...</td>\n",
       "      <td>0</td>\n",
       "      <td>0</td>\n",
       "      <td>0</td>\n",
       "      <td>0.173409</td>\n",
       "      <td>0.991400</td>\n",
       "      <td>1.501577</td>\n",
       "      <td>1.091566</td>\n",
       "      <td>1.532686</td>\n",
       "      <td>FDY38</td>\n",
       "      <td>OUT027</td>\n",
       "    </tr>\n",
       "  </tbody>\n",
       "</table>\n",
       "<p>5 rows × 114 columns</p>\n",
       "</div>"
      ],
      "text/plain": [
       "      Item_Fat_Content_Low Fat  Item_Fat_Content_Regular  \\\n",
       "8523                         1                         0   \n",
       "8524                         0                         1   \n",
       "8525                         1                         0   \n",
       "8526                         1                         0   \n",
       "8527                         0                         1   \n",
       "\n",
       "      Item_Type_Baking Goods  Item_Type_Breads  Item_Type_Breakfast  \\\n",
       "8523                       0                 0                    0   \n",
       "8524                       0                 0                    0   \n",
       "8525                       0                 0                    0   \n",
       "8526                       0                 0                    0   \n",
       "8527                       0                 0                    0   \n",
       "\n",
       "      Item_Type_Canned  Item_Type_Dairy  Item_Type_Frozen Foods  \\\n",
       "8523                 0                0                       0   \n",
       "8524                 0                1                       0   \n",
       "8525                 0                0                       0   \n",
       "8526                 0                0                       0   \n",
       "8527                 0                1                       0   \n",
       "\n",
       "      Item_Type_Fruits and Vegetables  Item_Type_Hard Drinks  ...  \\\n",
       "8523                                0                      0  ...   \n",
       "8524                                0                      0  ...   \n",
       "8525                                0                      0  ...   \n",
       "8526                                0                      0  ...   \n",
       "8527                                0                      0  ...   \n",
       "\n",
       "      Item_Identifier_group_NCX  Item_Identifier_group_NCY  \\\n",
       "8523                          0                          0   \n",
       "8524                          0                          0   \n",
       "8525                          0                          0   \n",
       "8526                          0                          0   \n",
       "8527                          0                          0   \n",
       "\n",
       "      Item_Identifier_group_NCZ  Item_Weight  Item_Visibility  Item_MRP  \\\n",
       "8523                          0     1.710530        -1.286299 -0.533831   \n",
       "8524                          0    -0.965996        -0.653196 -0.864708   \n",
       "8525                          0     0.388391         0.601144  1.622763   \n",
       "8526                          0    -1.177753        -1.125811  0.225966   \n",
       "8527                          0     0.173409         0.991400  1.501577   \n",
       "\n",
       "      Outlet_Location_Type  Outlet_Age  Item_Identifier  Outlet_Identifier  \n",
       "8523             -1.369286   -0.139681            FDW58             OUT049  \n",
       "8524             -0.138860   -1.095319            FDW14             OUT017  \n",
       "8525              1.091566   -0.020226            NCN55             OUT010  \n",
       "8526             -0.138860   -1.095319            FDQ58             OUT017  \n",
       "8527              1.091566    1.532686            FDY38             OUT027  \n",
       "\n",
       "[5 rows x 114 columns]"
      ]
     },
     "execution_count": 114,
     "metadata": {},
     "output_type": "execute_result"
    }
   ],
   "source": [
    "test_preprocessed.head()"
   ]
  },
  {
   "cell_type": "markdown",
   "metadata": {
    "id": "iDeDL0jl5mVt"
   },
   "source": [
    "# MODEL"
   ]
  },
  {
   "cell_type": "code",
   "execution_count": 115,
   "metadata": {
    "id": "H_rmABgr5mVt"
   },
   "outputs": [],
   "source": [
    "model = LinearRegression()"
   ]
  },
  {
   "cell_type": "code",
   "execution_count": 116,
   "metadata": {
    "id": "zWBOhojr5mVu"
   },
   "outputs": [],
   "source": [
    "X = train_preprocessed.drop(columns=[\"Item_Identifier\",\"Outlet_Identifier\",\"Item_Outlet_Sales\"])"
   ]
  },
  {
   "cell_type": "code",
   "execution_count": 117,
   "metadata": {
    "id": "OsGbjg9A5mVu"
   },
   "outputs": [],
   "source": [
    "y = train_preprocessed[\"Item_Outlet_Sales\"]"
   ]
  },
  {
   "cell_type": "code",
   "execution_count": null,
   "metadata": {},
   "outputs": [],
   "source": []
  },
  {
   "cell_type": "code",
   "execution_count": 118,
   "metadata": {
    "colab": {
     "base_uri": "https://localhost:8080/"
    },
    "executionInfo": {
     "elapsed": 19,
     "status": "ok",
     "timestamp": 1626634079160,
     "user": {
      "displayName": "Mohamed Noordeen Alaudeen",
      "photoUrl": "",
      "userId": "13097854355562551879"
     },
     "user_tz": -330
    },
    "id": "QmJ5I9OT5mVu",
    "outputId": "b15a374c-9b4b-4d18-d685-098d9f52ae97"
   },
   "outputs": [
    {
     "data": {
      "text/plain": [
       "LinearRegression()"
      ]
     },
     "execution_count": 118,
     "metadata": {},
     "output_type": "execute_result"
    }
   ],
   "source": [
    "model.fit(X,y)"
   ]
  },
  {
   "cell_type": "code",
   "execution_count": 119,
   "metadata": {
    "colab": {
     "base_uri": "https://localhost:8080/"
    },
    "executionInfo": {
     "elapsed": 515,
     "status": "ok",
     "timestamp": 1626634079661,
     "user": {
      "displayName": "Mohamed Noordeen Alaudeen",
      "photoUrl": "",
      "userId": "13097854355562551879"
     },
     "user_tz": -330
    },
    "id": "_7-azTV45mVu",
    "outputId": "5322e7ad-1703-491a-d482-5bf82e6f4bc2"
   },
   "outputs": [
    {
     "data": {
      "text/plain": [
       "1124.6829701429758"
      ]
     },
     "execution_count": 119,
     "metadata": {},
     "output_type": "execute_result"
    }
   ],
   "source": [
    "mean_squared_error(y, model.predict(X),squared=False)"
   ]
  },
  {
   "cell_type": "code",
   "execution_count": 120,
   "metadata": {
    "id": "pVDRkRXk5mVu"
   },
   "outputs": [],
   "source": [
    "X_test = test_preprocessed.drop(columns=[\"Item_Identifier\",\"Outlet_Identifier\"])"
   ]
  },
  {
   "cell_type": "code",
   "execution_count": 121,
   "metadata": {
    "id": "daURugji5mVu"
   },
   "outputs": [],
   "source": [
    "y_pred = model.predict(X_test)"
   ]
  },
  {
   "cell_type": "code",
   "execution_count": 151,
   "metadata": {},
   "outputs": [
    {
     "data": {
      "text/plain": [
       "0.0"
      ]
     },
     "execution_count": 151,
     "metadata": {},
     "output_type": "execute_result"
    }
   ],
   "source": [
    "mean_squared_error(y_pred, model.predict(X_test))"
   ]
  },
  {
   "cell_type": "code",
   "execution_count": 130,
   "metadata": {},
   "outputs": [
    {
     "data": {
      "text/plain": [
       "(5681, 112)"
      ]
     },
     "execution_count": 130,
     "metadata": {},
     "output_type": "execute_result"
    }
   ],
   "source": [
    "X_test.shape"
   ]
  },
  {
   "cell_type": "code",
   "execution_count": 132,
   "metadata": {},
   "outputs": [
    {
     "data": {
      "text/plain": [
       "(8523, 112)"
      ]
     },
     "execution_count": 132,
     "metadata": {},
     "output_type": "execute_result"
    }
   ],
   "source": [
    "X.shape"
   ]
  },
  {
   "cell_type": "code",
   "execution_count": 135,
   "metadata": {},
   "outputs": [
    {
     "data": {
      "text/plain": [
       "(8523,)"
      ]
     },
     "execution_count": 135,
     "metadata": {},
     "output_type": "execute_result"
    }
   ],
   "source": [
    "y.shape"
   ]
  },
  {
   "cell_type": "code",
   "execution_count": 122,
   "metadata": {
    "id": "g7f7nBEb5mVu"
   },
   "outputs": [],
   "source": [
    "submission[\"Item_Outlet_Sales\"] = y_pred"
   ]
  },
  {
   "cell_type": "code",
   "execution_count": 123,
   "metadata": {
    "colab": {
     "base_uri": "https://localhost:8080/",
     "height": 421
    },
    "executionInfo": {
     "elapsed": 11,
     "status": "ok",
     "timestamp": 1626634079667,
     "user": {
      "displayName": "Mohamed Noordeen Alaudeen",
      "photoUrl": "",
      "userId": "13097854355562551879"
     },
     "user_tz": -330
    },
    "id": "qrnvP6ba5mVv",
    "outputId": "a0da585d-2eb3-43d4-97f0-b7dee3973a7a"
   },
   "outputs": [
    {
     "data": {
      "text/html": [
       "<div>\n",
       "<style scoped>\n",
       "    .dataframe tbody tr th:only-of-type {\n",
       "        vertical-align: middle;\n",
       "    }\n",
       "\n",
       "    .dataframe tbody tr th {\n",
       "        vertical-align: top;\n",
       "    }\n",
       "\n",
       "    .dataframe thead th {\n",
       "        text-align: right;\n",
       "    }\n",
       "</style>\n",
       "<table border=\"1\" class=\"dataframe\">\n",
       "  <thead>\n",
       "    <tr style=\"text-align: right;\">\n",
       "      <th></th>\n",
       "      <th>Item_Identifier</th>\n",
       "      <th>Outlet_Identifier</th>\n",
       "      <th>Item_Outlet_Sales</th>\n",
       "    </tr>\n",
       "  </thead>\n",
       "  <tbody>\n",
       "    <tr>\n",
       "      <th>0</th>\n",
       "      <td>FDW58</td>\n",
       "      <td>OUT049</td>\n",
       "      <td>1784.0</td>\n",
       "    </tr>\n",
       "    <tr>\n",
       "      <th>1</th>\n",
       "      <td>FDW14</td>\n",
       "      <td>OUT017</td>\n",
       "      <td>1408.0</td>\n",
       "    </tr>\n",
       "    <tr>\n",
       "      <th>2</th>\n",
       "      <td>NCN55</td>\n",
       "      <td>OUT010</td>\n",
       "      <td>1856.0</td>\n",
       "    </tr>\n",
       "    <tr>\n",
       "      <th>3</th>\n",
       "      <td>FDQ58</td>\n",
       "      <td>OUT017</td>\n",
       "      <td>2640.0</td>\n",
       "    </tr>\n",
       "    <tr>\n",
       "      <th>4</th>\n",
       "      <td>FDY38</td>\n",
       "      <td>OUT027</td>\n",
       "      <td>5252.0</td>\n",
       "    </tr>\n",
       "    <tr>\n",
       "      <th>...</th>\n",
       "      <td>...</td>\n",
       "      <td>...</td>\n",
       "      <td>...</td>\n",
       "    </tr>\n",
       "    <tr>\n",
       "      <th>5676</th>\n",
       "      <td>FDB58</td>\n",
       "      <td>OUT046</td>\n",
       "      <td>2408.0</td>\n",
       "    </tr>\n",
       "    <tr>\n",
       "      <th>5677</th>\n",
       "      <td>FDD47</td>\n",
       "      <td>OUT018</td>\n",
       "      <td>2496.0</td>\n",
       "    </tr>\n",
       "    <tr>\n",
       "      <th>5678</th>\n",
       "      <td>NCO17</td>\n",
       "      <td>OUT045</td>\n",
       "      <td>1840.0</td>\n",
       "    </tr>\n",
       "    <tr>\n",
       "      <th>5679</th>\n",
       "      <td>FDJ26</td>\n",
       "      <td>OUT017</td>\n",
       "      <td>3480.0</td>\n",
       "    </tr>\n",
       "    <tr>\n",
       "      <th>5680</th>\n",
       "      <td>FDU37</td>\n",
       "      <td>OUT045</td>\n",
       "      <td>1276.0</td>\n",
       "    </tr>\n",
       "  </tbody>\n",
       "</table>\n",
       "<p>5681 rows × 3 columns</p>\n",
       "</div>"
      ],
      "text/plain": [
       "     Item_Identifier Outlet_Identifier  Item_Outlet_Sales\n",
       "0              FDW58            OUT049             1784.0\n",
       "1              FDW14            OUT017             1408.0\n",
       "2              NCN55            OUT010             1856.0\n",
       "3              FDQ58            OUT017             2640.0\n",
       "4              FDY38            OUT027             5252.0\n",
       "...              ...               ...                ...\n",
       "5676           FDB58            OUT046             2408.0\n",
       "5677           FDD47            OUT018             2496.0\n",
       "5678           NCO17            OUT045             1840.0\n",
       "5679           FDJ26            OUT017             3480.0\n",
       "5680           FDU37            OUT045             1276.0\n",
       "\n",
       "[5681 rows x 3 columns]"
      ]
     },
     "execution_count": 123,
     "metadata": {},
     "output_type": "execute_result"
    }
   ],
   "source": [
    "submission"
   ]
  },
  {
   "cell_type": "code",
   "execution_count": 124,
   "metadata": {
    "id": "t7xQw1PC5mVv"
   },
   "outputs": [],
   "source": [
    "submission['Item_Outlet_Sales'] = np.abs(submission['Item_Outlet_Sales'])"
   ]
  },
  {
   "cell_type": "code",
   "execution_count": 125,
   "metadata": {
    "id": "6XSsNLgC5mVv"
   },
   "outputs": [],
   "source": [
    "submission.to_csv(\"linear_regression_result.csv\", index = False)"
   ]
  },
  {
   "cell_type": "code",
   "execution_count": 126,
   "metadata": {
    "colab": {
     "base_uri": "https://localhost:8080/",
     "height": 481
    },
    "executionInfo": {
     "elapsed": 1279,
     "status": "ok",
     "timestamp": 1626634080938,
     "user": {
      "displayName": "Mohamed Noordeen Alaudeen",
      "photoUrl": "",
      "userId": "13097854355562551879"
     },
     "user_tz": -330
    },
    "id": "x1rV-TrA5mVv",
    "outputId": "73298468-bbee-4693-bd6b-87556de45b3c"
   },
   "outputs": [],
   "source": [
    "from sklearn.preprocessing import PolynomialFeatures"
   ]
  },
  {
   "cell_type": "code",
   "execution_count": 198,
   "metadata": {
    "id": "qM2lzMqF5mVv"
   },
   "outputs": [],
   "source": [
    "poly = PolynomialFeatures(degree = 10)"
   ]
  },
  {
   "cell_type": "code",
   "execution_count": 196,
   "metadata": {
    "id": "6fbB_Ezv5mVv"
   },
   "outputs": [
    {
     "ename": "KeyboardInterrupt",
     "evalue": "",
     "output_type": "error",
     "traceback": [
      "\u001b[1;31m---------------------------------------------------------------------------\u001b[0m",
      "\u001b[1;31mKeyboardInterrupt\u001b[0m                         Traceback (most recent call last)",
      "\u001b[1;32m<ipython-input-196-985352654455>\u001b[0m in \u001b[0;36m<module>\u001b[1;34m\u001b[0m\n\u001b[1;32m----> 1\u001b[1;33m \u001b[0mX_poly\u001b[0m \u001b[1;33m=\u001b[0m \u001b[0mpoly\u001b[0m\u001b[1;33m.\u001b[0m\u001b[0mfit_transform\u001b[0m\u001b[1;33m(\u001b[0m\u001b[0mX\u001b[0m\u001b[1;33m)\u001b[0m\u001b[1;33m\u001b[0m\u001b[1;33m\u001b[0m\u001b[0m\n\u001b[0m",
      "\u001b[1;32m~\\anaconda3\\lib\\site-packages\\sklearn\\base.py\u001b[0m in \u001b[0;36mfit_transform\u001b[1;34m(self, X, y, **fit_params)\u001b[0m\n\u001b[0;32m    688\u001b[0m         \u001b[1;32mif\u001b[0m \u001b[0my\u001b[0m \u001b[1;32mis\u001b[0m \u001b[1;32mNone\u001b[0m\u001b[1;33m:\u001b[0m\u001b[1;33m\u001b[0m\u001b[1;33m\u001b[0m\u001b[0m\n\u001b[0;32m    689\u001b[0m             \u001b[1;31m# fit method of arity 1 (unsupervised transformation)\u001b[0m\u001b[1;33m\u001b[0m\u001b[1;33m\u001b[0m\u001b[1;33m\u001b[0m\u001b[0m\n\u001b[1;32m--> 690\u001b[1;33m             \u001b[1;32mreturn\u001b[0m \u001b[0mself\u001b[0m\u001b[1;33m.\u001b[0m\u001b[0mfit\u001b[0m\u001b[1;33m(\u001b[0m\u001b[0mX\u001b[0m\u001b[1;33m,\u001b[0m \u001b[1;33m**\u001b[0m\u001b[0mfit_params\u001b[0m\u001b[1;33m)\u001b[0m\u001b[1;33m.\u001b[0m\u001b[0mtransform\u001b[0m\u001b[1;33m(\u001b[0m\u001b[0mX\u001b[0m\u001b[1;33m)\u001b[0m\u001b[1;33m\u001b[0m\u001b[1;33m\u001b[0m\u001b[0m\n\u001b[0m\u001b[0;32m    691\u001b[0m         \u001b[1;32melse\u001b[0m\u001b[1;33m:\u001b[0m\u001b[1;33m\u001b[0m\u001b[1;33m\u001b[0m\u001b[0m\n\u001b[0;32m    692\u001b[0m             \u001b[1;31m# fit method of arity 2 (supervised transformation)\u001b[0m\u001b[1;33m\u001b[0m\u001b[1;33m\u001b[0m\u001b[1;33m\u001b[0m\u001b[0m\n",
      "\u001b[1;32m~\\anaconda3\\lib\\site-packages\\sklearn\\preprocessing\\_data.py\u001b[0m in \u001b[0;36mfit\u001b[1;34m(self, X, y)\u001b[0m\n\u001b[0;32m   1516\u001b[0m                                           self.include_bias)\n\u001b[0;32m   1517\u001b[0m         \u001b[0mself\u001b[0m\u001b[1;33m.\u001b[0m\u001b[0mn_input_features_\u001b[0m \u001b[1;33m=\u001b[0m \u001b[0mn_features\u001b[0m\u001b[1;33m\u001b[0m\u001b[1;33m\u001b[0m\u001b[0m\n\u001b[1;32m-> 1518\u001b[1;33m         \u001b[0mself\u001b[0m\u001b[1;33m.\u001b[0m\u001b[0mn_output_features_\u001b[0m \u001b[1;33m=\u001b[0m \u001b[0msum\u001b[0m\u001b[1;33m(\u001b[0m\u001b[1;36m1\u001b[0m \u001b[1;32mfor\u001b[0m \u001b[0m_\u001b[0m \u001b[1;32min\u001b[0m \u001b[0mcombinations\u001b[0m\u001b[1;33m)\u001b[0m\u001b[1;33m\u001b[0m\u001b[1;33m\u001b[0m\u001b[0m\n\u001b[0m\u001b[0;32m   1519\u001b[0m         \u001b[1;32mreturn\u001b[0m \u001b[0mself\u001b[0m\u001b[1;33m\u001b[0m\u001b[1;33m\u001b[0m\u001b[0m\n\u001b[0;32m   1520\u001b[0m \u001b[1;33m\u001b[0m\u001b[0m\n",
      "\u001b[1;32m~\\anaconda3\\lib\\site-packages\\sklearn\\preprocessing\\_data.py\u001b[0m in \u001b[0;36m<genexpr>\u001b[1;34m(.0)\u001b[0m\n\u001b[0;32m   1516\u001b[0m                                           self.include_bias)\n\u001b[0;32m   1517\u001b[0m         \u001b[0mself\u001b[0m\u001b[1;33m.\u001b[0m\u001b[0mn_input_features_\u001b[0m \u001b[1;33m=\u001b[0m \u001b[0mn_features\u001b[0m\u001b[1;33m\u001b[0m\u001b[1;33m\u001b[0m\u001b[0m\n\u001b[1;32m-> 1518\u001b[1;33m         \u001b[0mself\u001b[0m\u001b[1;33m.\u001b[0m\u001b[0mn_output_features_\u001b[0m \u001b[1;33m=\u001b[0m \u001b[0msum\u001b[0m\u001b[1;33m(\u001b[0m\u001b[1;36m1\u001b[0m \u001b[1;32mfor\u001b[0m \u001b[0m_\u001b[0m \u001b[1;32min\u001b[0m \u001b[0mcombinations\u001b[0m\u001b[1;33m)\u001b[0m\u001b[1;33m\u001b[0m\u001b[1;33m\u001b[0m\u001b[0m\n\u001b[0m\u001b[0;32m   1519\u001b[0m         \u001b[1;32mreturn\u001b[0m \u001b[0mself\u001b[0m\u001b[1;33m\u001b[0m\u001b[1;33m\u001b[0m\u001b[0m\n\u001b[0;32m   1520\u001b[0m \u001b[1;33m\u001b[0m\u001b[0m\n",
      "\u001b[1;31mKeyboardInterrupt\u001b[0m: "
     ]
    }
   ],
   "source": [
    "X_poly = poly.fit_transform(X)"
   ]
  },
  {
   "cell_type": "code",
   "execution_count": null,
   "metadata": {},
   "outputs": [],
   "source": []
  },
  {
   "cell_type": "code",
   "execution_count": null,
   "metadata": {},
   "outputs": [],
   "source": []
  },
  {
   "cell_type": "code",
   "execution_count": null,
   "metadata": {},
   "outputs": [],
   "source": []
  },
  {
   "cell_type": "code",
   "execution_count": null,
   "metadata": {},
   "outputs": [],
   "source": []
  },
  {
   "cell_type": "code",
   "execution_count": 199,
   "metadata": {
    "id": "9Y24UDLa5mVv"
   },
   "outputs": [
    {
     "data": {
      "text/plain": [
       "Ridge(alpha=100000)"
      ]
     },
     "execution_count": 199,
     "metadata": {},
     "output_type": "execute_result"
    }
   ],
   "source": [
    "model_ridge = Ridge(alpha=100000)\n",
    "model_ridge.fit(X,y)"
   ]
  },
  {
   "cell_type": "code",
   "execution_count": 165,
   "metadata": {},
   "outputs": [
    {
     "data": {
      "text/plain": [
       "[<matplotlib.lines.Line2D at 0x21261d44e80>,\n",
       " <matplotlib.lines.Line2D at 0x21261d44f40>,\n",
       " <matplotlib.lines.Line2D at 0x21261d50040>,\n",
       " <matplotlib.lines.Line2D at 0x21261d50100>,\n",
       " <matplotlib.lines.Line2D at 0x21261d501c0>,\n",
       " <matplotlib.lines.Line2D at 0x21261d50280>,\n",
       " <matplotlib.lines.Line2D at 0x21261d50340>,\n",
       " <matplotlib.lines.Line2D at 0x21261d50400>,\n",
       " <matplotlib.lines.Line2D at 0x21261d504c0>,\n",
       " <matplotlib.lines.Line2D at 0x21261d50580>,\n",
       " <matplotlib.lines.Line2D at 0x21261d23c40>,\n",
       " <matplotlib.lines.Line2D at 0x21261d506d0>,\n",
       " <matplotlib.lines.Line2D at 0x21261d50790>,\n",
       " <matplotlib.lines.Line2D at 0x21261d50850>,\n",
       " <matplotlib.lines.Line2D at 0x21261d50910>,\n",
       " <matplotlib.lines.Line2D at 0x21261d509d0>,\n",
       " <matplotlib.lines.Line2D at 0x21261d50a90>,\n",
       " <matplotlib.lines.Line2D at 0x21261d50b50>,\n",
       " <matplotlib.lines.Line2D at 0x21261d50c10>,\n",
       " <matplotlib.lines.Line2D at 0x21261d50cd0>,\n",
       " <matplotlib.lines.Line2D at 0x21261d50d90>,\n",
       " <matplotlib.lines.Line2D at 0x21261d50e50>,\n",
       " <matplotlib.lines.Line2D at 0x21261d50f10>,\n",
       " <matplotlib.lines.Line2D at 0x21261d50fd0>,\n",
       " <matplotlib.lines.Line2D at 0x21261d570d0>,\n",
       " <matplotlib.lines.Line2D at 0x21261d57190>,\n",
       " <matplotlib.lines.Line2D at 0x21261d57250>,\n",
       " <matplotlib.lines.Line2D at 0x21261d57310>,\n",
       " <matplotlib.lines.Line2D at 0x21261d573d0>,\n",
       " <matplotlib.lines.Line2D at 0x21261d57490>,\n",
       " <matplotlib.lines.Line2D at 0x21261d57550>,\n",
       " <matplotlib.lines.Line2D at 0x21261d57610>,\n",
       " <matplotlib.lines.Line2D at 0x21261d576d0>,\n",
       " <matplotlib.lines.Line2D at 0x21261d57790>,\n",
       " <matplotlib.lines.Line2D at 0x21261d57850>,\n",
       " <matplotlib.lines.Line2D at 0x21261d57910>,\n",
       " <matplotlib.lines.Line2D at 0x21261d579d0>,\n",
       " <matplotlib.lines.Line2D at 0x21261d57a90>,\n",
       " <matplotlib.lines.Line2D at 0x21261d57b50>,\n",
       " <matplotlib.lines.Line2D at 0x21261d57c10>,\n",
       " <matplotlib.lines.Line2D at 0x21261d57cd0>,\n",
       " <matplotlib.lines.Line2D at 0x21261d57d90>,\n",
       " <matplotlib.lines.Line2D at 0x21261d57e50>,\n",
       " <matplotlib.lines.Line2D at 0x21261d57f10>,\n",
       " <matplotlib.lines.Line2D at 0x21261d57fd0>,\n",
       " <matplotlib.lines.Line2D at 0x21261d5d0d0>,\n",
       " <matplotlib.lines.Line2D at 0x21261d5d190>,\n",
       " <matplotlib.lines.Line2D at 0x21261d5d250>,\n",
       " <matplotlib.lines.Line2D at 0x21261d5d310>,\n",
       " <matplotlib.lines.Line2D at 0x21261d5d3d0>,\n",
       " <matplotlib.lines.Line2D at 0x21261d5d490>,\n",
       " <matplotlib.lines.Line2D at 0x21261d5d550>,\n",
       " <matplotlib.lines.Line2D at 0x21261d5d610>,\n",
       " <matplotlib.lines.Line2D at 0x21261d5d6d0>,\n",
       " <matplotlib.lines.Line2D at 0x21261d5d790>,\n",
       " <matplotlib.lines.Line2D at 0x21261d5d850>,\n",
       " <matplotlib.lines.Line2D at 0x21261d5d910>,\n",
       " <matplotlib.lines.Line2D at 0x21261d5d9d0>,\n",
       " <matplotlib.lines.Line2D at 0x21261d5da90>,\n",
       " <matplotlib.lines.Line2D at 0x21261d5db50>,\n",
       " <matplotlib.lines.Line2D at 0x21261d5dc10>,\n",
       " <matplotlib.lines.Line2D at 0x21261d5dcd0>,\n",
       " <matplotlib.lines.Line2D at 0x21261d5dd90>,\n",
       " <matplotlib.lines.Line2D at 0x21261d5de50>,\n",
       " <matplotlib.lines.Line2D at 0x21261d5df10>,\n",
       " <matplotlib.lines.Line2D at 0x21261d5dfd0>,\n",
       " <matplotlib.lines.Line2D at 0x21261d630d0>,\n",
       " <matplotlib.lines.Line2D at 0x21261d63190>,\n",
       " <matplotlib.lines.Line2D at 0x21261d63250>,\n",
       " <matplotlib.lines.Line2D at 0x21261d63310>,\n",
       " <matplotlib.lines.Line2D at 0x21261d633d0>,\n",
       " <matplotlib.lines.Line2D at 0x21261d63490>,\n",
       " <matplotlib.lines.Line2D at 0x21261d63550>,\n",
       " <matplotlib.lines.Line2D at 0x21261d63610>,\n",
       " <matplotlib.lines.Line2D at 0x21261d636d0>,\n",
       " <matplotlib.lines.Line2D at 0x21261d63790>,\n",
       " <matplotlib.lines.Line2D at 0x21261d63850>,\n",
       " <matplotlib.lines.Line2D at 0x21261d63910>,\n",
       " <matplotlib.lines.Line2D at 0x21261d639d0>,\n",
       " <matplotlib.lines.Line2D at 0x21261d63a90>,\n",
       " <matplotlib.lines.Line2D at 0x21261d63b50>,\n",
       " <matplotlib.lines.Line2D at 0x21261d63c10>,\n",
       " <matplotlib.lines.Line2D at 0x21261d63cd0>,\n",
       " <matplotlib.lines.Line2D at 0x21261d63d90>,\n",
       " <matplotlib.lines.Line2D at 0x21261d63e50>,\n",
       " <matplotlib.lines.Line2D at 0x21261d63f10>,\n",
       " <matplotlib.lines.Line2D at 0x21261d63fd0>,\n",
       " <matplotlib.lines.Line2D at 0x21261d6a0d0>,\n",
       " <matplotlib.lines.Line2D at 0x21261d6a190>,\n",
       " <matplotlib.lines.Line2D at 0x21261d6a250>,\n",
       " <matplotlib.lines.Line2D at 0x21261d6a310>,\n",
       " <matplotlib.lines.Line2D at 0x21261d6a3d0>,\n",
       " <matplotlib.lines.Line2D at 0x21261d6a490>,\n",
       " <matplotlib.lines.Line2D at 0x21261d6a550>,\n",
       " <matplotlib.lines.Line2D at 0x21261d6a610>,\n",
       " <matplotlib.lines.Line2D at 0x21261d6a6d0>,\n",
       " <matplotlib.lines.Line2D at 0x21261d6a790>,\n",
       " <matplotlib.lines.Line2D at 0x21261d6a850>,\n",
       " <matplotlib.lines.Line2D at 0x21261d6a910>,\n",
       " <matplotlib.lines.Line2D at 0x21261d6a9d0>,\n",
       " <matplotlib.lines.Line2D at 0x21261d6aa90>,\n",
       " <matplotlib.lines.Line2D at 0x21261d6ab50>,\n",
       " <matplotlib.lines.Line2D at 0x21261d6ac10>,\n",
       " <matplotlib.lines.Line2D at 0x21261d6acd0>,\n",
       " <matplotlib.lines.Line2D at 0x21261d6ad90>,\n",
       " <matplotlib.lines.Line2D at 0x21261d6ae50>,\n",
       " <matplotlib.lines.Line2D at 0x21261d6af10>,\n",
       " <matplotlib.lines.Line2D at 0x21261d6afd0>,\n",
       " <matplotlib.lines.Line2D at 0x21261d700d0>,\n",
       " <matplotlib.lines.Line2D at 0x21261d70190>,\n",
       " <matplotlib.lines.Line2D at 0x21261d70250>,\n",
       " <matplotlib.lines.Line2D at 0x21261d70310>]"
      ]
     },
     "execution_count": 165,
     "metadata": {},
     "output_type": "execute_result"
    },
    {
     "data": {
      "image/png": "[encoded data removed]",
      "text/plain": [
       "<Figure size 432x288 with 1 Axes>"
      ]
     },
     "metadata": {
      "needs_background": "light"
     },
     "output_type": "display_data"
    }
   ],
   "source": [
    "plt.plot(X, model_ridge.predict(X))"
   ]
  },
  {
   "cell_type": "code",
   "execution_count": 166,
   "metadata": {},
   "outputs": [
    {
     "name": "stdout",
     "output_type": "stream",
     "text": [
      "Train MSE :  2725477.2056487785\n"
     ]
    }
   ],
   "source": [
    "print(\"Train MSE : \",mean_squared_error(y, model_ridge.predict(X)))"
   ]
  },
  {
   "cell_type": "code",
   "execution_count": 167,
   "metadata": {},
   "outputs": [
    {
     "name": "stdout",
     "output_type": "stream",
     "text": [
      "Test MSE :  1479384.6147590093\n"
     ]
    }
   ],
   "source": [
    "print(\"Test MSE : \", mean_squared_error(y_pred, model_ridge.predict(X_test)))"
   ]
  },
  {
   "cell_type": "code",
   "execution_count": 168,
   "metadata": {},
   "outputs": [
    {
     "data": {
      "text/plain": [
       "-1246092.5908897691"
      ]
     },
     "execution_count": 168,
     "metadata": {},
     "output_type": "execute_result"
    }
   ],
   "source": [
    "mean_squared_error(y_pred, model_ridge.predict(X_test)) - mean_squared_error(y, model_ridge.predict(X))"
   ]
  },
  {
   "cell_type": "code",
   "execution_count": 169,
   "metadata": {},
   "outputs": [
    {
     "data": {
      "text/plain": [
       "array([-4.53682054e+10, -4.53682053e+10, -3.10531429e+15, -3.10531429e+15,\n",
       "       -3.10531429e+15, -3.10531429e+15, -3.10531429e+15, -3.10531429e+15,\n",
       "       -3.10531429e+15, -3.10531429e+15, -2.83601703e+15, -2.83601703e+15,\n",
       "       -3.10531429e+15, -2.83601703e+15, -3.10531429e+15, -3.10531429e+15,\n",
       "       -3.10531429e+15, -3.10531429e+15,  1.48260168e+15, -7.08554313e+14,\n",
       "       -4.25350661e+14, -2.55400257e+16, -1.05391547e+16, -6.63382079e+15,\n",
       "       -1.06827836e+16, -9.06924287e+14, -1.17575748e+16,  1.34796249e+16,\n",
       "        5.01673565e+15, -8.81684308e+15,  1.62277272e+16,  6.25923841e+15,\n",
       "       -3.07886114e+16, -2.84144146e+16,  1.23695594e+16, -8.84819885e+15,\n",
       "       -1.83181326e+13, -1.83181326e+13, -1.83181326e+13, -1.83181326e+13,\n",
       "       -1.83181326e+13, -1.83181326e+13, -1.83181326e+13, -1.83181326e+13,\n",
       "       -1.83181326e+13, -1.83181326e+13, -1.83181326e+13, -1.83181326e+13,\n",
       "       -1.83181326e+13, -1.83181326e+13, -1.83181326e+13, -1.83181326e+13,\n",
       "       -1.83181326e+13, -1.83181326e+13, -1.83181326e+13, -1.83181326e+13,\n",
       "       -1.83181326e+13, -1.83181326e+13, -1.83181326e+13, -1.83181326e+13,\n",
       "       -1.83181326e+13, -1.83181326e+13, -1.83181326e+13, -1.83181326e+13,\n",
       "       -1.83181326e+13, -1.83181326e+13, -1.83181326e+13, -1.83181326e+13,\n",
       "       -1.83181326e+13, -1.83181326e+13, -1.83181326e+13, -1.83181326e+13,\n",
       "       -1.83181326e+13, -1.83181326e+13, -1.83181326e+13, -1.83181326e+13,\n",
       "       -1.83181326e+13, -1.83181326e+13, -1.83181326e+13, -1.83181326e+13,\n",
       "       -1.83181326e+13, -2.87615390e+14, -2.87615390e+14, -2.87615390e+14,\n",
       "       -2.87615390e+14, -2.87615390e+14, -2.87615390e+14, -2.87615390e+14,\n",
       "       -2.87615390e+14, -2.87615390e+14, -2.87615390e+14, -2.87615390e+14,\n",
       "       -2.87615390e+14, -2.87615390e+14, -2.87615390e+14, -2.87615390e+14,\n",
       "       -2.87615390e+14, -2.87615390e+14, -2.87615390e+14, -2.87615390e+14,\n",
       "       -2.87615390e+14, -2.87615390e+14, -2.87615390e+14, -2.87615390e+14,\n",
       "       -2.87615390e+14, -2.87615390e+14, -2.87615390e+14,  2.75000000e+00,\n",
       "       -1.15000000e+01,  9.67750000e+02, -3.25568636e+14,  8.06286121e+14])"
      ]
     },
     "execution_count": 169,
     "metadata": {},
     "output_type": "execute_result"
    }
   ],
   "source": [
    "model.coef_"
   ]
  },
  {
   "cell_type": "code",
   "execution_count": 170,
   "metadata": {},
   "outputs": [
    {
     "data": {
      "text/plain": [
       "array([-1.26957385e+00,  1.26957385e+00, -1.34220758e+00,  5.80220839e-02,\n",
       "       -6.89383593e-02,  2.94627062e-01,  3.05391793e-01, -3.83588211e-01,\n",
       "        1.26052992e+00, -7.78047771e-02, -8.41124258e-01,  5.94895265e-01,\n",
       "       -9.96957431e-02, -4.10848818e-01,  9.56051529e-02,  1.05934194e+00,\n",
       "       -7.16871165e-01,  2.72665695e-01, -9.97650216e+00,  8.35068575e-01,\n",
       "        1.59496788e+00, -1.82875715e+00, -9.38121052e+00,  1.35893289e+01,\n",
       "        2.42090763e+00,  1.79841656e-01,  1.03058278e+00,  1.53577239e+00,\n",
       "        8.35068575e-01,  1.32963442e+01, -5.92972012e+00, -8.20169262e+00,\n",
       "       -1.93577127e+01,  7.59714091e+00, -1.82875715e+00,  1.35893289e+01,\n",
       "        1.43056014e-02, -1.10365927e-01, -6.16241833e-02, -2.39215257e-01,\n",
       "       -8.52407706e-02, -6.06587734e-02, -1.33720810e-03, -6.22210835e-01,\n",
       "       -9.59785639e-04,  6.30809574e-02, -7.99718030e-02, -1.99758073e-01,\n",
       "        2.18981163e-01, -1.29064110e-01, -6.22659270e-02,  6.11572647e-02,\n",
       "        2.96372205e-02, -9.18991803e-02, -1.04630573e-03,  3.96691075e-01,\n",
       "        5.21553036e-01, -2.29461704e-01,  3.53429582e-01, -3.57848087e-01,\n",
       "        7.45463538e-01, -2.29840590e-01, -7.46686871e-01,  8.59588398e-01,\n",
       "        1.77172544e-01,  5.35473130e-01, -4.08668444e-01, -2.04829596e-01,\n",
       "        3.70173318e-01, -1.37883447e-01, -7.28761454e-02, -5.44036051e-02,\n",
       "        5.80441807e-01, -2.33623474e-01, -6.07717190e-02, -1.89109859e-02,\n",
       "       -1.56349468e-01, -5.33187246e-01,  2.44152788e-01,  5.26745262e-01,\n",
       "        1.49990646e-01, -1.42741752e-01,  5.78269680e-02,  1.24112083e-01,\n",
       "       -2.68181757e-01, -2.90174391e-02, -1.47045384e-01,  2.69660002e-02,\n",
       "        3.87406666e-03, -1.81462205e-01,  2.75297892e-03, -1.13725937e-01,\n",
       "        1.35277837e-01, -1.61809801e-01, -2.93085081e-01, -2.62984455e-01,\n",
       "       -3.12746059e-01,  3.38199691e-01, -3.48078803e-02,  1.78054001e-01,\n",
       "       -2.93956175e-02,  1.85367480e-01, -1.04135899e-02,  1.18330557e-01,\n",
       "        8.46618677e-02, -1.39888168e-01,  2.14803783e-01,  1.58079377e+00,\n",
       "       -1.84898512e+01,  7.62373860e+01,  1.16078303e+01,  6.43895977e+00])"
      ]
     },
     "execution_count": 170,
     "metadata": {},
     "output_type": "execute_result"
    }
   ],
   "source": [
    "model_ridge.coef_"
   ]
  },
  {
   "cell_type": "code",
   "execution_count": 181,
   "metadata": {},
   "outputs": [
    {
     "data": {
      "text/plain": [
       "Lasso(alpha=10000)"
      ]
     },
     "execution_count": 181,
     "metadata": {},
     "output_type": "execute_result"
    }
   ],
   "source": [
    "model_lasso = Lasso(10000)\n",
    "model_lasso.fit(X,y)"
   ]
  },
  {
   "cell_type": "code",
   "execution_count": 182,
   "metadata": {},
   "outputs": [
    {
     "name": "stdout",
     "output_type": "stream",
     "text": [
      "Train MSE :  2911799.2582300375\n"
     ]
    }
   ],
   "source": [
    "print(\"Train MSE : \",mean_squared_error(y, model_lasso.predict(X)))"
   ]
  },
  {
   "cell_type": "code",
   "execution_count": 183,
   "metadata": {},
   "outputs": [
    {
     "name": "stdout",
     "output_type": "stream",
     "text": [
      "Test MSE :  1665137.8964115023\n"
     ]
    }
   ],
   "source": [
    "print(\"Test MSE : \", mean_squared_error(y_pred, model_lasso.predict(X_test)))"
   ]
  },
  {
   "cell_type": "code",
   "execution_count": 184,
   "metadata": {},
   "outputs": [
    {
     "data": {
      "text/plain": [
       "-1246661.3618185353"
      ]
     },
     "execution_count": 184,
     "metadata": {},
     "output_type": "execute_result"
    }
   ],
   "source": [
    "mean_squared_error(y_pred, model_lasso.predict(X_test)) - mean_squared_error(y, model_lasso.predict(X))"
   ]
  },
  {
   "cell_type": "code",
   "execution_count": 175,
   "metadata": {},
   "outputs": [
    {
     "data": {
      "text/plain": [
       "array([-4.53682054e+10, -4.53682053e+10, -3.10531429e+15, -3.10531429e+15,\n",
       "       -3.10531429e+15, -3.10531429e+15, -3.10531429e+15, -3.10531429e+15,\n",
       "       -3.10531429e+15, -3.10531429e+15, -2.83601703e+15, -2.83601703e+15,\n",
       "       -3.10531429e+15, -2.83601703e+15, -3.10531429e+15, -3.10531429e+15,\n",
       "       -3.10531429e+15, -3.10531429e+15,  1.48260168e+15, -7.08554313e+14,\n",
       "       -4.25350661e+14, -2.55400257e+16, -1.05391547e+16, -6.63382079e+15,\n",
       "       -1.06827836e+16, -9.06924287e+14, -1.17575748e+16,  1.34796249e+16,\n",
       "        5.01673565e+15, -8.81684308e+15,  1.62277272e+16,  6.25923841e+15,\n",
       "       -3.07886114e+16, -2.84144146e+16,  1.23695594e+16, -8.84819885e+15,\n",
       "       -1.83181326e+13, -1.83181326e+13, -1.83181326e+13, -1.83181326e+13,\n",
       "       -1.83181326e+13, -1.83181326e+13, -1.83181326e+13, -1.83181326e+13,\n",
       "       -1.83181326e+13, -1.83181326e+13, -1.83181326e+13, -1.83181326e+13,\n",
       "       -1.83181326e+13, -1.83181326e+13, -1.83181326e+13, -1.83181326e+13,\n",
       "       -1.83181326e+13, -1.83181326e+13, -1.83181326e+13, -1.83181326e+13,\n",
       "       -1.83181326e+13, -1.83181326e+13, -1.83181326e+13, -1.83181326e+13,\n",
       "       -1.83181326e+13, -1.83181326e+13, -1.83181326e+13, -1.83181326e+13,\n",
       "       -1.83181326e+13, -1.83181326e+13, -1.83181326e+13, -1.83181326e+13,\n",
       "       -1.83181326e+13, -1.83181326e+13, -1.83181326e+13, -1.83181326e+13,\n",
       "       -1.83181326e+13, -1.83181326e+13, -1.83181326e+13, -1.83181326e+13,\n",
       "       -1.83181326e+13, -1.83181326e+13, -1.83181326e+13, -1.83181326e+13,\n",
       "       -1.83181326e+13, -2.87615390e+14, -2.87615390e+14, -2.87615390e+14,\n",
       "       -2.87615390e+14, -2.87615390e+14, -2.87615390e+14, -2.87615390e+14,\n",
       "       -2.87615390e+14, -2.87615390e+14, -2.87615390e+14, -2.87615390e+14,\n",
       "       -2.87615390e+14, -2.87615390e+14, -2.87615390e+14, -2.87615390e+14,\n",
       "       -2.87615390e+14, -2.87615390e+14, -2.87615390e+14, -2.87615390e+14,\n",
       "       -2.87615390e+14, -2.87615390e+14, -2.87615390e+14, -2.87615390e+14,\n",
       "       -2.87615390e+14, -2.87615390e+14, -2.87615390e+14,  2.75000000e+00,\n",
       "       -1.15000000e+01,  9.67750000e+02, -3.25568636e+14,  8.06286121e+14])"
      ]
     },
     "execution_count": 175,
     "metadata": {},
     "output_type": "execute_result"
    }
   ],
   "source": [
    "model.coef_"
   ]
  },
  {
   "cell_type": "code",
   "execution_count": 176,
   "metadata": {},
   "outputs": [
    {
     "data": {
      "text/plain": [
       "array([-3.81775803e+01,  3.55233810e-14,  0.00000000e+00,  0.00000000e+00,\n",
       "        0.00000000e+00,  1.60485139e+01, -2.81603096e+01, -1.66052054e+01,\n",
       "        2.63842932e+01,  0.00000000e+00,  0.00000000e+00, -9.54651807e+00,\n",
       "        0.00000000e+00, -0.00000000e+00,  5.07290686e+01, -0.00000000e+00,\n",
       "       -0.00000000e+00,  0.00000000e+00, -0.00000000e+00,  0.00000000e+00,\n",
       "        8.03854936e+01, -1.66708156e+02, -0.00000000e+00,  1.51722361e+03,\n",
       "        1.18869838e+02, -7.84829920e+01, -1.30560122e+01,  0.00000000e+00,\n",
       "        0.00000000e+00,  6.66675682e+01, -0.00000000e+00, -0.00000000e+00,\n",
       "       -1.74170351e+03,  1.77332895e+02, -2.37548394e+00,  1.75255705e+00,\n",
       "       -0.00000000e+00, -0.00000000e+00, -1.80281540e+01, -0.00000000e+00,\n",
       "       -0.00000000e+00,  0.00000000e+00,  0.00000000e+00, -0.00000000e+00,\n",
       "        2.11919170e+01, -0.00000000e+00,  0.00000000e+00, -0.00000000e+00,\n",
       "        5.74422972e+01, -0.00000000e+00,  0.00000000e+00,  0.00000000e+00,\n",
       "        0.00000000e+00, -0.00000000e+00, -0.00000000e+00, -0.00000000e+00,\n",
       "        1.96234249e+01,  0.00000000e+00,  0.00000000e+00,  8.63447810e+01,\n",
       "       -0.00000000e+00, -0.00000000e+00, -2.90138359e+01,  9.46559949e+01,\n",
       "       -0.00000000e+00,  1.17951736e+01, -3.77500099e+01, -3.11740265e+01,\n",
       "       -1.70220689e+01, -7.94828492e+00, -0.00000000e+00,  2.75626491e+01,\n",
       "        1.27635003e+01,  0.00000000e+00, -6.70362070e+01,  4.57160378e+00,\n",
       "        8.59940721e+00, -2.98718948e+01,  0.00000000e+00,  1.07943619e+02,\n",
       "        4.65457725e+01, -0.00000000e+00, -0.00000000e+00, -0.00000000e+00,\n",
       "       -0.00000000e+00,  0.00000000e+00, -0.00000000e+00, -0.00000000e+00,\n",
       "       -1.29948041e+02, -1.16754859e+02, -0.00000000e+00,  0.00000000e+00,\n",
       "        7.49310113e+00,  0.00000000e+00,  0.00000000e+00,  0.00000000e+00,\n",
       "        0.00000000e+00,  0.00000000e+00,  0.00000000e+00, -0.00000000e+00,\n",
       "       -0.00000000e+00,  7.25802657e+01,  0.00000000e+00, -0.00000000e+00,\n",
       "       -0.00000000e+00,  0.00000000e+00,  1.26505976e+01,  0.00000000e+00,\n",
       "       -1.14817651e+01,  9.64605472e+02, -0.00000000e+00,  6.72732771e+00])"
      ]
     },
     "execution_count": 176,
     "metadata": {},
     "output_type": "execute_result"
    }
   ],
   "source": [
    "model_lasso.coef_"
   ]
  },
  {
   "cell_type": "code",
   "execution_count": 192,
   "metadata": {},
   "outputs": [
    {
     "data": {
      "text/plain": [
       "ElasticNet(alpha=1000)"
      ]
     },
     "execution_count": 192,
     "metadata": {},
     "output_type": "execute_result"
    }
   ],
   "source": [
    "model_elasticnet = ElasticNet(l1_ratio=0.5, alpha= 1000)\n",
    "model_elasticnet.fit(X,y)"
   ]
  },
  {
   "cell_type": "code",
   "execution_count": 193,
   "metadata": {},
   "outputs": [
    {
     "name": "stdout",
     "output_type": "stream",
     "text": [
      "Train MSE :  2909972.036355215\n"
     ]
    }
   ],
   "source": [
    "print(\"Train MSE : \",mean_squared_error(y, model_elasticnet.predict(X)))"
   ]
  },
  {
   "cell_type": "code",
   "execution_count": 194,
   "metadata": {},
   "outputs": [
    {
     "name": "stdout",
     "output_type": "stream",
     "text": [
      "Test MSE :  1663328.4515055302\n"
     ]
    }
   ],
   "source": [
    "print(\"Test MSE : \", mean_squared_error(y_pred, model_elasticnet.predict(X_test)))"
   ]
  },
  {
   "cell_type": "code",
   "execution_count": 195,
   "metadata": {},
   "outputs": [
    {
     "data": {
      "text/plain": [
       "-1246643.584849685"
      ]
     },
     "execution_count": 195,
     "metadata": {},
     "output_type": "execute_result"
    }
   ],
   "source": [
    "mean_squared_error(y_pred, model_elasticnet.predict(X_test)) - mean_squared_error(y, model_elasticnet.predict(X))"
   ]
  },
  {
   "cell_type": "code",
   "execution_count": null,
   "metadata": {},
   "outputs": [],
   "source": []
  }
 ],
 "metadata": {
  "colab": {
   "collapsed_sections": [],
   "name": "Analytics_vidhya_BigMartSales.ipynb",
   "provenance": []
  },
  "kernelspec": {
   "display_name": "Python 3",
   "language": "python",
   "name": "python3"
  },
  "language_info": {
   "codemirror_mode": {
    "name": "ipython",
    "version": 3
   },
   "file_extension": ".py",
   "mimetype": "text/x-python",
   "name": "python",
   "nbconvert_exporter": "python",
   "pygments_lexer": "ipython3",
   "version": "3.8.5"
  }
 },
 "nbformat": 4,
 "nbformat_minor": 5
}
